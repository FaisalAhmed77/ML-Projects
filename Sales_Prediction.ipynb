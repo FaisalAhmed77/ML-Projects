{
 "cells": [
  {
   "cell_type": "code",
   "execution_count": null,
   "id": "f66a8611",
   "metadata": {},
   "outputs": [],
   "source": []
  },
  {
   "cell_type": "markdown",
   "id": "aa1c0f93",
   "metadata": {},
   "source": [
    "# Advertising data"
   ]
  },
  {
   "cell_type": "code",
   "execution_count": 10,
   "id": "b0810c3c",
   "metadata": {},
   "outputs": [
    {
     "name": "stdout",
     "output_type": "stream",
     "text": [
      "'data.frame':\t200 obs. of  4 variables:\n",
      " $ TV       : num  230.1 44.5 17.2 151.5 180.8 ...\n",
      " $ Radio    : num  37.8 39.3 45.9 41.3 10.8 48.9 32.8 19.6 2.1 2.6 ...\n",
      " $ Newspaper: num  69.2 45.1 69.3 58.5 58.4 75 23.5 11.6 1 21.2 ...\n",
      " $ Sales    : num  22.1 10.4 12 16.5 17.9 7.2 11.8 13.2 4.8 15.6 ...\n"
     ]
    }
   ],
   "source": [
    "library(PerformanceAnalytics)\n",
    "\n",
    "ad <- read.csv(\"advertising.csv\", header = T, sep = \",\")\n",
    "str(ad)"
   ]
  },
  {
   "cell_type": "code",
   "execution_count": 11,
   "id": "a5d7edb3",
   "metadata": {},
   "outputs": [
    {
     "data": {
      "text/html": [
       "<table class=\"dataframe\">\n",
       "<caption>A data.frame: 6 × 4</caption>\n",
       "<thead>\n",
       "\t<tr><th></th><th scope=col>TV</th><th scope=col>Radio</th><th scope=col>Newspaper</th><th scope=col>Sales</th></tr>\n",
       "\t<tr><th></th><th scope=col>&lt;dbl&gt;</th><th scope=col>&lt;dbl&gt;</th><th scope=col>&lt;dbl&gt;</th><th scope=col>&lt;dbl&gt;</th></tr>\n",
       "</thead>\n",
       "<tbody>\n",
       "\t<tr><th scope=row>1</th><td>230.1</td><td>37.8</td><td>69.2</td><td>22.1</td></tr>\n",
       "\t<tr><th scope=row>2</th><td> 44.5</td><td>39.3</td><td>45.1</td><td>10.4</td></tr>\n",
       "\t<tr><th scope=row>3</th><td> 17.2</td><td>45.9</td><td>69.3</td><td>12.0</td></tr>\n",
       "\t<tr><th scope=row>4</th><td>151.5</td><td>41.3</td><td>58.5</td><td>16.5</td></tr>\n",
       "\t<tr><th scope=row>5</th><td>180.8</td><td>10.8</td><td>58.4</td><td>17.9</td></tr>\n",
       "\t<tr><th scope=row>6</th><td>  8.7</td><td>48.9</td><td>75.0</td><td> 7.2</td></tr>\n",
       "</tbody>\n",
       "</table>\n"
      ],
      "text/latex": [
       "A data.frame: 6 × 4\n",
       "\\begin{tabular}{r|llll}\n",
       "  & TV & Radio & Newspaper & Sales\\\\\n",
       "  & <dbl> & <dbl> & <dbl> & <dbl>\\\\\n",
       "\\hline\n",
       "\t1 & 230.1 & 37.8 & 69.2 & 22.1\\\\\n",
       "\t2 &  44.5 & 39.3 & 45.1 & 10.4\\\\\n",
       "\t3 &  17.2 & 45.9 & 69.3 & 12.0\\\\\n",
       "\t4 & 151.5 & 41.3 & 58.5 & 16.5\\\\\n",
       "\t5 & 180.8 & 10.8 & 58.4 & 17.9\\\\\n",
       "\t6 &   8.7 & 48.9 & 75.0 &  7.2\\\\\n",
       "\\end{tabular}\n"
      ],
      "text/markdown": [
       "\n",
       "A data.frame: 6 × 4\n",
       "\n",
       "| <!--/--> | TV &lt;dbl&gt; | Radio &lt;dbl&gt; | Newspaper &lt;dbl&gt; | Sales &lt;dbl&gt; |\n",
       "|---|---|---|---|---|\n",
       "| 1 | 230.1 | 37.8 | 69.2 | 22.1 |\n",
       "| 2 |  44.5 | 39.3 | 45.1 | 10.4 |\n",
       "| 3 |  17.2 | 45.9 | 69.3 | 12.0 |\n",
       "| 4 | 151.5 | 41.3 | 58.5 | 16.5 |\n",
       "| 5 | 180.8 | 10.8 | 58.4 | 17.9 |\n",
       "| 6 |   8.7 | 48.9 | 75.0 |  7.2 |\n",
       "\n"
      ],
      "text/plain": [
       "  TV    Radio Newspaper Sales\n",
       "1 230.1 37.8  69.2      22.1 \n",
       "2  44.5 39.3  45.1      10.4 \n",
       "3  17.2 45.9  69.3      12.0 \n",
       "4 151.5 41.3  58.5      16.5 \n",
       "5 180.8 10.8  58.4      17.9 \n",
       "6   8.7 48.9  75.0       7.2 "
      ]
     },
     "metadata": {},
     "output_type": "display_data"
    }
   ],
   "source": [
    "head(ad)"
   ]
  },
  {
   "cell_type": "markdown",
   "id": "6d34a883",
   "metadata": {},
   "source": [
    "# Plot sales against TV\n"
   ]
  },
  {
   "cell_type": "code",
   "execution_count": 46,
   "id": "18a3e830",
   "metadata": {},
   "outputs": [
    {
     "data": {
      "image/png": "[encoded data removed]",
      "text/plain": [
       "plot without title"
      ]
     },
     "metadata": {
      "image/png": {
       "height": 420,
       "width": 420
      }
     },
     "output_type": "display_data"
    }
   ],
   "source": [
    "plot(Sales ~ TV, data = ad, ylab=\"Sales\", xlab=\"TV\")\n"
   ]
  },
  {
   "cell_type": "code",
   "execution_count": 47,
   "id": "318818ed",
   "metadata": {},
   "outputs": [
    {
     "data": {
      "text/html": [
       "0.901207913302331"
      ],
      "text/latex": [
       "0.901207913302331"
      ],
      "text/markdown": [
       "0.901207913302331"
      ],
      "text/plain": [
       "[1] 0.9012079"
      ]
     },
     "metadata": {},
     "output_type": "display_data"
    }
   ],
   "source": [
    "# Correlation between sales and TV\n",
    "\n",
    " cor(ad$Sales, ad$TV)"
   ]
  },
  {
   "cell_type": "code",
   "execution_count": 49,
   "id": "0f686493",
   "metadata": {},
   "outputs": [],
   "source": [
    "# Fit linear regression of sales on TV\n",
    "fit1 <- lm(Sales ~ TV, data = ad)\n"
   ]
  },
  {
   "cell_type": "code",
   "execution_count": 50,
   "id": "125c0cb6",
   "metadata": {},
   "outputs": [
    {
     "data": {
      "text/plain": [
       "\n",
       "Call:\n",
       "lm(formula = Sales ~ TV, data = ad)\n",
       "\n",
       "Coefficients:\n",
       "(Intercept)           TV  \n",
       "    6.97482      0.05546  \n"
      ]
     },
     "metadata": {},
     "output_type": "display_data"
    }
   ],
   "source": [
    "fit1"
   ]
  },
  {
   "cell_type": "code",
   "execution_count": 51,
   "id": "22b8d49b",
   "metadata": {},
   "outputs": [
    {
     "data": {
      "image/png": "[encoded data removed]",
      "text/plain": [
       "plot without title"
      ]
     },
     "metadata": {
      "image/png": {
       "height": 420,
       "width": 420
      }
     },
     "output_type": "display_data"
    }
   ],
   "source": [
    "# Superimpose the fitted regression line\n",
    "plot(Sales ~ TV, data = ad, ylab=\"Sales\", xlab=\"TV\")\n",
    "abline(fit1, col = 'red')\n"
   ]
  },
  {
   "cell_type": "markdown",
   "id": "833204c1",
   "metadata": {},
   "source": [
    "Q: What is the predicted sales when the TV advertising\n",
    "budget is $200,000?\n",
    "A: ˆf(200) = 6.97482 + 0.05546  ∗ 200 = 16.53, i.e., 16,530 units."
   ]
  },
  {
   "cell_type": "code",
   "execution_count": 52,
   "id": "5201e587",
   "metadata": {},
   "outputs": [
    {
     "data": {
      "text/html": [
       "<table class=\"dataframe\">\n",
       "<caption>A anova: 2 × 5</caption>\n",
       "<thead>\n",
       "\t<tr><th></th><th scope=col>Df</th><th scope=col>Sum Sq</th><th scope=col>Mean Sq</th><th scope=col>F value</th><th scope=col>Pr(&gt;F)</th></tr>\n",
       "\t<tr><th></th><th scope=col>&lt;int&gt;</th><th scope=col>&lt;dbl&gt;</th><th scope=col>&lt;dbl&gt;</th><th scope=col>&lt;dbl&gt;</th><th scope=col>&lt;dbl&gt;</th></tr>\n",
       "</thead>\n",
       "<tbody>\n",
       "\t<tr><th scope=row>TV</th><td>  1</td><td>4512.435</td><td>4512.435170</td><td>856.1767</td><td>7.927912e-74</td></tr>\n",
       "\t<tr><th scope=row>Residuals</th><td>198</td><td>1043.549</td><td>   5.270448</td><td>      NA</td><td>          NA</td></tr>\n",
       "</tbody>\n",
       "</table>\n"
      ],
      "text/latex": [
       "A anova: 2 × 5\n",
       "\\begin{tabular}{r|lllll}\n",
       "  & Df & Sum Sq & Mean Sq & F value & Pr(>F)\\\\\n",
       "  & <int> & <dbl> & <dbl> & <dbl> & <dbl>\\\\\n",
       "\\hline\n",
       "\tTV &   1 & 4512.435 & 4512.435170 & 856.1767 & 7.927912e-74\\\\\n",
       "\tResiduals & 198 & 1043.549 &    5.270448 &       NA &           NA\\\\\n",
       "\\end{tabular}\n"
      ],
      "text/markdown": [
       "\n",
       "A anova: 2 × 5\n",
       "\n",
       "| <!--/--> | Df &lt;int&gt; | Sum Sq &lt;dbl&gt; | Mean Sq &lt;dbl&gt; | F value &lt;dbl&gt; | Pr(&gt;F) &lt;dbl&gt; |\n",
       "|---|---|---|---|---|---|\n",
       "| TV |   1 | 4512.435 | 4512.435170 | 856.1767 | 7.927912e-74 |\n",
       "| Residuals | 198 | 1043.549 |    5.270448 |       NA |           NA |\n",
       "\n"
      ],
      "text/plain": [
       "          Df  Sum Sq   Mean Sq     F value  Pr(>F)      \n",
       "TV          1 4512.435 4512.435170 856.1767 7.927912e-74\n",
       "Residuals 198 1043.549    5.270448       NA           NA"
      ]
     },
     "metadata": {},
     "output_type": "display_data"
    }
   ],
   "source": [
    "anova(fit1)"
   ]
  },
  {
   "cell_type": "code",
   "execution_count": 54,
   "id": "53e49f80",
   "metadata": {},
   "outputs": [],
   "source": [
    "fit2 <- lm(Sales ~ Radio, data = ad)"
   ]
  },
  {
   "cell_type": "code",
   "execution_count": 55,
   "id": "1b6f3fc7",
   "metadata": {},
   "outputs": [
    {
     "data": {
      "text/plain": [
       "\n",
       "Call:\n",
       "lm(formula = Sales ~ Radio, data = ad)\n",
       "\n",
       "Coefficients:\n",
       "(Intercept)        Radio  \n",
       "    12.2357       0.1244  \n"
      ]
     },
     "metadata": {},
     "output_type": "display_data"
    }
   ],
   "source": [
    "fit2"
   ]
  },
  {
   "cell_type": "code",
   "execution_count": 56,
   "id": "e9b71d54",
   "metadata": {},
   "outputs": [
    {
     "data": {
      "image/png": "[encoded data removed]",
      "text/plain": [
       "plot without title"
      ]
     },
     "metadata": {
      "image/png": {
       "height": 420,
       "width": 420
      }
     },
     "output_type": "display_data"
    }
   ],
   "source": [
    "plot(Sales ~ Radio, data = ad, ylab=\"Sales\", xlab=\"Radio\")\n",
    "abline(fit2, col = 'red')\n"
   ]
  },
  {
   "cell_type": "code",
   "execution_count": 57,
   "id": "148af8c0",
   "metadata": {},
   "outputs": [],
   "source": [
    "fit3 <- lm(Sales ~ Newspaper , data = ad)"
   ]
  },
  {
   "cell_type": "code",
   "execution_count": 58,
   "id": "bb9bbc81",
   "metadata": {},
   "outputs": [
    {
     "data": {
      "text/plain": [
       "\n",
       "Call:\n",
       "lm(formula = Sales ~ Newspaper, data = ad)\n",
       "\n",
       "Coefficients:\n",
       "(Intercept)    Newspaper  \n",
       "   13.95955      0.03832  \n"
      ]
     },
     "metadata": {},
     "output_type": "display_data"
    }
   ],
   "source": [
    "fit3"
   ]
  },
  {
   "cell_type": "code",
   "execution_count": 59,
   "id": "22bc24ce",
   "metadata": {},
   "outputs": [
    {
     "data": {
      "image/png": "[encoded data removed]",
      "text/plain": [
       "plot without title"
      ]
     },
     "metadata": {
      "image/png": {
       "height": 420,
       "width": 420
      }
     },
     "output_type": "display_data"
    }
   ],
   "source": [
    "plot(Sales ~ Newspaper, data = ad, ylab=\"Sales\", xlab=\"Radio\")\n",
    "abline(fit3, col = 'red')\n"
   ]
  },
  {
   "cell_type": "code",
   "execution_count": null,
   "id": "a9d752ea",
   "metadata": {},
   "outputs": [],
   "source": []
  },
  {
   "cell_type": "code",
   "execution_count": null,
   "id": "1d363472",
   "metadata": {},
   "outputs": [],
   "source": []
  },
  {
   "cell_type": "code",
   "execution_count": 60,
   "id": "4569c422",
   "metadata": {},
   "outputs": [],
   "source": [
    "# Fit linear regression of sales on all features\n",
    "fit4 <- lm(Sales ~ ., data = ad)\n"
   ]
  },
  {
   "cell_type": "code",
   "execution_count": 61,
   "id": "731a71cd",
   "metadata": {},
   "outputs": [
    {
     "data": {
      "text/plain": [
       "\n",
       "Call:\n",
       "lm(formula = Sales ~ ., data = ad)\n",
       "\n",
       "Coefficients:\n",
       "(Intercept)           TV        Radio    Newspaper  \n",
       "  4.6251241    0.0544458    0.1070012    0.0003357  \n"
      ]
     },
     "metadata": {},
     "output_type": "display_data"
    }
   ],
   "source": [
    "fit4"
   ]
  },
  {
   "cell_type": "code",
   "execution_count": 62,
   "id": "86ac2420",
   "metadata": {},
   "outputs": [
    {
     "data": {
      "text/html": [
       "<table class=\"dataframe\">\n",
       "<caption>A anova: 4 × 5</caption>\n",
       "<thead>\n",
       "\t<tr><th></th><th scope=col>Df</th><th scope=col>Sum Sq</th><th scope=col>Mean Sq</th><th scope=col>F value</th><th scope=col>Pr(&gt;F)</th></tr>\n",
       "\t<tr><th></th><th scope=col>&lt;int&gt;</th><th scope=col>&lt;dbl&gt;</th><th scope=col>&lt;dbl&gt;</th><th scope=col>&lt;dbl&gt;</th><th scope=col>&lt;dbl&gt;</th></tr>\n",
       "</thead>\n",
       "<tbody>\n",
       "\t<tr><th scope=row>TV</th><td>  1</td><td>4.512435e+03</td><td>4.512435e+03</td><td>1.634212e+03</td><td>4.960902e-97</td></tr>\n",
       "\t<tr><th scope=row>Radio</th><td>  1</td><td>5.023383e+02</td><td>5.023383e+02</td><td>1.819255e+02</td><td>9.267678e-30</td></tr>\n",
       "\t<tr><th scope=row>Newspaper</th><td>  1</td><td>9.286051e-03</td><td>9.286051e-03</td><td>3.363012e-03</td><td>9.538145e-01</td></tr>\n",
       "\t<tr><th scope=row>Residuals</th><td>196</td><td>5.412012e+02</td><td>2.761231e+00</td><td>          NA</td><td>          NA</td></tr>\n",
       "</tbody>\n",
       "</table>\n"
      ],
      "text/latex": [
       "A anova: 4 × 5\n",
       "\\begin{tabular}{r|lllll}\n",
       "  & Df & Sum Sq & Mean Sq & F value & Pr(>F)\\\\\n",
       "  & <int> & <dbl> & <dbl> & <dbl> & <dbl>\\\\\n",
       "\\hline\n",
       "\tTV &   1 & 4.512435e+03 & 4.512435e+03 & 1.634212e+03 & 4.960902e-97\\\\\n",
       "\tRadio &   1 & 5.023383e+02 & 5.023383e+02 & 1.819255e+02 & 9.267678e-30\\\\\n",
       "\tNewspaper &   1 & 9.286051e-03 & 9.286051e-03 & 3.363012e-03 & 9.538145e-01\\\\\n",
       "\tResiduals & 196 & 5.412012e+02 & 2.761231e+00 &           NA &           NA\\\\\n",
       "\\end{tabular}\n"
      ],
      "text/markdown": [
       "\n",
       "A anova: 4 × 5\n",
       "\n",
       "| <!--/--> | Df &lt;int&gt; | Sum Sq &lt;dbl&gt; | Mean Sq &lt;dbl&gt; | F value &lt;dbl&gt; | Pr(&gt;F) &lt;dbl&gt; |\n",
       "|---|---|---|---|---|---|\n",
       "| TV |   1 | 4.512435e+03 | 4.512435e+03 | 1.634212e+03 | 4.960902e-97 |\n",
       "| Radio |   1 | 5.023383e+02 | 5.023383e+02 | 1.819255e+02 | 9.267678e-30 |\n",
       "| Newspaper |   1 | 9.286051e-03 | 9.286051e-03 | 3.363012e-03 | 9.538145e-01 |\n",
       "| Residuals | 196 | 5.412012e+02 | 2.761231e+00 |           NA |           NA |\n",
       "\n"
      ],
      "text/plain": [
       "          Df  Sum Sq       Mean Sq      F value      Pr(>F)      \n",
       "TV          1 4.512435e+03 4.512435e+03 1.634212e+03 4.960902e-97\n",
       "Radio       1 5.023383e+02 5.023383e+02 1.819255e+02 9.267678e-30\n",
       "Newspaper   1 9.286051e-03 9.286051e-03 3.363012e-03 9.538145e-01\n",
       "Residuals 196 5.412012e+02 2.761231e+00           NA           NA"
      ]
     },
     "metadata": {},
     "output_type": "display_data"
    }
   ],
   "source": [
    "anova(fit4)"
   ]
  },
  {
   "cell_type": "code",
   "execution_count": 63,
   "id": "5409af03",
   "metadata": {},
   "outputs": [
    {
     "data": {
      "text/plain": [
       "\n",
       "Call:\n",
       "lm(formula = Sales ~ ., data = ad)\n",
       "\n",
       "Residuals:\n",
       "    Min      1Q  Median      3Q     Max \n",
       "-7.3034 -0.8244 -0.0008  0.8976  3.7473 \n",
       "\n",
       "Coefficients:\n",
       "             Estimate Std. Error t value Pr(>|t|)    \n",
       "(Intercept) 4.6251241  0.3075012  15.041   <2e-16 ***\n",
       "TV          0.0544458  0.0013752  39.592   <2e-16 ***\n",
       "Radio       0.1070012  0.0084896  12.604   <2e-16 ***\n",
       "Newspaper   0.0003357  0.0057881   0.058    0.954    \n",
       "---\n",
       "Signif. codes:  0 '***' 0.001 '**' 0.01 '*' 0.05 '.' 0.1 ' ' 1\n",
       "\n",
       "Residual standard error: 1.662 on 196 degrees of freedom\n",
       "Multiple R-squared:  0.9026,\tAdjusted R-squared:  0.9011 \n",
       "F-statistic: 605.4 on 3 and 196 DF,  p-value: < 2.2e-16\n"
      ]
     },
     "metadata": {},
     "output_type": "display_data"
    }
   ],
   "source": [
    "summary(fit4)"
   ]
  },
  {
   "cell_type": "code",
   "execution_count": 64,
   "id": "13370f76",
   "metadata": {},
   "outputs": [
    {
     "data": {
      "text/html": [
       "0.157960026154926"
      ],
      "text/latex": [
       "0.157960026154926"
      ],
      "text/markdown": [
       "0.157960026154926"
      ],
      "text/plain": [
       "[1] 0.15796"
      ]
     },
     "metadata": {},
     "output_type": "display_data"
    }
   ],
   "source": [
    "cor(ad$Sales, ad$Newspaper)"
   ]
  },
  {
   "cell_type": "code",
   "execution_count": null,
   "id": "10cc5e40",
   "metadata": {},
   "outputs": [],
   "source": []
  }
 ],
 "metadata": {
  "kernelspec": {
   "display_name": "R",
   "language": "R",
   "name": "ir"
  },
  "language_info": {
   "codemirror_mode": "r",
   "file_extension": ".r",
   "mimetype": "text/x-r-source",
   "name": "R",
   "pygments_lexer": "r",
   "version": "4.1.0"
  }
 },
 "nbformat": 4,
 "nbformat_minor": 5
}
