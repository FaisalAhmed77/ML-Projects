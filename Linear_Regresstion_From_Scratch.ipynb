{
 "cells": [
  {
   "cell_type": "markdown",
   "id": "c936d5b8",
   "metadata": {},
   "source": [
    "# implement linear regression from scratch for Higher dimentional Datasets"
   ]
  },
  {
   "cell_type": "code",
   "execution_count": 1,
   "id": "5c2602c7",
   "metadata": {},
   "outputs": [],
   "source": [
    "# Loading necessary library\n",
    "\n",
    "import numpy as np\n",
    "import sklearn\n",
    "import pandas as pd\n",
    "import seaborn as sns \n",
    "import matplotlib.pyplot as plt "
   ]
  },
  {
   "cell_type": "code",
   "execution_count": 2,
   "id": "99fcb52e",
   "metadata": {},
   "outputs": [
    {
     "data": {
      "text/html": [
       "<div>\n",
       "<style scoped>\n",
       "    .dataframe tbody tr th:only-of-type {\n",
       "        vertical-align: middle;\n",
       "    }\n",
       "\n",
       "    .dataframe tbody tr th {\n",
       "        vertical-align: top;\n",
       "    }\n",
       "\n",
       "    .dataframe thead th {\n",
       "        text-align: right;\n",
       "    }\n",
       "</style>\n",
       "<table border=\"1\" class=\"dataframe\">\n",
       "  <thead>\n",
       "    <tr style=\"text-align: right;\">\n",
       "      <th></th>\n",
       "      <th>CRIM</th>\n",
       "      <th>ZN</th>\n",
       "      <th>INDUS</th>\n",
       "      <th>CHAS</th>\n",
       "      <th>NOX</th>\n",
       "      <th>RM</th>\n",
       "      <th>AGE</th>\n",
       "      <th>DIS</th>\n",
       "      <th>RAD</th>\n",
       "      <th>TAX</th>\n",
       "      <th>PTRATIO</th>\n",
       "      <th>B</th>\n",
       "      <th>LSTAT</th>\n",
       "      <th>MEDV</th>\n",
       "    </tr>\n",
       "  </thead>\n",
       "  <tbody>\n",
       "    <tr>\n",
       "      <th>0</th>\n",
       "      <td>0.00632</td>\n",
       "      <td>18.0</td>\n",
       "      <td>2.31</td>\n",
       "      <td>0.0</td>\n",
       "      <td>0.538</td>\n",
       "      <td>6.575</td>\n",
       "      <td>65.2</td>\n",
       "      <td>4.0900</td>\n",
       "      <td>1.0</td>\n",
       "      <td>296.0</td>\n",
       "      <td>15.3</td>\n",
       "      <td>396.90</td>\n",
       "      <td>4.98</td>\n",
       "      <td>24.0</td>\n",
       "    </tr>\n",
       "    <tr>\n",
       "      <th>1</th>\n",
       "      <td>0.02731</td>\n",
       "      <td>0.0</td>\n",
       "      <td>7.07</td>\n",
       "      <td>0.0</td>\n",
       "      <td>0.469</td>\n",
       "      <td>6.421</td>\n",
       "      <td>78.9</td>\n",
       "      <td>4.9671</td>\n",
       "      <td>2.0</td>\n",
       "      <td>242.0</td>\n",
       "      <td>17.8</td>\n",
       "      <td>396.90</td>\n",
       "      <td>9.14</td>\n",
       "      <td>21.6</td>\n",
       "    </tr>\n",
       "    <tr>\n",
       "      <th>2</th>\n",
       "      <td>0.02729</td>\n",
       "      <td>0.0</td>\n",
       "      <td>7.07</td>\n",
       "      <td>0.0</td>\n",
       "      <td>0.469</td>\n",
       "      <td>7.185</td>\n",
       "      <td>61.1</td>\n",
       "      <td>4.9671</td>\n",
       "      <td>2.0</td>\n",
       "      <td>242.0</td>\n",
       "      <td>17.8</td>\n",
       "      <td>392.83</td>\n",
       "      <td>4.03</td>\n",
       "      <td>34.7</td>\n",
       "    </tr>\n",
       "    <tr>\n",
       "      <th>3</th>\n",
       "      <td>0.03237</td>\n",
       "      <td>0.0</td>\n",
       "      <td>2.18</td>\n",
       "      <td>0.0</td>\n",
       "      <td>0.458</td>\n",
       "      <td>6.998</td>\n",
       "      <td>45.8</td>\n",
       "      <td>6.0622</td>\n",
       "      <td>3.0</td>\n",
       "      <td>222.0</td>\n",
       "      <td>18.7</td>\n",
       "      <td>394.63</td>\n",
       "      <td>2.94</td>\n",
       "      <td>33.4</td>\n",
       "    </tr>\n",
       "    <tr>\n",
       "      <th>4</th>\n",
       "      <td>0.06905</td>\n",
       "      <td>0.0</td>\n",
       "      <td>2.18</td>\n",
       "      <td>0.0</td>\n",
       "      <td>0.458</td>\n",
       "      <td>7.147</td>\n",
       "      <td>54.2</td>\n",
       "      <td>6.0622</td>\n",
       "      <td>3.0</td>\n",
       "      <td>222.0</td>\n",
       "      <td>18.7</td>\n",
       "      <td>396.90</td>\n",
       "      <td>5.33</td>\n",
       "      <td>36.2</td>\n",
       "    </tr>\n",
       "  </tbody>\n",
       "</table>\n",
       "</div>"
      ],
      "text/plain": [
       "      CRIM    ZN  INDUS  CHAS    NOX     RM   AGE     DIS  RAD    TAX  \\\n",
       "0  0.00632  18.0   2.31   0.0  0.538  6.575  65.2  4.0900  1.0  296.0   \n",
       "1  0.02731   0.0   7.07   0.0  0.469  6.421  78.9  4.9671  2.0  242.0   \n",
       "2  0.02729   0.0   7.07   0.0  0.469  7.185  61.1  4.9671  2.0  242.0   \n",
       "3  0.03237   0.0   2.18   0.0  0.458  6.998  45.8  6.0622  3.0  222.0   \n",
       "4  0.06905   0.0   2.18   0.0  0.458  7.147  54.2  6.0622  3.0  222.0   \n",
       "\n",
       "   PTRATIO       B  LSTAT  MEDV  \n",
       "0     15.3  396.90   4.98  24.0  \n",
       "1     17.8  396.90   9.14  21.6  \n",
       "2     17.8  392.83   4.03  34.7  \n",
       "3     18.7  394.63   2.94  33.4  \n",
       "4     18.7  396.90   5.33  36.2  "
      ]
     },
     "execution_count": 2,
     "metadata": {},
     "output_type": "execute_result"
    }
   ],
   "source": [
    "# Loading Datasets\n",
    "\n",
    "from sklearn.datasets import load_boston\n",
    "boston_dataset = load_boston()\n",
    "data = pd.DataFrame(boston_dataset.data, columns=boston_dataset.feature_names)\n",
    "data['MEDV'] = boston_dataset.target\n",
    "data.head()"
   ]
  },
  {
   "cell_type": "code",
   "execution_count": 3,
   "id": "2b002ed0",
   "metadata": {},
   "outputs": [
    {
     "data": {
      "text/html": [
       "<div>\n",
       "<style scoped>\n",
       "    .dataframe tbody tr th:only-of-type {\n",
       "        vertical-align: middle;\n",
       "    }\n",
       "\n",
       "    .dataframe tbody tr th {\n",
       "        vertical-align: top;\n",
       "    }\n",
       "\n",
       "    .dataframe thead th {\n",
       "        text-align: right;\n",
       "    }\n",
       "</style>\n",
       "<table border=\"1\" class=\"dataframe\">\n",
       "  <thead>\n",
       "    <tr style=\"text-align: right;\">\n",
       "      <th></th>\n",
       "      <th>0</th>\n",
       "      <th>1</th>\n",
       "      <th>2</th>\n",
       "      <th>3</th>\n",
       "      <th>4</th>\n",
       "      <th>5</th>\n",
       "      <th>6</th>\n",
       "      <th>7</th>\n",
       "      <th>8</th>\n",
       "      <th>9</th>\n",
       "      <th>10</th>\n",
       "      <th>11</th>\n",
       "      <th>12</th>\n",
       "      <th>13</th>\n",
       "    </tr>\n",
       "  </thead>\n",
       "  <tbody>\n",
       "    <tr>\n",
       "      <th>0</th>\n",
       "      <td>-0.419782</td>\n",
       "      <td>0.284830</td>\n",
       "      <td>-1.287909</td>\n",
       "      <td>-0.272599</td>\n",
       "      <td>-0.144217</td>\n",
       "      <td>0.413672</td>\n",
       "      <td>-0.120013</td>\n",
       "      <td>0.140214</td>\n",
       "      <td>-0.982843</td>\n",
       "      <td>-0.666608</td>\n",
       "      <td>-1.459000</td>\n",
       "      <td>0.441052</td>\n",
       "      <td>-1.075562</td>\n",
       "      <td>0.159686</td>\n",
       "    </tr>\n",
       "    <tr>\n",
       "      <th>1</th>\n",
       "      <td>-0.417339</td>\n",
       "      <td>-0.487722</td>\n",
       "      <td>-0.593381</td>\n",
       "      <td>-0.272599</td>\n",
       "      <td>-0.740262</td>\n",
       "      <td>0.194274</td>\n",
       "      <td>0.367166</td>\n",
       "      <td>0.557160</td>\n",
       "      <td>-0.867883</td>\n",
       "      <td>-0.987329</td>\n",
       "      <td>-0.303094</td>\n",
       "      <td>0.441052</td>\n",
       "      <td>-0.492439</td>\n",
       "      <td>-0.101524</td>\n",
       "    </tr>\n",
       "    <tr>\n",
       "      <th>2</th>\n",
       "      <td>-0.417342</td>\n",
       "      <td>-0.487722</td>\n",
       "      <td>-0.593381</td>\n",
       "      <td>-0.272599</td>\n",
       "      <td>-0.740262</td>\n",
       "      <td>1.282714</td>\n",
       "      <td>-0.265812</td>\n",
       "      <td>0.557160</td>\n",
       "      <td>-0.867883</td>\n",
       "      <td>-0.987329</td>\n",
       "      <td>-0.303094</td>\n",
       "      <td>0.396427</td>\n",
       "      <td>-1.208727</td>\n",
       "      <td>1.324247</td>\n",
       "    </tr>\n",
       "    <tr>\n",
       "      <th>3</th>\n",
       "      <td>-0.416750</td>\n",
       "      <td>-0.487722</td>\n",
       "      <td>-1.306878</td>\n",
       "      <td>-0.272599</td>\n",
       "      <td>-0.835284</td>\n",
       "      <td>1.016303</td>\n",
       "      <td>-0.809889</td>\n",
       "      <td>1.077737</td>\n",
       "      <td>-0.752922</td>\n",
       "      <td>-1.106115</td>\n",
       "      <td>0.113032</td>\n",
       "      <td>0.416163</td>\n",
       "      <td>-1.361517</td>\n",
       "      <td>1.182758</td>\n",
       "    </tr>\n",
       "    <tr>\n",
       "      <th>4</th>\n",
       "      <td>-0.412482</td>\n",
       "      <td>-0.487722</td>\n",
       "      <td>-1.306878</td>\n",
       "      <td>-0.272599</td>\n",
       "      <td>-0.835284</td>\n",
       "      <td>1.228577</td>\n",
       "      <td>-0.511180</td>\n",
       "      <td>1.077737</td>\n",
       "      <td>-0.752922</td>\n",
       "      <td>-1.106115</td>\n",
       "      <td>0.113032</td>\n",
       "      <td>0.441052</td>\n",
       "      <td>-1.026501</td>\n",
       "      <td>1.487503</td>\n",
       "    </tr>\n",
       "  </tbody>\n",
       "</table>\n",
       "</div>"
      ],
      "text/plain": [
       "         0         1         2         3         4         5         6   \\\n",
       "0 -0.419782  0.284830 -1.287909 -0.272599 -0.144217  0.413672 -0.120013   \n",
       "1 -0.417339 -0.487722 -0.593381 -0.272599 -0.740262  0.194274  0.367166   \n",
       "2 -0.417342 -0.487722 -0.593381 -0.272599 -0.740262  1.282714 -0.265812   \n",
       "3 -0.416750 -0.487722 -1.306878 -0.272599 -0.835284  1.016303 -0.809889   \n",
       "4 -0.412482 -0.487722 -1.306878 -0.272599 -0.835284  1.228577 -0.511180   \n",
       "\n",
       "         7         8         9         10        11        12        13  \n",
       "0  0.140214 -0.982843 -0.666608 -1.459000  0.441052 -1.075562  0.159686  \n",
       "1  0.557160 -0.867883 -0.987329 -0.303094  0.441052 -0.492439 -0.101524  \n",
       "2  0.557160 -0.867883 -0.987329 -0.303094  0.396427 -1.208727  1.324247  \n",
       "3  1.077737 -0.752922 -1.106115  0.113032  0.416163 -1.361517  1.182758  \n",
       "4  1.077737 -0.752922 -1.106115  0.113032  0.441052 -1.026501  1.487503  "
      ]
     },
     "execution_count": 3,
     "metadata": {},
     "output_type": "execute_result"
    }
   ],
   "source": [
    "# Scaling the Datasets\n",
    "\n",
    "from sklearn import preprocessing\n",
    "mm_scaler = preprocessing.MinMaxScaler()\n",
    "sc = preprocessing.StandardScaler()\n",
    "\n",
    "data = pd.DataFrame(sc.fit_transform(data))\n",
    "data.head()"
   ]
  },
  {
   "cell_type": "code",
   "execution_count": 11,
   "id": "83472ce6",
   "metadata": {},
   "outputs": [],
   "source": [
    "# Forming Matrices\n",
    "\n",
    "data = data.iloc[:,0:14]\n",
    "\n",
    "#setting the matrices\n",
    "X = data.iloc[:,0:13] #Feature Set\n",
    "y = data.iloc[:,13].values # Target Values\n",
    "y = y.reshape(data.shape[0],1)"
   ]
  },
  {
   "cell_type": "code",
   "execution_count": 12,
   "id": "1cb1941b",
   "metadata": {},
   "outputs": [],
   "source": [
    "# Train test Spliting\n",
    "\n",
    "from sklearn.model_selection import train_test_split\n",
    "X_train, X_test, y_train, y_test = train_test_split(X, y, test_size = 0.2, random_state=5)"
   ]
  },
  {
   "cell_type": "code",
   "execution_count": 13,
   "id": "aaf112c0",
   "metadata": {},
   "outputs": [],
   "source": [
    "#Initialize weight vector\n",
    "weight = np.zeros([1,13])\n",
    "\n",
    "#set hyper parameters\n",
    "lr = 0.001\n",
    "ite = 10000"
   ]
  },
  {
   "cell_type": "code",
   "execution_count": 14,
   "id": "b87d7db6",
   "metadata": {},
   "outputs": [],
   "source": [
    "# Suare Loss Function\n",
    "\n",
    "def SquaredLoss(X_train,y_train,weight):\n",
    "    Loss = np.power(((np.dot(X_train,weight.T))-y_train),2)\n",
    "    return np.sum(Loss)/(2 * len(X_train))"
   ]
  },
  {
   "cell_type": "code",
   "execution_count": 15,
   "id": "1816f296",
   "metadata": {},
   "outputs": [],
   "source": [
    "# Gradient Descent Method\n",
    "\n",
    "def GradientDescent(X_train,y_train,weight,ite,lr):\n",
    "    cost = np.zeros(ite)\n",
    "    for i in range(ite):\n",
    "        weight = weight - (lr/len(X_train)) * np.sum(X_train * (np.dot(X_train,weight.T) - y_train), axis=0).to_numpy()\n",
    "        cost[i] = SquaredLoss(X_train, y_train, weight)\n",
    "    \n",
    "    return weight,cost\n"
   ]
  },
  {
   "cell_type": "markdown",
   "id": "2974b6e6",
   "metadata": {},
   "source": [
    "# Working on Training Data"
   ]
  },
  {
   "cell_type": "code",
   "execution_count": 16,
   "id": "78fd7b8c",
   "metadata": {},
   "outputs": [],
   "source": [
    "#running the gd and cost function\n",
    "coeff1,cost = GradientDescent(X_train,y_train,weight,ite,lr)"
   ]
  },
  {
   "cell_type": "code",
   "execution_count": 17,
   "id": "e6904b62",
   "metadata": {},
   "outputs": [
    {
     "name": "stdout",
     "output_type": "stream",
     "text": [
      "[[-0.10823098  0.09387089 -0.04608523  0.08206429 -0.15042268  0.28479391\n",
      "  -0.00878396 -0.30059814  0.18850003 -0.08396162 -0.2128864   0.11783418\n",
      "  -0.45010454]]\n"
     ]
    }
   ],
   "source": [
    "print(coeff1)"
   ]
  },
  {
   "cell_type": "code",
   "execution_count": 18,
   "id": "de2b78a1",
   "metadata": {},
   "outputs": [
    {
     "name": "stdout",
     "output_type": "stream",
     "text": [
      "[0.50621369 0.50360007 0.50101418 ... 0.1351532  0.13515288 0.13515256]\n"
     ]
    }
   ],
   "source": [
    "print(cost)"
   ]
  },
  {
   "cell_type": "markdown",
   "id": "db9cdb22",
   "metadata": {},
   "source": [
    "Comment: We see cost is decreasing"
   ]
  },
  {
   "cell_type": "code",
   "execution_count": 19,
   "id": "1370276f",
   "metadata": {},
   "outputs": [
    {
     "name": "stdout",
     "output_type": "stream",
     "text": [
      "Final Loss for training Data:  0.5088553646432538\n"
     ]
    }
   ],
   "source": [
    "Final_Loss = SquaredLoss(X_train,y_train,weight)\n",
    "print(\"Final Loss for training Data: \", Final_Loss)"
   ]
  },
  {
   "cell_type": "markdown",
   "id": "2eeb3ae1",
   "metadata": {},
   "source": [
    "# Working on Test Data"
   ]
  },
  {
   "cell_type": "code",
   "execution_count": 20,
   "id": "77f7474c",
   "metadata": {},
   "outputs": [],
   "source": [
    "coeff1,cost = GradientDescent(X_test,y_test,weight,ite,lr)"
   ]
  },
  {
   "cell_type": "code",
   "execution_count": 21,
   "id": "72b0ba3f",
   "metadata": {},
   "outputs": [
    {
     "name": "stdout",
     "output_type": "stream",
     "text": [
      "[[ 0.07173126  0.03622089  0.01195831  0.05242905 -0.18254342  0.53293053\n",
      "  -0.04210683 -0.21591005  0.04296817 -0.1477724  -0.22005937  0.06295663\n",
      "  -0.11766123]]\n"
     ]
    }
   ],
   "source": [
    "print(coeff1)"
   ]
  },
  {
   "cell_type": "code",
   "execution_count": 22,
   "id": "75bc75b4",
   "metadata": {},
   "outputs": [
    {
     "name": "stdout",
     "output_type": "stream",
     "text": [
      "[0.46198379 0.45907516 0.45619949 ... 0.08502406 0.08502393 0.0850238 ]\n"
     ]
    }
   ],
   "source": [
    "print(cost)"
   ]
  },
  {
   "cell_type": "code",
   "execution_count": 23,
   "id": "859bf475",
   "metadata": {},
   "outputs": [
    {
     "name": "stdout",
     "output_type": "stream",
     "text": [
      "Final Loss for Test data:  0.4649258106286811\n"
     ]
    }
   ],
   "source": [
    "Final_Loss = SquaredLoss(X_test,y_test,weight)\n",
    "print(\"Final Loss for Test data: \", Final_Loss)"
   ]
  },
  {
   "cell_type": "markdown",
   "id": "70d59cb4",
   "metadata": {},
   "source": [
    "# Comment: it seems Model not very bad"
   ]
  },
  {
   "cell_type": "markdown",
   "id": "3e0d60b6",
   "metadata": {},
   "source": [
    "# Using Sklearn Method on Training Data :"
   ]
  },
  {
   "cell_type": "code",
   "execution_count": 24,
   "id": "99840a6c",
   "metadata": {},
   "outputs": [
    {
     "data": {
      "text/plain": [
       "LinearRegression()"
      ]
     },
     "execution_count": 24,
     "metadata": {},
     "output_type": "execute_result"
    }
   ],
   "source": [
    "# Lets now train the model\n",
    "from sklearn.linear_model import LinearRegression\n",
    "lin_model = LinearRegression()\n",
    "lin_model.fit(X_train, y_train)"
   ]
  },
  {
   "cell_type": "code",
   "execution_count": 25,
   "id": "55f1ed7a",
   "metadata": {},
   "outputs": [
    {
     "name": "stdout",
     "output_type": "stream",
     "text": [
      "[[-0.122  0.125  0.001  0.075 -0.201  0.261  0.003 -0.342  0.345 -0.241\n",
      "  -0.224  0.117 -0.461]]\n"
     ]
    }
   ],
   "source": [
    "# Model Evaluation\n",
    "# Lets first evaluate on training set\n",
    "from sklearn.metrics import r2_score\n",
    "\n",
    "def rmse(predictions, targets):\n",
    "    return np.sqrt(((predictions - targets) ** 2).mean())\n",
    "\n",
    "y_pred_train = lin_model.predict(X_train)\n",
    "rmse_train = rmse(y_pred_train, y_train)\n",
    "r2_train = r2_score(y_train, y_pred_train)\n",
    "#print(\"Training RMSE = \" + str(rmse_train))\n",
    "#print(\"Training R2 = \" + str(r2_train))\n",
    "\n",
    "# Let us now evaluate on the test set\n",
    "y_pred_test = lin_model.predict(X_test)\n",
    "rmse_test = rmse(y_pred_test, y_test)\n",
    "r2_test = r2_score(y_test, y_pred_test)\n",
    "#print(\"Test RMSE = \" + str(rmse_test))\n",
    "#print(\"Test R2 = \" + str(r2_test))\n",
    "\n",
    "# Finally, let us see the learnt weights!\n",
    "np.set_printoptions(precision=3)\n",
    "print(lin_model.coef_)"
   ]
  },
  {
   "cell_type": "markdown",
   "id": "3d9084be",
   "metadata": {},
   "source": [
    "Comment: It is almost closed to training Model worked on before."
   ]
  },
  {
   "cell_type": "markdown",
   "id": "229f632d",
   "metadata": {},
   "source": [
    "# Working on Test data by Sklearn"
   ]
  },
  {
   "cell_type": "code",
   "execution_count": 26,
   "id": "fdf36656",
   "metadata": {},
   "outputs": [
    {
     "name": "stdout",
     "output_type": "stream",
     "text": [
      "[[ 0.068  0.046  0.043  0.048 -0.196  0.545 -0.068 -0.231  0.092 -0.202\n",
      "  -0.228  0.065 -0.095]]\n"
     ]
    }
   ],
   "source": [
    "lin_model.fit(X_test, y_test)\n",
    "\n",
    "np.set_printoptions(precision=3)\n",
    "print(lin_model.coef_)\n"
   ]
  },
  {
   "cell_type": "markdown",
   "id": "181545e2",
   "metadata": {},
   "source": [
    "Comment: It is also almost closed to  Test model worked on before."
   ]
  },
  {
   "cell_type": "code",
   "execution_count": null,
   "id": "c923e98b",
   "metadata": {},
   "outputs": [],
   "source": []
  }
 ],
 "metadata": {
  "kernelspec": {
   "display_name": "Python 3 (ipykernel)",
   "language": "python",
   "name": "python3"
  },
  "language_info": {
   "codemirror_mode": {
    "name": "ipython",
    "version": 3
   },
   "file_extension": ".py",
   "mimetype": "text/x-python",
   "name": "python",
   "nbconvert_exporter": "python",
   "pygments_lexer": "ipython3",
   "version": "3.9.1"
  }
 },
 "nbformat": 4,
 "nbformat_minor": 5
}
