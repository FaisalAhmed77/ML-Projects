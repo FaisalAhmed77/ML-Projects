{
 "cells": [
  {
   "cell_type": "markdown",
   "id": "af14c25b",
   "metadata": {},
   "source": [
    "## Load Data"
   ]
  },
  {
   "cell_type": "code",
   "execution_count": 1,
   "id": "42493d73",
   "metadata": {},
   "outputs": [
    {
     "data": {
      "text/html": [
       "<table class=\"dataframe\">\n",
       "<caption>A data.frame: 1000 × 21</caption>\n",
       "<thead>\n",
       "\t<tr><th scope=col>Default</th><th scope=col>checkingstatus1</th><th scope=col>duration</th><th scope=col>history</th><th scope=col>purpose</th><th scope=col>amount</th><th scope=col>savings</th><th scope=col>employ</th><th scope=col>installment</th><th scope=col>status</th><th scope=col>...</th><th scope=col>residence</th><th scope=col>property</th><th scope=col>age</th><th scope=col>otherplans</th><th scope=col>housing</th><th scope=col>cards</th><th scope=col>job</th><th scope=col>liable</th><th scope=col>tele</th><th scope=col>foreign</th></tr>\n",
       "\t<tr><th scope=col>&lt;int&gt;</th><th scope=col>&lt;chr&gt;</th><th scope=col>&lt;int&gt;</th><th scope=col>&lt;chr&gt;</th><th scope=col>&lt;chr&gt;</th><th scope=col>&lt;int&gt;</th><th scope=col>&lt;chr&gt;</th><th scope=col>&lt;chr&gt;</th><th scope=col>&lt;int&gt;</th><th scope=col>&lt;chr&gt;</th><th scope=col>...</th><th scope=col>&lt;int&gt;</th><th scope=col>&lt;chr&gt;</th><th scope=col>&lt;int&gt;</th><th scope=col>&lt;chr&gt;</th><th scope=col>&lt;chr&gt;</th><th scope=col>&lt;int&gt;</th><th scope=col>&lt;chr&gt;</th><th scope=col>&lt;int&gt;</th><th scope=col>&lt;chr&gt;</th><th scope=col>&lt;chr&gt;</th></tr>\n",
       "</thead>\n",
       "<tbody>\n",
       "\t<tr><td>0</td><td>A11</td><td> 6</td><td>A34</td><td>A43</td><td> 1169</td><td>A65</td><td>A75</td><td>4</td><td>A93</td><td>...</td><td>4</td><td>A121</td><td>67</td><td>A143</td><td>A152</td><td>2</td><td>A173</td><td>1</td><td>A192</td><td>A201</td></tr>\n",
       "\t<tr><td>1</td><td>A12</td><td>48</td><td>A32</td><td>A43</td><td> 5951</td><td>A61</td><td>A73</td><td>2</td><td>A92</td><td>...</td><td>2</td><td>A121</td><td>22</td><td>A143</td><td>A152</td><td>1</td><td>A173</td><td>1</td><td>A191</td><td>A201</td></tr>\n",
       "\t<tr><td>0</td><td>A14</td><td>12</td><td>A34</td><td>A46</td><td> 2096</td><td>A61</td><td>A74</td><td>2</td><td>A93</td><td>...</td><td>3</td><td>A121</td><td>49</td><td>A143</td><td>A152</td><td>1</td><td>A172</td><td>2</td><td>A191</td><td>A201</td></tr>\n",
       "\t<tr><td>0</td><td>A11</td><td>42</td><td>A32</td><td>A42</td><td> 7882</td><td>A61</td><td>A74</td><td>2</td><td>A93</td><td>...</td><td>4</td><td>A122</td><td>45</td><td>A143</td><td>A153</td><td>1</td><td>A173</td><td>2</td><td>A191</td><td>A201</td></tr>\n",
       "\t<tr><td>1</td><td>A11</td><td>24</td><td>A33</td><td>A40</td><td> 4870</td><td>A61</td><td>A73</td><td>3</td><td>A93</td><td>...</td><td>4</td><td>A124</td><td>53</td><td>A143</td><td>A153</td><td>2</td><td>A173</td><td>2</td><td>A191</td><td>A201</td></tr>\n",
       "\t<tr><td>0</td><td>A14</td><td>36</td><td>A32</td><td>A46</td><td> 9055</td><td>A65</td><td>A73</td><td>2</td><td>A93</td><td>...</td><td>4</td><td>A124</td><td>35</td><td>A143</td><td>A153</td><td>1</td><td>A172</td><td>2</td><td>A192</td><td>A201</td></tr>\n",
       "\t<tr><td>0</td><td>A14</td><td>24</td><td>A32</td><td>A42</td><td> 2835</td><td>A63</td><td>A75</td><td>3</td><td>A93</td><td>...</td><td>4</td><td>A122</td><td>53</td><td>A143</td><td>A152</td><td>1</td><td>A173</td><td>1</td><td>A191</td><td>A201</td></tr>\n",
       "\t<tr><td>0</td><td>A12</td><td>36</td><td>A32</td><td>A41</td><td> 6948</td><td>A61</td><td>A73</td><td>2</td><td>A93</td><td>...</td><td>2</td><td>A123</td><td>35</td><td>A143</td><td>A151</td><td>1</td><td>A174</td><td>1</td><td>A192</td><td>A201</td></tr>\n",
       "\t<tr><td>0</td><td>A14</td><td>12</td><td>A32</td><td>A43</td><td> 3059</td><td>A64</td><td>A74</td><td>2</td><td>A91</td><td>...</td><td>4</td><td>A121</td><td>61</td><td>A143</td><td>A152</td><td>1</td><td>A172</td><td>1</td><td>A191</td><td>A201</td></tr>\n",
       "\t<tr><td>1</td><td>A12</td><td>30</td><td>A34</td><td>A40</td><td> 5234</td><td>A61</td><td>A71</td><td>4</td><td>A94</td><td>...</td><td>2</td><td>A123</td><td>28</td><td>A143</td><td>A152</td><td>2</td><td>A174</td><td>1</td><td>A191</td><td>A201</td></tr>\n",
       "\t<tr><td>1</td><td>A12</td><td>12</td><td>A32</td><td>A40</td><td> 1295</td><td>A61</td><td>A72</td><td>3</td><td>A92</td><td>...</td><td>1</td><td>A123</td><td>25</td><td>A143</td><td>A151</td><td>1</td><td>A173</td><td>1</td><td>A191</td><td>A201</td></tr>\n",
       "\t<tr><td>1</td><td>A11</td><td>48</td><td>A32</td><td>A49</td><td> 4308</td><td>A61</td><td>A72</td><td>3</td><td>A92</td><td>...</td><td>4</td><td>A122</td><td>24</td><td>A143</td><td>A151</td><td>1</td><td>A173</td><td>1</td><td>A191</td><td>A201</td></tr>\n",
       "\t<tr><td>0</td><td>A12</td><td>12</td><td>A32</td><td>A43</td><td> 1567</td><td>A61</td><td>A73</td><td>1</td><td>A92</td><td>...</td><td>1</td><td>A123</td><td>22</td><td>A143</td><td>A152</td><td>1</td><td>A173</td><td>1</td><td>A192</td><td>A201</td></tr>\n",
       "\t<tr><td>1</td><td>A11</td><td>24</td><td>A34</td><td>A40</td><td> 1199</td><td>A61</td><td>A75</td><td>4</td><td>A93</td><td>...</td><td>4</td><td>A123</td><td>60</td><td>A143</td><td>A152</td><td>2</td><td>A172</td><td>1</td><td>A191</td><td>A201</td></tr>\n",
       "\t<tr><td>0</td><td>A11</td><td>15</td><td>A32</td><td>A40</td><td> 1403</td><td>A61</td><td>A73</td><td>2</td><td>A92</td><td>...</td><td>4</td><td>A123</td><td>28</td><td>A143</td><td>A151</td><td>1</td><td>A173</td><td>1</td><td>A191</td><td>A201</td></tr>\n",
       "\t<tr><td>1</td><td>A11</td><td>24</td><td>A32</td><td>A43</td><td> 1282</td><td>A62</td><td>A73</td><td>4</td><td>A92</td><td>...</td><td>2</td><td>A123</td><td>32</td><td>A143</td><td>A152</td><td>1</td><td>A172</td><td>1</td><td>A191</td><td>A201</td></tr>\n",
       "\t<tr><td>0</td><td>A14</td><td>24</td><td>A34</td><td>A43</td><td> 2424</td><td>A65</td><td>A75</td><td>4</td><td>A93</td><td>...</td><td>4</td><td>A122</td><td>53</td><td>A143</td><td>A152</td><td>2</td><td>A173</td><td>1</td><td>A191</td><td>A201</td></tr>\n",
       "\t<tr><td>0</td><td>A11</td><td>30</td><td>A30</td><td>A49</td><td> 8072</td><td>A65</td><td>A72</td><td>2</td><td>A93</td><td>...</td><td>3</td><td>A123</td><td>25</td><td>A141</td><td>A152</td><td>3</td><td>A173</td><td>1</td><td>A191</td><td>A201</td></tr>\n",
       "\t<tr><td>1</td><td>A12</td><td>24</td><td>A32</td><td>A41</td><td>12579</td><td>A61</td><td>A75</td><td>4</td><td>A92</td><td>...</td><td>2</td><td>A124</td><td>44</td><td>A143</td><td>A153</td><td>1</td><td>A174</td><td>1</td><td>A192</td><td>A201</td></tr>\n",
       "\t<tr><td>0</td><td>A14</td><td>24</td><td>A32</td><td>A43</td><td> 3430</td><td>A63</td><td>A75</td><td>3</td><td>A93</td><td>...</td><td>2</td><td>A123</td><td>31</td><td>A143</td><td>A152</td><td>1</td><td>A173</td><td>2</td><td>A192</td><td>A201</td></tr>\n",
       "\t<tr><td>0</td><td>A14</td><td> 9</td><td>A34</td><td>A40</td><td> 2134</td><td>A61</td><td>A73</td><td>4</td><td>A93</td><td>...</td><td>4</td><td>A123</td><td>48</td><td>A143</td><td>A152</td><td>3</td><td>A173</td><td>1</td><td>A192</td><td>A201</td></tr>\n",
       "\t<tr><td>0</td><td>A11</td><td> 6</td><td>A32</td><td>A43</td><td> 2647</td><td>A63</td><td>A73</td><td>2</td><td>A93</td><td>...</td><td>3</td><td>A121</td><td>44</td><td>A143</td><td>A151</td><td>1</td><td>A173</td><td>2</td><td>A191</td><td>A201</td></tr>\n",
       "\t<tr><td>0</td><td>A11</td><td>10</td><td>A34</td><td>A40</td><td> 2241</td><td>A61</td><td>A72</td><td>1</td><td>A93</td><td>...</td><td>3</td><td>A121</td><td>48</td><td>A143</td><td>A151</td><td>2</td><td>A172</td><td>2</td><td>A191</td><td>A202</td></tr>\n",
       "\t<tr><td>0</td><td>A12</td><td>12</td><td>A34</td><td>A41</td><td> 1804</td><td>A62</td><td>A72</td><td>3</td><td>A93</td><td>...</td><td>4</td><td>A122</td><td>44</td><td>A143</td><td>A152</td><td>1</td><td>A173</td><td>1</td><td>A191</td><td>A201</td></tr>\n",
       "\t<tr><td>0</td><td>A14</td><td>10</td><td>A34</td><td>A42</td><td> 2069</td><td>A65</td><td>A73</td><td>2</td><td>A94</td><td>...</td><td>1</td><td>A123</td><td>26</td><td>A143</td><td>A152</td><td>2</td><td>A173</td><td>1</td><td>A191</td><td>A202</td></tr>\n",
       "\t<tr><td>0</td><td>A11</td><td> 6</td><td>A32</td><td>A42</td><td> 1374</td><td>A61</td><td>A73</td><td>1</td><td>A93</td><td>...</td><td>2</td><td>A121</td><td>36</td><td>A141</td><td>A152</td><td>1</td><td>A172</td><td>1</td><td>A192</td><td>A201</td></tr>\n",
       "\t<tr><td>0</td><td>A14</td><td> 6</td><td>A30</td><td>A43</td><td>  426</td><td>A61</td><td>A75</td><td>4</td><td>A94</td><td>...</td><td>4</td><td>A123</td><td>39</td><td>A143</td><td>A152</td><td>1</td><td>A172</td><td>1</td><td>A191</td><td>A201</td></tr>\n",
       "\t<tr><td>0</td><td>A13</td><td>12</td><td>A31</td><td>A43</td><td>  409</td><td>A64</td><td>A73</td><td>3</td><td>A92</td><td>...</td><td>3</td><td>A121</td><td>42</td><td>A143</td><td>A151</td><td>2</td><td>A173</td><td>1</td><td>A191</td><td>A201</td></tr>\n",
       "\t<tr><td>0</td><td>A12</td><td> 7</td><td>A32</td><td>A43</td><td> 2415</td><td>A61</td><td>A73</td><td>3</td><td>A93</td><td>...</td><td>2</td><td>A121</td><td>34</td><td>A143</td><td>A152</td><td>1</td><td>A173</td><td>1</td><td>A191</td><td>A201</td></tr>\n",
       "\t<tr><td>1</td><td>A11</td><td>60</td><td>A33</td><td>A49</td><td> 6836</td><td>A61</td><td>A75</td><td>3</td><td>A93</td><td>...</td><td>4</td><td>A124</td><td>63</td><td>A143</td><td>A152</td><td>2</td><td>A173</td><td>1</td><td>A192</td><td>A201</td></tr>\n",
       "\t<tr><td>...</td><td>...</td><td>...</td><td>...</td><td>...</td><td>...</td><td>...</td><td>...</td><td>...</td><td>...</td><td></td><td>...</td><td>...</td><td>...</td><td>...</td><td>...</td><td>...</td><td>...</td><td>...</td><td>...</td><td>...</td></tr>\n",
       "\t<tr><td>0</td><td>A12</td><td>15</td><td>A32</td><td>A45</td><td>1514</td><td>A62</td><td>A73</td><td>4</td><td>A93</td><td>...</td><td>2</td><td>A121</td><td>22</td><td>A143</td><td>A152</td><td>1</td><td>A173</td><td>1</td><td>A191</td><td>A201</td></tr>\n",
       "\t<tr><td>0</td><td>A14</td><td>24</td><td>A32</td><td>A40</td><td>7393</td><td>A61</td><td>A73</td><td>1</td><td>A93</td><td>...</td><td>4</td><td>A122</td><td>43</td><td>A143</td><td>A152</td><td>1</td><td>A172</td><td>2</td><td>A191</td><td>A201</td></tr>\n",
       "\t<tr><td>1</td><td>A11</td><td>24</td><td>A31</td><td>A40</td><td>1193</td><td>A61</td><td>A71</td><td>1</td><td>A92</td><td>...</td><td>4</td><td>A124</td><td>29</td><td>A143</td><td>A151</td><td>2</td><td>A171</td><td>1</td><td>A191</td><td>A201</td></tr>\n",
       "\t<tr><td>1</td><td>A11</td><td>60</td><td>A32</td><td>A49</td><td>7297</td><td>A61</td><td>A75</td><td>4</td><td>A93</td><td>...</td><td>4</td><td>A124</td><td>36</td><td>A143</td><td>A151</td><td>1</td><td>A173</td><td>1</td><td>A191</td><td>A201</td></tr>\n",
       "\t<tr><td>0</td><td>A14</td><td>30</td><td>A34</td><td>A43</td><td>2831</td><td>A61</td><td>A73</td><td>4</td><td>A92</td><td>...</td><td>2</td><td>A123</td><td>33</td><td>A143</td><td>A152</td><td>1</td><td>A173</td><td>1</td><td>A192</td><td>A201</td></tr>\n",
       "\t<tr><td>0</td><td>A13</td><td>24</td><td>A32</td><td>A43</td><td>1258</td><td>A63</td><td>A73</td><td>3</td><td>A92</td><td>...</td><td>3</td><td>A123</td><td>57</td><td>A143</td><td>A152</td><td>1</td><td>A172</td><td>1</td><td>A191</td><td>A201</td></tr>\n",
       "\t<tr><td>0</td><td>A12</td><td> 6</td><td>A32</td><td>A43</td><td> 753</td><td>A61</td><td>A73</td><td>2</td><td>A92</td><td>...</td><td>3</td><td>A121</td><td>64</td><td>A143</td><td>A152</td><td>1</td><td>A173</td><td>1</td><td>A191</td><td>A201</td></tr>\n",
       "\t<tr><td>0</td><td>A12</td><td>18</td><td>A33</td><td>A49</td><td>2427</td><td>A65</td><td>A75</td><td>4</td><td>A93</td><td>...</td><td>2</td><td>A122</td><td>42</td><td>A143</td><td>A152</td><td>2</td><td>A173</td><td>1</td><td>A191</td><td>A201</td></tr>\n",
       "\t<tr><td>1</td><td>A14</td><td>24</td><td>A33</td><td>A40</td><td>2538</td><td>A61</td><td>A75</td><td>4</td><td>A93</td><td>...</td><td>4</td><td>A123</td><td>47</td><td>A143</td><td>A152</td><td>2</td><td>A172</td><td>2</td><td>A191</td><td>A201</td></tr>\n",
       "\t<tr><td>1</td><td>A12</td><td>15</td><td>A31</td><td>A40</td><td>1264</td><td>A62</td><td>A73</td><td>2</td><td>A94</td><td>...</td><td>2</td><td>A122</td><td>25</td><td>A143</td><td>A151</td><td>1</td><td>A173</td><td>1</td><td>A191</td><td>A201</td></tr>\n",
       "\t<tr><td>1</td><td>A12</td><td>30</td><td>A34</td><td>A42</td><td>8386</td><td>A61</td><td>A74</td><td>2</td><td>A93</td><td>...</td><td>2</td><td>A122</td><td>49</td><td>A143</td><td>A152</td><td>1</td><td>A173</td><td>1</td><td>A191</td><td>A201</td></tr>\n",
       "\t<tr><td>1</td><td>A14</td><td>48</td><td>A32</td><td>A49</td><td>4844</td><td>A61</td><td>A71</td><td>3</td><td>A93</td><td>...</td><td>2</td><td>A123</td><td>33</td><td>A141</td><td>A151</td><td>1</td><td>A174</td><td>1</td><td>A192</td><td>A201</td></tr>\n",
       "\t<tr><td>0</td><td>A13</td><td>21</td><td>A32</td><td>A40</td><td>2923</td><td>A62</td><td>A73</td><td>1</td><td>A92</td><td>...</td><td>1</td><td>A123</td><td>28</td><td>A141</td><td>A152</td><td>1</td><td>A174</td><td>1</td><td>A192</td><td>A201</td></tr>\n",
       "\t<tr><td>1</td><td>A11</td><td>36</td><td>A32</td><td>A41</td><td>8229</td><td>A61</td><td>A73</td><td>2</td><td>A93</td><td>...</td><td>2</td><td>A122</td><td>26</td><td>A143</td><td>A152</td><td>1</td><td>A173</td><td>2</td><td>A191</td><td>A201</td></tr>\n",
       "\t<tr><td>0</td><td>A14</td><td>24</td><td>A34</td><td>A42</td><td>2028</td><td>A61</td><td>A74</td><td>2</td><td>A93</td><td>...</td><td>2</td><td>A122</td><td>30</td><td>A143</td><td>A152</td><td>2</td><td>A172</td><td>1</td><td>A191</td><td>A201</td></tr>\n",
       "\t<tr><td>0</td><td>A11</td><td>15</td><td>A34</td><td>A42</td><td>1433</td><td>A61</td><td>A73</td><td>4</td><td>A92</td><td>...</td><td>3</td><td>A122</td><td>25</td><td>A143</td><td>A151</td><td>2</td><td>A173</td><td>1</td><td>A191</td><td>A201</td></tr>\n",
       "\t<tr><td>0</td><td>A13</td><td>42</td><td>A30</td><td>A49</td><td>6289</td><td>A61</td><td>A72</td><td>2</td><td>A91</td><td>...</td><td>1</td><td>A122</td><td>33</td><td>A143</td><td>A152</td><td>2</td><td>A173</td><td>1</td><td>A191</td><td>A201</td></tr>\n",
       "\t<tr><td>0</td><td>A14</td><td>13</td><td>A32</td><td>A43</td><td>1409</td><td>A62</td><td>A71</td><td>2</td><td>A92</td><td>...</td><td>4</td><td>A121</td><td>64</td><td>A143</td><td>A152</td><td>1</td><td>A173</td><td>1</td><td>A191</td><td>A201</td></tr>\n",
       "\t<tr><td>0</td><td>A11</td><td>24</td><td>A32</td><td>A41</td><td>6579</td><td>A61</td><td>A71</td><td>4</td><td>A93</td><td>...</td><td>2</td><td>A124</td><td>29</td><td>A143</td><td>A153</td><td>1</td><td>A174</td><td>1</td><td>A192</td><td>A201</td></tr>\n",
       "\t<tr><td>0</td><td>A12</td><td>24</td><td>A34</td><td>A43</td><td>1743</td><td>A61</td><td>A75</td><td>4</td><td>A93</td><td>...</td><td>2</td><td>A122</td><td>48</td><td>A143</td><td>A152</td><td>2</td><td>A172</td><td>1</td><td>A191</td><td>A201</td></tr>\n",
       "\t<tr><td>0</td><td>A14</td><td>12</td><td>A34</td><td>A46</td><td>3565</td><td>A65</td><td>A72</td><td>2</td><td>A93</td><td>...</td><td>1</td><td>A122</td><td>37</td><td>A143</td><td>A152</td><td>2</td><td>A172</td><td>2</td><td>A191</td><td>A201</td></tr>\n",
       "\t<tr><td>0</td><td>A14</td><td>15</td><td>A31</td><td>A43</td><td>1569</td><td>A62</td><td>A75</td><td>4</td><td>A93</td><td>...</td><td>4</td><td>A123</td><td>34</td><td>A141</td><td>A152</td><td>1</td><td>A172</td><td>2</td><td>A191</td><td>A201</td></tr>\n",
       "\t<tr><td>0</td><td>A11</td><td>18</td><td>A32</td><td>A43</td><td>1936</td><td>A65</td><td>A74</td><td>2</td><td>A94</td><td>...</td><td>4</td><td>A123</td><td>23</td><td>A143</td><td>A151</td><td>2</td><td>A172</td><td>1</td><td>A191</td><td>A201</td></tr>\n",
       "\t<tr><td>0</td><td>A11</td><td>36</td><td>A32</td><td>A42</td><td>3959</td><td>A61</td><td>A71</td><td>4</td><td>A93</td><td>...</td><td>3</td><td>A122</td><td>30</td><td>A143</td><td>A152</td><td>1</td><td>A174</td><td>1</td><td>A192</td><td>A201</td></tr>\n",
       "\t<tr><td>0</td><td>A14</td><td>12</td><td>A32</td><td>A40</td><td>2390</td><td>A65</td><td>A75</td><td>4</td><td>A93</td><td>...</td><td>3</td><td>A123</td><td>50</td><td>A143</td><td>A152</td><td>1</td><td>A173</td><td>1</td><td>A192</td><td>A201</td></tr>\n",
       "\t<tr><td>0</td><td>A14</td><td>12</td><td>A32</td><td>A42</td><td>1736</td><td>A61</td><td>A74</td><td>3</td><td>A92</td><td>...</td><td>4</td><td>A121</td><td>31</td><td>A143</td><td>A152</td><td>1</td><td>A172</td><td>1</td><td>A191</td><td>A201</td></tr>\n",
       "\t<tr><td>0</td><td>A11</td><td>30</td><td>A32</td><td>A41</td><td>3857</td><td>A61</td><td>A73</td><td>4</td><td>A91</td><td>...</td><td>4</td><td>A122</td><td>40</td><td>A143</td><td>A152</td><td>1</td><td>A174</td><td>1</td><td>A192</td><td>A201</td></tr>\n",
       "\t<tr><td>0</td><td>A14</td><td>12</td><td>A32</td><td>A43</td><td> 804</td><td>A61</td><td>A75</td><td>4</td><td>A93</td><td>...</td><td>4</td><td>A123</td><td>38</td><td>A143</td><td>A152</td><td>1</td><td>A173</td><td>1</td><td>A191</td><td>A201</td></tr>\n",
       "\t<tr><td>1</td><td>A11</td><td>45</td><td>A32</td><td>A43</td><td>1845</td><td>A61</td><td>A73</td><td>4</td><td>A93</td><td>...</td><td>4</td><td>A124</td><td>23</td><td>A143</td><td>A153</td><td>1</td><td>A173</td><td>1</td><td>A192</td><td>A201</td></tr>\n",
       "\t<tr><td>0</td><td>A12</td><td>45</td><td>A34</td><td>A41</td><td>4576</td><td>A62</td><td>A71</td><td>3</td><td>A93</td><td>...</td><td>4</td><td>A123</td><td>27</td><td>A143</td><td>A152</td><td>1</td><td>A173</td><td>1</td><td>A191</td><td>A201</td></tr>\n",
       "</tbody>\n",
       "</table>\n"
      ],
      "text/latex": [
       "A data.frame: 1000 × 21\n",
       "\\begin{tabular}{lllllllllllllllllllll}\n",
       " Default & checkingstatus1 & duration & history & purpose & amount & savings & employ & installment & status & ... & residence & property & age & otherplans & housing & cards & job & liable & tele & foreign\\\\\n",
       " <int> & <chr> & <int> & <chr> & <chr> & <int> & <chr> & <chr> & <int> & <chr> & ... & <int> & <chr> & <int> & <chr> & <chr> & <int> & <chr> & <int> & <chr> & <chr>\\\\\n",
       "\\hline\n",
       "\t 0 & A11 &  6 & A34 & A43 &  1169 & A65 & A75 & 4 & A93 & ... & 4 & A121 & 67 & A143 & A152 & 2 & A173 & 1 & A192 & A201\\\\\n",
       "\t 1 & A12 & 48 & A32 & A43 &  5951 & A61 & A73 & 2 & A92 & ... & 2 & A121 & 22 & A143 & A152 & 1 & A173 & 1 & A191 & A201\\\\\n",
       "\t 0 & A14 & 12 & A34 & A46 &  2096 & A61 & A74 & 2 & A93 & ... & 3 & A121 & 49 & A143 & A152 & 1 & A172 & 2 & A191 & A201\\\\\n",
       "\t 0 & A11 & 42 & A32 & A42 &  7882 & A61 & A74 & 2 & A93 & ... & 4 & A122 & 45 & A143 & A153 & 1 & A173 & 2 & A191 & A201\\\\\n",
       "\t 1 & A11 & 24 & A33 & A40 &  4870 & A61 & A73 & 3 & A93 & ... & 4 & A124 & 53 & A143 & A153 & 2 & A173 & 2 & A191 & A201\\\\\n",
       "\t 0 & A14 & 36 & A32 & A46 &  9055 & A65 & A73 & 2 & A93 & ... & 4 & A124 & 35 & A143 & A153 & 1 & A172 & 2 & A192 & A201\\\\\n",
       "\t 0 & A14 & 24 & A32 & A42 &  2835 & A63 & A75 & 3 & A93 & ... & 4 & A122 & 53 & A143 & A152 & 1 & A173 & 1 & A191 & A201\\\\\n",
       "\t 0 & A12 & 36 & A32 & A41 &  6948 & A61 & A73 & 2 & A93 & ... & 2 & A123 & 35 & A143 & A151 & 1 & A174 & 1 & A192 & A201\\\\\n",
       "\t 0 & A14 & 12 & A32 & A43 &  3059 & A64 & A74 & 2 & A91 & ... & 4 & A121 & 61 & A143 & A152 & 1 & A172 & 1 & A191 & A201\\\\\n",
       "\t 1 & A12 & 30 & A34 & A40 &  5234 & A61 & A71 & 4 & A94 & ... & 2 & A123 & 28 & A143 & A152 & 2 & A174 & 1 & A191 & A201\\\\\n",
       "\t 1 & A12 & 12 & A32 & A40 &  1295 & A61 & A72 & 3 & A92 & ... & 1 & A123 & 25 & A143 & A151 & 1 & A173 & 1 & A191 & A201\\\\\n",
       "\t 1 & A11 & 48 & A32 & A49 &  4308 & A61 & A72 & 3 & A92 & ... & 4 & A122 & 24 & A143 & A151 & 1 & A173 & 1 & A191 & A201\\\\\n",
       "\t 0 & A12 & 12 & A32 & A43 &  1567 & A61 & A73 & 1 & A92 & ... & 1 & A123 & 22 & A143 & A152 & 1 & A173 & 1 & A192 & A201\\\\\n",
       "\t 1 & A11 & 24 & A34 & A40 &  1199 & A61 & A75 & 4 & A93 & ... & 4 & A123 & 60 & A143 & A152 & 2 & A172 & 1 & A191 & A201\\\\\n",
       "\t 0 & A11 & 15 & A32 & A40 &  1403 & A61 & A73 & 2 & A92 & ... & 4 & A123 & 28 & A143 & A151 & 1 & A173 & 1 & A191 & A201\\\\\n",
       "\t 1 & A11 & 24 & A32 & A43 &  1282 & A62 & A73 & 4 & A92 & ... & 2 & A123 & 32 & A143 & A152 & 1 & A172 & 1 & A191 & A201\\\\\n",
       "\t 0 & A14 & 24 & A34 & A43 &  2424 & A65 & A75 & 4 & A93 & ... & 4 & A122 & 53 & A143 & A152 & 2 & A173 & 1 & A191 & A201\\\\\n",
       "\t 0 & A11 & 30 & A30 & A49 &  8072 & A65 & A72 & 2 & A93 & ... & 3 & A123 & 25 & A141 & A152 & 3 & A173 & 1 & A191 & A201\\\\\n",
       "\t 1 & A12 & 24 & A32 & A41 & 12579 & A61 & A75 & 4 & A92 & ... & 2 & A124 & 44 & A143 & A153 & 1 & A174 & 1 & A192 & A201\\\\\n",
       "\t 0 & A14 & 24 & A32 & A43 &  3430 & A63 & A75 & 3 & A93 & ... & 2 & A123 & 31 & A143 & A152 & 1 & A173 & 2 & A192 & A201\\\\\n",
       "\t 0 & A14 &  9 & A34 & A40 &  2134 & A61 & A73 & 4 & A93 & ... & 4 & A123 & 48 & A143 & A152 & 3 & A173 & 1 & A192 & A201\\\\\n",
       "\t 0 & A11 &  6 & A32 & A43 &  2647 & A63 & A73 & 2 & A93 & ... & 3 & A121 & 44 & A143 & A151 & 1 & A173 & 2 & A191 & A201\\\\\n",
       "\t 0 & A11 & 10 & A34 & A40 &  2241 & A61 & A72 & 1 & A93 & ... & 3 & A121 & 48 & A143 & A151 & 2 & A172 & 2 & A191 & A202\\\\\n",
       "\t 0 & A12 & 12 & A34 & A41 &  1804 & A62 & A72 & 3 & A93 & ... & 4 & A122 & 44 & A143 & A152 & 1 & A173 & 1 & A191 & A201\\\\\n",
       "\t 0 & A14 & 10 & A34 & A42 &  2069 & A65 & A73 & 2 & A94 & ... & 1 & A123 & 26 & A143 & A152 & 2 & A173 & 1 & A191 & A202\\\\\n",
       "\t 0 & A11 &  6 & A32 & A42 &  1374 & A61 & A73 & 1 & A93 & ... & 2 & A121 & 36 & A141 & A152 & 1 & A172 & 1 & A192 & A201\\\\\n",
       "\t 0 & A14 &  6 & A30 & A43 &   426 & A61 & A75 & 4 & A94 & ... & 4 & A123 & 39 & A143 & A152 & 1 & A172 & 1 & A191 & A201\\\\\n",
       "\t 0 & A13 & 12 & A31 & A43 &   409 & A64 & A73 & 3 & A92 & ... & 3 & A121 & 42 & A143 & A151 & 2 & A173 & 1 & A191 & A201\\\\\n",
       "\t 0 & A12 &  7 & A32 & A43 &  2415 & A61 & A73 & 3 & A93 & ... & 2 & A121 & 34 & A143 & A152 & 1 & A173 & 1 & A191 & A201\\\\\n",
       "\t 1 & A11 & 60 & A33 & A49 &  6836 & A61 & A75 & 3 & A93 & ... & 4 & A124 & 63 & A143 & A152 & 2 & A173 & 1 & A192 & A201\\\\\n",
       "\t ... & ... & ... & ... & ... & ... & ... & ... & ... & ... &  & ... & ... & ... & ... & ... & ... & ... & ... & ... & ...\\\\\n",
       "\t 0 & A12 & 15 & A32 & A45 & 1514 & A62 & A73 & 4 & A93 & ... & 2 & A121 & 22 & A143 & A152 & 1 & A173 & 1 & A191 & A201\\\\\n",
       "\t 0 & A14 & 24 & A32 & A40 & 7393 & A61 & A73 & 1 & A93 & ... & 4 & A122 & 43 & A143 & A152 & 1 & A172 & 2 & A191 & A201\\\\\n",
       "\t 1 & A11 & 24 & A31 & A40 & 1193 & A61 & A71 & 1 & A92 & ... & 4 & A124 & 29 & A143 & A151 & 2 & A171 & 1 & A191 & A201\\\\\n",
       "\t 1 & A11 & 60 & A32 & A49 & 7297 & A61 & A75 & 4 & A93 & ... & 4 & A124 & 36 & A143 & A151 & 1 & A173 & 1 & A191 & A201\\\\\n",
       "\t 0 & A14 & 30 & A34 & A43 & 2831 & A61 & A73 & 4 & A92 & ... & 2 & A123 & 33 & A143 & A152 & 1 & A173 & 1 & A192 & A201\\\\\n",
       "\t 0 & A13 & 24 & A32 & A43 & 1258 & A63 & A73 & 3 & A92 & ... & 3 & A123 & 57 & A143 & A152 & 1 & A172 & 1 & A191 & A201\\\\\n",
       "\t 0 & A12 &  6 & A32 & A43 &  753 & A61 & A73 & 2 & A92 & ... & 3 & A121 & 64 & A143 & A152 & 1 & A173 & 1 & A191 & A201\\\\\n",
       "\t 0 & A12 & 18 & A33 & A49 & 2427 & A65 & A75 & 4 & A93 & ... & 2 & A122 & 42 & A143 & A152 & 2 & A173 & 1 & A191 & A201\\\\\n",
       "\t 1 & A14 & 24 & A33 & A40 & 2538 & A61 & A75 & 4 & A93 & ... & 4 & A123 & 47 & A143 & A152 & 2 & A172 & 2 & A191 & A201\\\\\n",
       "\t 1 & A12 & 15 & A31 & A40 & 1264 & A62 & A73 & 2 & A94 & ... & 2 & A122 & 25 & A143 & A151 & 1 & A173 & 1 & A191 & A201\\\\\n",
       "\t 1 & A12 & 30 & A34 & A42 & 8386 & A61 & A74 & 2 & A93 & ... & 2 & A122 & 49 & A143 & A152 & 1 & A173 & 1 & A191 & A201\\\\\n",
       "\t 1 & A14 & 48 & A32 & A49 & 4844 & A61 & A71 & 3 & A93 & ... & 2 & A123 & 33 & A141 & A151 & 1 & A174 & 1 & A192 & A201\\\\\n",
       "\t 0 & A13 & 21 & A32 & A40 & 2923 & A62 & A73 & 1 & A92 & ... & 1 & A123 & 28 & A141 & A152 & 1 & A174 & 1 & A192 & A201\\\\\n",
       "\t 1 & A11 & 36 & A32 & A41 & 8229 & A61 & A73 & 2 & A93 & ... & 2 & A122 & 26 & A143 & A152 & 1 & A173 & 2 & A191 & A201\\\\\n",
       "\t 0 & A14 & 24 & A34 & A42 & 2028 & A61 & A74 & 2 & A93 & ... & 2 & A122 & 30 & A143 & A152 & 2 & A172 & 1 & A191 & A201\\\\\n",
       "\t 0 & A11 & 15 & A34 & A42 & 1433 & A61 & A73 & 4 & A92 & ... & 3 & A122 & 25 & A143 & A151 & 2 & A173 & 1 & A191 & A201\\\\\n",
       "\t 0 & A13 & 42 & A30 & A49 & 6289 & A61 & A72 & 2 & A91 & ... & 1 & A122 & 33 & A143 & A152 & 2 & A173 & 1 & A191 & A201\\\\\n",
       "\t 0 & A14 & 13 & A32 & A43 & 1409 & A62 & A71 & 2 & A92 & ... & 4 & A121 & 64 & A143 & A152 & 1 & A173 & 1 & A191 & A201\\\\\n",
       "\t 0 & A11 & 24 & A32 & A41 & 6579 & A61 & A71 & 4 & A93 & ... & 2 & A124 & 29 & A143 & A153 & 1 & A174 & 1 & A192 & A201\\\\\n",
       "\t 0 & A12 & 24 & A34 & A43 & 1743 & A61 & A75 & 4 & A93 & ... & 2 & A122 & 48 & A143 & A152 & 2 & A172 & 1 & A191 & A201\\\\\n",
       "\t 0 & A14 & 12 & A34 & A46 & 3565 & A65 & A72 & 2 & A93 & ... & 1 & A122 & 37 & A143 & A152 & 2 & A172 & 2 & A191 & A201\\\\\n",
       "\t 0 & A14 & 15 & A31 & A43 & 1569 & A62 & A75 & 4 & A93 & ... & 4 & A123 & 34 & A141 & A152 & 1 & A172 & 2 & A191 & A201\\\\\n",
       "\t 0 & A11 & 18 & A32 & A43 & 1936 & A65 & A74 & 2 & A94 & ... & 4 & A123 & 23 & A143 & A151 & 2 & A172 & 1 & A191 & A201\\\\\n",
       "\t 0 & A11 & 36 & A32 & A42 & 3959 & A61 & A71 & 4 & A93 & ... & 3 & A122 & 30 & A143 & A152 & 1 & A174 & 1 & A192 & A201\\\\\n",
       "\t 0 & A14 & 12 & A32 & A40 & 2390 & A65 & A75 & 4 & A93 & ... & 3 & A123 & 50 & A143 & A152 & 1 & A173 & 1 & A192 & A201\\\\\n",
       "\t 0 & A14 & 12 & A32 & A42 & 1736 & A61 & A74 & 3 & A92 & ... & 4 & A121 & 31 & A143 & A152 & 1 & A172 & 1 & A191 & A201\\\\\n",
       "\t 0 & A11 & 30 & A32 & A41 & 3857 & A61 & A73 & 4 & A91 & ... & 4 & A122 & 40 & A143 & A152 & 1 & A174 & 1 & A192 & A201\\\\\n",
       "\t 0 & A14 & 12 & A32 & A43 &  804 & A61 & A75 & 4 & A93 & ... & 4 & A123 & 38 & A143 & A152 & 1 & A173 & 1 & A191 & A201\\\\\n",
       "\t 1 & A11 & 45 & A32 & A43 & 1845 & A61 & A73 & 4 & A93 & ... & 4 & A124 & 23 & A143 & A153 & 1 & A173 & 1 & A192 & A201\\\\\n",
       "\t 0 & A12 & 45 & A34 & A41 & 4576 & A62 & A71 & 3 & A93 & ... & 4 & A123 & 27 & A143 & A152 & 1 & A173 & 1 & A191 & A201\\\\\n",
       "\\end{tabular}\n"
      ],
      "text/markdown": [
       "\n",
       "A data.frame: 1000 × 21\n",
       "\n",
       "| Default &lt;int&gt; | checkingstatus1 &lt;chr&gt; | duration &lt;int&gt; | history &lt;chr&gt; | purpose &lt;chr&gt; | amount &lt;int&gt; | savings &lt;chr&gt; | employ &lt;chr&gt; | installment &lt;int&gt; | status &lt;chr&gt; | ... ... | residence &lt;int&gt; | property &lt;chr&gt; | age &lt;int&gt; | otherplans &lt;chr&gt; | housing &lt;chr&gt; | cards &lt;int&gt; | job &lt;chr&gt; | liable &lt;int&gt; | tele &lt;chr&gt; | foreign &lt;chr&gt; |\n",
       "|---|---|---|---|---|---|---|---|---|---|---|---|---|---|---|---|---|---|---|---|---|\n",
       "| 0 | A11 |  6 | A34 | A43 |  1169 | A65 | A75 | 4 | A93 | ... | 4 | A121 | 67 | A143 | A152 | 2 | A173 | 1 | A192 | A201 |\n",
       "| 1 | A12 | 48 | A32 | A43 |  5951 | A61 | A73 | 2 | A92 | ... | 2 | A121 | 22 | A143 | A152 | 1 | A173 | 1 | A191 | A201 |\n",
       "| 0 | A14 | 12 | A34 | A46 |  2096 | A61 | A74 | 2 | A93 | ... | 3 | A121 | 49 | A143 | A152 | 1 | A172 | 2 | A191 | A201 |\n",
       "| 0 | A11 | 42 | A32 | A42 |  7882 | A61 | A74 | 2 | A93 | ... | 4 | A122 | 45 | A143 | A153 | 1 | A173 | 2 | A191 | A201 |\n",
       "| 1 | A11 | 24 | A33 | A40 |  4870 | A61 | A73 | 3 | A93 | ... | 4 | A124 | 53 | A143 | A153 | 2 | A173 | 2 | A191 | A201 |\n",
       "| 0 | A14 | 36 | A32 | A46 |  9055 | A65 | A73 | 2 | A93 | ... | 4 | A124 | 35 | A143 | A153 | 1 | A172 | 2 | A192 | A201 |\n",
       "| 0 | A14 | 24 | A32 | A42 |  2835 | A63 | A75 | 3 | A93 | ... | 4 | A122 | 53 | A143 | A152 | 1 | A173 | 1 | A191 | A201 |\n",
       "| 0 | A12 | 36 | A32 | A41 |  6948 | A61 | A73 | 2 | A93 | ... | 2 | A123 | 35 | A143 | A151 | 1 | A174 | 1 | A192 | A201 |\n",
       "| 0 | A14 | 12 | A32 | A43 |  3059 | A64 | A74 | 2 | A91 | ... | 4 | A121 | 61 | A143 | A152 | 1 | A172 | 1 | A191 | A201 |\n",
       "| 1 | A12 | 30 | A34 | A40 |  5234 | A61 | A71 | 4 | A94 | ... | 2 | A123 | 28 | A143 | A152 | 2 | A174 | 1 | A191 | A201 |\n",
       "| 1 | A12 | 12 | A32 | A40 |  1295 | A61 | A72 | 3 | A92 | ... | 1 | A123 | 25 | A143 | A151 | 1 | A173 | 1 | A191 | A201 |\n",
       "| 1 | A11 | 48 | A32 | A49 |  4308 | A61 | A72 | 3 | A92 | ... | 4 | A122 | 24 | A143 | A151 | 1 | A173 | 1 | A191 | A201 |\n",
       "| 0 | A12 | 12 | A32 | A43 |  1567 | A61 | A73 | 1 | A92 | ... | 1 | A123 | 22 | A143 | A152 | 1 | A173 | 1 | A192 | A201 |\n",
       "| 1 | A11 | 24 | A34 | A40 |  1199 | A61 | A75 | 4 | A93 | ... | 4 | A123 | 60 | A143 | A152 | 2 | A172 | 1 | A191 | A201 |\n",
       "| 0 | A11 | 15 | A32 | A40 |  1403 | A61 | A73 | 2 | A92 | ... | 4 | A123 | 28 | A143 | A151 | 1 | A173 | 1 | A191 | A201 |\n",
       "| 1 | A11 | 24 | A32 | A43 |  1282 | A62 | A73 | 4 | A92 | ... | 2 | A123 | 32 | A143 | A152 | 1 | A172 | 1 | A191 | A201 |\n",
       "| 0 | A14 | 24 | A34 | A43 |  2424 | A65 | A75 | 4 | A93 | ... | 4 | A122 | 53 | A143 | A152 | 2 | A173 | 1 | A191 | A201 |\n",
       "| 0 | A11 | 30 | A30 | A49 |  8072 | A65 | A72 | 2 | A93 | ... | 3 | A123 | 25 | A141 | A152 | 3 | A173 | 1 | A191 | A201 |\n",
       "| 1 | A12 | 24 | A32 | A41 | 12579 | A61 | A75 | 4 | A92 | ... | 2 | A124 | 44 | A143 | A153 | 1 | A174 | 1 | A192 | A201 |\n",
       "| 0 | A14 | 24 | A32 | A43 |  3430 | A63 | A75 | 3 | A93 | ... | 2 | A123 | 31 | A143 | A152 | 1 | A173 | 2 | A192 | A201 |\n",
       "| 0 | A14 |  9 | A34 | A40 |  2134 | A61 | A73 | 4 | A93 | ... | 4 | A123 | 48 | A143 | A152 | 3 | A173 | 1 | A192 | A201 |\n",
       "| 0 | A11 |  6 | A32 | A43 |  2647 | A63 | A73 | 2 | A93 | ... | 3 | A121 | 44 | A143 | A151 | 1 | A173 | 2 | A191 | A201 |\n",
       "| 0 | A11 | 10 | A34 | A40 |  2241 | A61 | A72 | 1 | A93 | ... | 3 | A121 | 48 | A143 | A151 | 2 | A172 | 2 | A191 | A202 |\n",
       "| 0 | A12 | 12 | A34 | A41 |  1804 | A62 | A72 | 3 | A93 | ... | 4 | A122 | 44 | A143 | A152 | 1 | A173 | 1 | A191 | A201 |\n",
       "| 0 | A14 | 10 | A34 | A42 |  2069 | A65 | A73 | 2 | A94 | ... | 1 | A123 | 26 | A143 | A152 | 2 | A173 | 1 | A191 | A202 |\n",
       "| 0 | A11 |  6 | A32 | A42 |  1374 | A61 | A73 | 1 | A93 | ... | 2 | A121 | 36 | A141 | A152 | 1 | A172 | 1 | A192 | A201 |\n",
       "| 0 | A14 |  6 | A30 | A43 |   426 | A61 | A75 | 4 | A94 | ... | 4 | A123 | 39 | A143 | A152 | 1 | A172 | 1 | A191 | A201 |\n",
       "| 0 | A13 | 12 | A31 | A43 |   409 | A64 | A73 | 3 | A92 | ... | 3 | A121 | 42 | A143 | A151 | 2 | A173 | 1 | A191 | A201 |\n",
       "| 0 | A12 |  7 | A32 | A43 |  2415 | A61 | A73 | 3 | A93 | ... | 2 | A121 | 34 | A143 | A152 | 1 | A173 | 1 | A191 | A201 |\n",
       "| 1 | A11 | 60 | A33 | A49 |  6836 | A61 | A75 | 3 | A93 | ... | 4 | A124 | 63 | A143 | A152 | 2 | A173 | 1 | A192 | A201 |\n",
       "| ... | ... | ... | ... | ... | ... | ... | ... | ... | ... | <!----> | ... | ... | ... | ... | ... | ... | ... | ... | ... | ... |\n",
       "| 0 | A12 | 15 | A32 | A45 | 1514 | A62 | A73 | 4 | A93 | ... | 2 | A121 | 22 | A143 | A152 | 1 | A173 | 1 | A191 | A201 |\n",
       "| 0 | A14 | 24 | A32 | A40 | 7393 | A61 | A73 | 1 | A93 | ... | 4 | A122 | 43 | A143 | A152 | 1 | A172 | 2 | A191 | A201 |\n",
       "| 1 | A11 | 24 | A31 | A40 | 1193 | A61 | A71 | 1 | A92 | ... | 4 | A124 | 29 | A143 | A151 | 2 | A171 | 1 | A191 | A201 |\n",
       "| 1 | A11 | 60 | A32 | A49 | 7297 | A61 | A75 | 4 | A93 | ... | 4 | A124 | 36 | A143 | A151 | 1 | A173 | 1 | A191 | A201 |\n",
       "| 0 | A14 | 30 | A34 | A43 | 2831 | A61 | A73 | 4 | A92 | ... | 2 | A123 | 33 | A143 | A152 | 1 | A173 | 1 | A192 | A201 |\n",
       "| 0 | A13 | 24 | A32 | A43 | 1258 | A63 | A73 | 3 | A92 | ... | 3 | A123 | 57 | A143 | A152 | 1 | A172 | 1 | A191 | A201 |\n",
       "| 0 | A12 |  6 | A32 | A43 |  753 | A61 | A73 | 2 | A92 | ... | 3 | A121 | 64 | A143 | A152 | 1 | A173 | 1 | A191 | A201 |\n",
       "| 0 | A12 | 18 | A33 | A49 | 2427 | A65 | A75 | 4 | A93 | ... | 2 | A122 | 42 | A143 | A152 | 2 | A173 | 1 | A191 | A201 |\n",
       "| 1 | A14 | 24 | A33 | A40 | 2538 | A61 | A75 | 4 | A93 | ... | 4 | A123 | 47 | A143 | A152 | 2 | A172 | 2 | A191 | A201 |\n",
       "| 1 | A12 | 15 | A31 | A40 | 1264 | A62 | A73 | 2 | A94 | ... | 2 | A122 | 25 | A143 | A151 | 1 | A173 | 1 | A191 | A201 |\n",
       "| 1 | A12 | 30 | A34 | A42 | 8386 | A61 | A74 | 2 | A93 | ... | 2 | A122 | 49 | A143 | A152 | 1 | A173 | 1 | A191 | A201 |\n",
       "| 1 | A14 | 48 | A32 | A49 | 4844 | A61 | A71 | 3 | A93 | ... | 2 | A123 | 33 | A141 | A151 | 1 | A174 | 1 | A192 | A201 |\n",
       "| 0 | A13 | 21 | A32 | A40 | 2923 | A62 | A73 | 1 | A92 | ... | 1 | A123 | 28 | A141 | A152 | 1 | A174 | 1 | A192 | A201 |\n",
       "| 1 | A11 | 36 | A32 | A41 | 8229 | A61 | A73 | 2 | A93 | ... | 2 | A122 | 26 | A143 | A152 | 1 | A173 | 2 | A191 | A201 |\n",
       "| 0 | A14 | 24 | A34 | A42 | 2028 | A61 | A74 | 2 | A93 | ... | 2 | A122 | 30 | A143 | A152 | 2 | A172 | 1 | A191 | A201 |\n",
       "| 0 | A11 | 15 | A34 | A42 | 1433 | A61 | A73 | 4 | A92 | ... | 3 | A122 | 25 | A143 | A151 | 2 | A173 | 1 | A191 | A201 |\n",
       "| 0 | A13 | 42 | A30 | A49 | 6289 | A61 | A72 | 2 | A91 | ... | 1 | A122 | 33 | A143 | A152 | 2 | A173 | 1 | A191 | A201 |\n",
       "| 0 | A14 | 13 | A32 | A43 | 1409 | A62 | A71 | 2 | A92 | ... | 4 | A121 | 64 | A143 | A152 | 1 | A173 | 1 | A191 | A201 |\n",
       "| 0 | A11 | 24 | A32 | A41 | 6579 | A61 | A71 | 4 | A93 | ... | 2 | A124 | 29 | A143 | A153 | 1 | A174 | 1 | A192 | A201 |\n",
       "| 0 | A12 | 24 | A34 | A43 | 1743 | A61 | A75 | 4 | A93 | ... | 2 | A122 | 48 | A143 | A152 | 2 | A172 | 1 | A191 | A201 |\n",
       "| 0 | A14 | 12 | A34 | A46 | 3565 | A65 | A72 | 2 | A93 | ... | 1 | A122 | 37 | A143 | A152 | 2 | A172 | 2 | A191 | A201 |\n",
       "| 0 | A14 | 15 | A31 | A43 | 1569 | A62 | A75 | 4 | A93 | ... | 4 | A123 | 34 | A141 | A152 | 1 | A172 | 2 | A191 | A201 |\n",
       "| 0 | A11 | 18 | A32 | A43 | 1936 | A65 | A74 | 2 | A94 | ... | 4 | A123 | 23 | A143 | A151 | 2 | A172 | 1 | A191 | A201 |\n",
       "| 0 | A11 | 36 | A32 | A42 | 3959 | A61 | A71 | 4 | A93 | ... | 3 | A122 | 30 | A143 | A152 | 1 | A174 | 1 | A192 | A201 |\n",
       "| 0 | A14 | 12 | A32 | A40 | 2390 | A65 | A75 | 4 | A93 | ... | 3 | A123 | 50 | A143 | A152 | 1 | A173 | 1 | A192 | A201 |\n",
       "| 0 | A14 | 12 | A32 | A42 | 1736 | A61 | A74 | 3 | A92 | ... | 4 | A121 | 31 | A143 | A152 | 1 | A172 | 1 | A191 | A201 |\n",
       "| 0 | A11 | 30 | A32 | A41 | 3857 | A61 | A73 | 4 | A91 | ... | 4 | A122 | 40 | A143 | A152 | 1 | A174 | 1 | A192 | A201 |\n",
       "| 0 | A14 | 12 | A32 | A43 |  804 | A61 | A75 | 4 | A93 | ... | 4 | A123 | 38 | A143 | A152 | 1 | A173 | 1 | A191 | A201 |\n",
       "| 1 | A11 | 45 | A32 | A43 | 1845 | A61 | A73 | 4 | A93 | ... | 4 | A124 | 23 | A143 | A153 | 1 | A173 | 1 | A192 | A201 |\n",
       "| 0 | A12 | 45 | A34 | A41 | 4576 | A62 | A71 | 3 | A93 | ... | 4 | A123 | 27 | A143 | A152 | 1 | A173 | 1 | A191 | A201 |\n",
       "\n"
      ],
      "text/plain": [
       "     Default checkingstatus1 duration history purpose amount savings employ\n",
       "1    0       A11              6       A34     A43      1169  A65     A75   \n",
       "2    1       A12             48       A32     A43      5951  A61     A73   \n",
       "3    0       A14             12       A34     A46      2096  A61     A74   \n",
       "4    0       A11             42       A32     A42      7882  A61     A74   \n",
       "5    1       A11             24       A33     A40      4870  A61     A73   \n",
       "6    0       A14             36       A32     A46      9055  A65     A73   \n",
       "7    0       A14             24       A32     A42      2835  A63     A75   \n",
       "8    0       A12             36       A32     A41      6948  A61     A73   \n",
       "9    0       A14             12       A32     A43      3059  A64     A74   \n",
       "10   1       A12             30       A34     A40      5234  A61     A71   \n",
       "11   1       A12             12       A32     A40      1295  A61     A72   \n",
       "12   1       A11             48       A32     A49      4308  A61     A72   \n",
       "13   0       A12             12       A32     A43      1567  A61     A73   \n",
       "14   1       A11             24       A34     A40      1199  A61     A75   \n",
       "15   0       A11             15       A32     A40      1403  A61     A73   \n",
       "16   1       A11             24       A32     A43      1282  A62     A73   \n",
       "17   0       A14             24       A34     A43      2424  A65     A75   \n",
       "18   0       A11             30       A30     A49      8072  A65     A72   \n",
       "19   1       A12             24       A32     A41     12579  A61     A75   \n",
       "20   0       A14             24       A32     A43      3430  A63     A75   \n",
       "21   0       A14              9       A34     A40      2134  A61     A73   \n",
       "22   0       A11              6       A32     A43      2647  A63     A73   \n",
       "23   0       A11             10       A34     A40      2241  A61     A72   \n",
       "24   0       A12             12       A34     A41      1804  A62     A72   \n",
       "25   0       A14             10       A34     A42      2069  A65     A73   \n",
       "26   0       A11              6       A32     A42      1374  A61     A73   \n",
       "27   0       A14              6       A30     A43       426  A61     A75   \n",
       "28   0       A13             12       A31     A43       409  A64     A73   \n",
       "29   0       A12              7       A32     A43      2415  A61     A73   \n",
       "30   1       A11             60       A33     A49      6836  A61     A75   \n",
       "...  ...     ...             ...      ...     ...     ...    ...     ...   \n",
       "971  0       A12             15       A32     A45     1514   A62     A73   \n",
       "972  0       A14             24       A32     A40     7393   A61     A73   \n",
       "973  1       A11             24       A31     A40     1193   A61     A71   \n",
       "974  1       A11             60       A32     A49     7297   A61     A75   \n",
       "975  0       A14             30       A34     A43     2831   A61     A73   \n",
       "976  0       A13             24       A32     A43     1258   A63     A73   \n",
       "977  0       A12              6       A32     A43      753   A61     A73   \n",
       "978  0       A12             18       A33     A49     2427   A65     A75   \n",
       "979  1       A14             24       A33     A40     2538   A61     A75   \n",
       "980  1       A12             15       A31     A40     1264   A62     A73   \n",
       "981  1       A12             30       A34     A42     8386   A61     A74   \n",
       "982  1       A14             48       A32     A49     4844   A61     A71   \n",
       "983  0       A13             21       A32     A40     2923   A62     A73   \n",
       "984  1       A11             36       A32     A41     8229   A61     A73   \n",
       "985  0       A14             24       A34     A42     2028   A61     A74   \n",
       "986  0       A11             15       A34     A42     1433   A61     A73   \n",
       "987  0       A13             42       A30     A49     6289   A61     A72   \n",
       "988  0       A14             13       A32     A43     1409   A62     A71   \n",
       "989  0       A11             24       A32     A41     6579   A61     A71   \n",
       "990  0       A12             24       A34     A43     1743   A61     A75   \n",
       "991  0       A14             12       A34     A46     3565   A65     A72   \n",
       "992  0       A14             15       A31     A43     1569   A62     A75   \n",
       "993  0       A11             18       A32     A43     1936   A65     A74   \n",
       "994  0       A11             36       A32     A42     3959   A61     A71   \n",
       "995  0       A14             12       A32     A40     2390   A65     A75   \n",
       "996  0       A14             12       A32     A42     1736   A61     A74   \n",
       "997  0       A11             30       A32     A41     3857   A61     A73   \n",
       "998  0       A14             12       A32     A43      804   A61     A75   \n",
       "999  1       A11             45       A32     A43     1845   A61     A73   \n",
       "1000 0       A12             45       A34     A41     4576   A62     A71   \n",
       "     installment status ... residence property age otherplans housing cards\n",
       "1    4           A93    ... 4         A121     67  A143       A152    2    \n",
       "2    2           A92    ... 2         A121     22  A143       A152    1    \n",
       "3    2           A93    ... 3         A121     49  A143       A152    1    \n",
       "4    2           A93    ... 4         A122     45  A143       A153    1    \n",
       "5    3           A93    ... 4         A124     53  A143       A153    2    \n",
       "6    2           A93    ... 4         A124     35  A143       A153    1    \n",
       "7    3           A93    ... 4         A122     53  A143       A152    1    \n",
       "8    2           A93    ... 2         A123     35  A143       A151    1    \n",
       "9    2           A91    ... 4         A121     61  A143       A152    1    \n",
       "10   4           A94    ... 2         A123     28  A143       A152    2    \n",
       "11   3           A92    ... 1         A123     25  A143       A151    1    \n",
       "12   3           A92    ... 4         A122     24  A143       A151    1    \n",
       "13   1           A92    ... 1         A123     22  A143       A152    1    \n",
       "14   4           A93    ... 4         A123     60  A143       A152    2    \n",
       "15   2           A92    ... 4         A123     28  A143       A151    1    \n",
       "16   4           A92    ... 2         A123     32  A143       A152    1    \n",
       "17   4           A93    ... 4         A122     53  A143       A152    2    \n",
       "18   2           A93    ... 3         A123     25  A141       A152    3    \n",
       "19   4           A92    ... 2         A124     44  A143       A153    1    \n",
       "20   3           A93    ... 2         A123     31  A143       A152    1    \n",
       "21   4           A93    ... 4         A123     48  A143       A152    3    \n",
       "22   2           A93    ... 3         A121     44  A143       A151    1    \n",
       "23   1           A93    ... 3         A121     48  A143       A151    2    \n",
       "24   3           A93    ... 4         A122     44  A143       A152    1    \n",
       "25   2           A94    ... 1         A123     26  A143       A152    2    \n",
       "26   1           A93    ... 2         A121     36  A141       A152    1    \n",
       "27   4           A94    ... 4         A123     39  A143       A152    1    \n",
       "28   3           A92    ... 3         A121     42  A143       A151    2    \n",
       "29   3           A93    ... 2         A121     34  A143       A152    1    \n",
       "30   3           A93    ... 4         A124     63  A143       A152    2    \n",
       "...  ...         ...        ...       ...      ... ...        ...     ...  \n",
       "971  4           A93    ... 2         A121     22  A143       A152    1    \n",
       "972  1           A93    ... 4         A122     43  A143       A152    1    \n",
       "973  1           A92    ... 4         A124     29  A143       A151    2    \n",
       "974  4           A93    ... 4         A124     36  A143       A151    1    \n",
       "975  4           A92    ... 2         A123     33  A143       A152    1    \n",
       "976  3           A92    ... 3         A123     57  A143       A152    1    \n",
       "977  2           A92    ... 3         A121     64  A143       A152    1    \n",
       "978  4           A93    ... 2         A122     42  A143       A152    2    \n",
       "979  4           A93    ... 4         A123     47  A143       A152    2    \n",
       "980  2           A94    ... 2         A122     25  A143       A151    1    \n",
       "981  2           A93    ... 2         A122     49  A143       A152    1    \n",
       "982  3           A93    ... 2         A123     33  A141       A151    1    \n",
       "983  1           A92    ... 1         A123     28  A141       A152    1    \n",
       "984  2           A93    ... 2         A122     26  A143       A152    1    \n",
       "985  2           A93    ... 2         A122     30  A143       A152    2    \n",
       "986  4           A92    ... 3         A122     25  A143       A151    2    \n",
       "987  2           A91    ... 1         A122     33  A143       A152    2    \n",
       "988  2           A92    ... 4         A121     64  A143       A152    1    \n",
       "989  4           A93    ... 2         A124     29  A143       A153    1    \n",
       "990  4           A93    ... 2         A122     48  A143       A152    2    \n",
       "991  2           A93    ... 1         A122     37  A143       A152    2    \n",
       "992  4           A93    ... 4         A123     34  A141       A152    1    \n",
       "993  2           A94    ... 4         A123     23  A143       A151    2    \n",
       "994  4           A93    ... 3         A122     30  A143       A152    1    \n",
       "995  4           A93    ... 3         A123     50  A143       A152    1    \n",
       "996  3           A92    ... 4         A121     31  A143       A152    1    \n",
       "997  4           A91    ... 4         A122     40  A143       A152    1    \n",
       "998  4           A93    ... 4         A123     38  A143       A152    1    \n",
       "999  4           A93    ... 4         A124     23  A143       A153    1    \n",
       "1000 3           A93    ... 4         A123     27  A143       A152    1    \n",
       "     job  liable tele foreign\n",
       "1    A173 1      A192 A201   \n",
       "2    A173 1      A191 A201   \n",
       "3    A172 2      A191 A201   \n",
       "4    A173 2      A191 A201   \n",
       "5    A173 2      A191 A201   \n",
       "6    A172 2      A192 A201   \n",
       "7    A173 1      A191 A201   \n",
       "8    A174 1      A192 A201   \n",
       "9    A172 1      A191 A201   \n",
       "10   A174 1      A191 A201   \n",
       "11   A173 1      A191 A201   \n",
       "12   A173 1      A191 A201   \n",
       "13   A173 1      A192 A201   \n",
       "14   A172 1      A191 A201   \n",
       "15   A173 1      A191 A201   \n",
       "16   A172 1      A191 A201   \n",
       "17   A173 1      A191 A201   \n",
       "18   A173 1      A191 A201   \n",
       "19   A174 1      A192 A201   \n",
       "20   A173 2      A192 A201   \n",
       "21   A173 1      A192 A201   \n",
       "22   A173 2      A191 A201   \n",
       "23   A172 2      A191 A202   \n",
       "24   A173 1      A191 A201   \n",
       "25   A173 1      A191 A202   \n",
       "26   A172 1      A192 A201   \n",
       "27   A172 1      A191 A201   \n",
       "28   A173 1      A191 A201   \n",
       "29   A173 1      A191 A201   \n",
       "30   A173 1      A192 A201   \n",
       "...  ...  ...    ...  ...    \n",
       "971  A173 1      A191 A201   \n",
       "972  A172 2      A191 A201   \n",
       "973  A171 1      A191 A201   \n",
       "974  A173 1      A191 A201   \n",
       "975  A173 1      A192 A201   \n",
       "976  A172 1      A191 A201   \n",
       "977  A173 1      A191 A201   \n",
       "978  A173 1      A191 A201   \n",
       "979  A172 2      A191 A201   \n",
       "980  A173 1      A191 A201   \n",
       "981  A173 1      A191 A201   \n",
       "982  A174 1      A192 A201   \n",
       "983  A174 1      A192 A201   \n",
       "984  A173 2      A191 A201   \n",
       "985  A172 1      A191 A201   \n",
       "986  A173 1      A191 A201   \n",
       "987  A173 1      A191 A201   \n",
       "988  A173 1      A191 A201   \n",
       "989  A174 1      A192 A201   \n",
       "990  A172 1      A191 A201   \n",
       "991  A172 2      A191 A201   \n",
       "992  A172 2      A191 A201   \n",
       "993  A172 1      A191 A201   \n",
       "994  A174 1      A192 A201   \n",
       "995  A173 1      A192 A201   \n",
       "996  A172 1      A191 A201   \n",
       "997  A174 1      A192 A201   \n",
       "998  A173 1      A191 A201   \n",
       "999  A173 1      A192 A201   \n",
       "1000 A173 1      A191 A201   "
      ]
     },
     "metadata": {},
     "output_type": "display_data"
    }
   ],
   "source": [
    "\n",
    "data = read.csv(\"germancredit.csv\",header=TRUE)\n",
    "data\n"
   ]
  },
  {
   "cell_type": "code",
   "execution_count": 2,
   "id": "2f4b9ce3",
   "metadata": {},
   "outputs": [
    {
     "name": "stdout",
     "output_type": "stream",
     "text": [
      "'data.frame':\t1000 obs. of  21 variables:\n",
      " $ Default        : int  0 1 0 0 1 0 0 0 0 1 ...\n",
      " $ checkingstatus1: chr  \"A11\" \"A12\" \"A14\" \"A11\" ...\n",
      " $ duration       : int  6 48 12 42 24 36 24 36 12 30 ...\n",
      " $ history        : chr  \"A34\" \"A32\" \"A34\" \"A32\" ...\n",
      " $ purpose        : chr  \"A43\" \"A43\" \"A46\" \"A42\" ...\n",
      " $ amount         : int  1169 5951 2096 7882 4870 9055 2835 6948 3059 5234 ...\n",
      " $ savings        : chr  \"A65\" \"A61\" \"A61\" \"A61\" ...\n",
      " $ employ         : chr  \"A75\" \"A73\" \"A74\" \"A74\" ...\n",
      " $ installment    : int  4 2 2 2 3 2 3 2 2 4 ...\n",
      " $ status         : chr  \"A93\" \"A92\" \"A93\" \"A93\" ...\n",
      " $ others         : chr  \"A101\" \"A101\" \"A101\" \"A103\" ...\n",
      " $ residence      : int  4 2 3 4 4 4 4 2 4 2 ...\n",
      " $ property       : chr  \"A121\" \"A121\" \"A121\" \"A122\" ...\n",
      " $ age            : int  67 22 49 45 53 35 53 35 61 28 ...\n",
      " $ otherplans     : chr  \"A143\" \"A143\" \"A143\" \"A143\" ...\n",
      " $ housing        : chr  \"A152\" \"A152\" \"A152\" \"A153\" ...\n",
      " $ cards          : int  2 1 1 1 2 1 1 1 1 2 ...\n",
      " $ job            : chr  \"A173\" \"A173\" \"A172\" \"A173\" ...\n",
      " $ liable         : int  1 1 2 2 2 2 1 1 1 1 ...\n",
      " $ tele           : chr  \"A192\" \"A191\" \"A191\" \"A191\" ...\n",
      " $ foreign        : chr  \"A201\" \"A201\" \"A201\" \"A201\" ...\n"
     ]
    }
   ],
   "source": [
    "str(data)"
   ]
  },
  {
   "cell_type": "code",
   "execution_count": 3,
   "id": "2eb1b4da",
   "metadata": {},
   "outputs": [
    {
     "name": "stderr",
     "output_type": "stream",
     "text": [
      "Warning message:\n",
      "\"package 'PerformanceAnalytics' was built under R version 4.1.2\"\n",
      "Loading required package: xts\n",
      "\n",
      "Warning message:\n",
      "\"package 'xts' was built under R version 4.1.2\"\n",
      "Loading required package: zoo\n",
      "\n",
      "Warning message:\n",
      "\"package 'zoo' was built under R version 4.1.3\"\n",
      "\n",
      "Attaching package: 'zoo'\n",
      "\n",
      "\n",
      "The following objects are masked from 'package:base':\n",
      "\n",
      "    as.Date, as.Date.numeric\n",
      "\n",
      "\n",
      "\n",
      "Attaching package: 'PerformanceAnalytics'\n",
      "\n",
      "\n",
      "The following object is masked from 'package:graphics':\n",
      "\n",
      "    legend\n",
      "\n",
      "\n"
     ]
    }
   ],
   "source": [
    "data$checkingstatus1=as.factor(data$checkingstatus1)\n",
    "data$history=as.factor(data$history)\n",
    "data$purpose=as.factor(data$purpose)\n",
    "data$savings=as.factor(data$savings)\n",
    "data$employ=as.factor(data$employ)\n",
    "\n",
    "data$status=as.factor(data$status)\n",
    "data$others=as.factor(data$others)\n",
    "data$property=as.factor(data$property)\n",
    "data$otherplans=as.factor(data$otherplans)\n",
    "data$housing=as.factor(data$housing)\n",
    "data$job =as.factor(data$job )\n",
    "data$tele=as.factor(data$tele)\n",
    "data$foreign=as.factor(data$foreign)\n",
    "\n",
    "library(PerformanceAnalytics)\n",
    "attach(data)\n"
   ]
  },
  {
   "cell_type": "markdown",
   "id": "48421c6a",
   "metadata": {},
   "source": [
    "# Perform an exploratory analysis of data"
   ]
  },
  {
   "cell_type": "code",
   "execution_count": 5,
   "id": "e99f583c",
   "metadata": {},
   "outputs": [
    {
     "data": {
      "text/html": [
       "'numeric'"
      ],
      "text/latex": [
       "'numeric'"
      ],
      "text/markdown": [
       "'numeric'"
      ],
      "text/plain": [
       "[1] \"numeric\""
      ]
     },
     "metadata": {},
     "output_type": "display_data"
    },
    {
     "data": {
      "image/png": "[encoded data removed]",
      "text/plain": [
       "Plot with title \"\""
      ]
     },
     "metadata": {
      "image/png": {
       "height": 420,
       "width": 420
      }
     },
     "output_type": "display_data"
    }
   ],
   "source": [
    "#chart.Correlation(data)\n",
    "#####separating qualitative and quantitaive predictors\n",
    "qual=quan=c()\n",
    "for(i in 1:ncol(data))\n",
    "{\n",
    "if(class(data[,i])==\"factor\")\n",
    "{\n",
    "qual=cbind(qual,i)\n",
    "}\n",
    "else{quan=cbind(quan,i)}\n",
    "}\n",
    "data_quan=cbind(data[,-qual])\n",
    "data_qual=data[,-quan]\n",
    "for(i in 1: length(data_qual))\n",
    "{\n",
    "data_qual[,i]=as.numeric(data_qual[,i])\n",
    "}\n",
    "class(data_qual[,1])\n",
    "chart.Correlation(data_qual)\n"
   ]
  },
  {
   "cell_type": "code",
   "execution_count": 7,
   "id": "a039177f",
   "metadata": {},
   "outputs": [
    {
     "data": {
      "image/png": "[encoded data removed]",
      "text/plain": [
       "plot without title"
      ]
     },
     "metadata": {
      "image/png": {
       "height": 420,
       "width": 420
      }
     },
     "output_type": "display_data"
    },
    {
     "data": {
      "image/png": "[encoded data removed]",
      "text/plain": [
       "plot without title"
      ]
     },
     "metadata": {
      "image/png": {
       "height": 420,
       "width": 420
      }
     },
     "output_type": "display_data"
    },
    {
     "data": {
      "image/png": "[encoded data removed]",
      "text/plain": [
       "plot without title"
      ]
     },
     "metadata": {
      "image/png": {
       "height": 420,
       "width": 420
      }
     },
     "output_type": "display_data"
    }
   ],
   "source": [
    "####Boxplots for quantitative predictors\n",
    "par(mfrow=c(1,3))\n",
    "for(i in quan)\n",
    "{\n",
    "boxplot(data[,i]~data$Default, data=data,xlab=\"Default status\", ylab=paste(colnames(data)[i]))\n",
    "}\n"
   ]
  },
  {
   "cell_type": "code",
   "execution_count": 8,
   "id": "5d6b4796",
   "metadata": {},
   "outputs": [
    {
     "data": {
      "image/png": "[encoded data removed]",
      "text/plain": [
       "plot without title"
      ]
     },
     "metadata": {
      "image/png": {
       "height": 420,
       "width": 420
      }
     },
     "output_type": "display_data"
    },
    {
     "data": {
      "image/png": "[encoded data removed]",
      "text/plain": [
       "plot without title"
      ]
     },
     "metadata": {
      "image/png": {
       "height": 420,
       "width": 420
      }
     },
     "output_type": "display_data"
    }
   ],
   "source": [
    "#######barplots for qualitative predictors\n",
    "par(mfrow=c(3,3))\n",
    "for(i in qual)\n",
    "{\n",
    "if(i!=1){\n",
    "barplot(table(data[,i], data$Default), beside = TRUE, xlab=\"Default Status\", ylab=paste(colnames(data)[i]))\n",
    "}\n",
    "}"
   ]
  },
  {
   "cell_type": "code",
   "execution_count": 9,
   "id": "871a4968",
   "metadata": {},
   "outputs": [
    {
     "name": "stderr",
     "output_type": "stream",
     "text": [
      "Warning message in chisq.test(table(data[, i], Default)):\n",
      "\"Chi-squared approximation may be incorrect\"\n"
     ]
    },
    {
     "name": "stdout",
     "output_type": "stream",
     "text": [
      "         Predictor      p-value Significant\n",
      "1  checkingstatus1 1.218902e-26         Yes\n",
      "2          history 1.279187e-12         Yes\n",
      "3          purpose 1.157491e-04         Yes\n",
      "4          savings 2.761214e-07         Yes\n",
      "5           employ 1.045452e-03         Yes\n",
      "6           status 2.223801e-02         Yes\n",
      "7           others 3.605595e-02         Yes\n",
      "8         property 2.858442e-05         Yes\n",
      "9       otherplans 1.629318e-03         Yes\n",
      "10         housing 1.116747e-04         Yes\n",
      "11             job 5.965816e-01          No\n",
      "12            tele 2.788762e-01          No\n",
      "13         foreign 1.583075e-02         Yes\n"
     ]
    }
   ],
   "source": [
    "#####significance of qualitative variables\n",
    "pval=c()\n",
    "for(i in qual)\n",
    "{\n",
    "fit_qual<-chisq.test(table(data[,i],Default))\n",
    "pval<-c(pval,fit_qual$p.value)\n",
    "}\n",
    "M=NULL\n",
    "M=data.frame(pval)\n",
    "M=cbind(colnames(data)[qual],M,ifelse(pval<0.05,'Yes','No'))\n",
    "names(M)=c('Predictor', 'p-value','Significant')\n",
    "print(M)\n"
   ]
  },
  {
   "cell_type": "code",
   "execution_count": 10,
   "id": "59382655",
   "metadata": {},
   "outputs": [
    {
     "name": "stderr",
     "output_type": "stream",
     "text": [
      "Warning message:\n",
      "\"glm.fit: algorithm did not converge\"\n"
     ]
    },
    {
     "name": "stdout",
     "output_type": "stream",
     "text": [
      "    Predictor      p-value Significant\n",
      "1     Default 9.982749e-01          No\n",
      "2    duration 4.626425e-11         Yes\n",
      "3      amount 2.024774e-06         Yes\n",
      "4 installment 2.233840e-02         Yes\n",
      "5   residence 9.252446e-01          No\n",
      "6         age 4.157657e-03         Yes\n",
      "7       cards 1.487728e-01          No\n",
      "8      liable 9.240470e-01          No\n"
     ]
    }
   ],
   "source": [
    "#######significance of quantitative predictor variables\n",
    "pval2=c()\n",
    "for (i in quan)\n",
    "{\n",
    "result=summary(glm(Default~data[,i],family=\"binomial\", data=data))\n",
    "pval2=c(pval2,result$coefficients[2,4]) # record p-values of t-test\n",
    "}\n",
    "M1=NULL\n",
    "M1=data.frame(pval2)\n",
    "M1=cbind(colnames(data)[quan],M1,ifelse(pval2<0.05,'Yes','No'))\n",
    "names(M1)=c('Predictor','p-value','Significant')\n",
    "print(M1)\n"
   ]
  },
  {
   "cell_type": "code",
   "execution_count": null,
   "id": "4ded6f22",
   "metadata": {},
   "outputs": [],
   "source": []
  },
  {
   "cell_type": "markdown",
   "id": "ad25ee50",
   "metadata": {},
   "source": [
    "# Build a “reasonably good” logistic regression model for these data"
   ]
  },
  {
   "cell_type": "code",
   "execution_count": 47,
   "id": "1f3d8975",
   "metadata": {},
   "outputs": [
    {
     "data": {
      "text/html": [
       "<table class=\"dataframe\">\n",
       "<caption>A anova: 2 × 5</caption>\n",
       "<thead>\n",
       "\t<tr><th></th><th scope=col>Resid. Df</th><th scope=col>Resid. Dev</th><th scope=col>Df</th><th scope=col>Deviance</th><th scope=col>Pr(&gt;Chi)</th></tr>\n",
       "\t<tr><th></th><th scope=col>&lt;dbl&gt;</th><th scope=col>&lt;dbl&gt;</th><th scope=col>&lt;dbl&gt;</th><th scope=col>&lt;dbl&gt;</th><th scope=col>&lt;dbl&gt;</th></tr>\n",
       "</thead>\n",
       "<tbody>\n",
       "\t<tr><th scope=row>1</th><td>958</td><td>902.3546</td><td>NA</td><td>      NA</td><td>       NA</td></tr>\n",
       "\t<tr><th scope=row>2</th><td>951</td><td>895.8178</td><td> 7</td><td>6.536788</td><td>0.4786454</td></tr>\n",
       "</tbody>\n",
       "</table>\n"
      ],
      "text/latex": [
       "A anova: 2 × 5\n",
       "\\begin{tabular}{r|lllll}\n",
       "  & Resid. Df & Resid. Dev & Df & Deviance & Pr(>Chi)\\\\\n",
       "  & <dbl> & <dbl> & <dbl> & <dbl> & <dbl>\\\\\n",
       "\\hline\n",
       "\t1 & 958 & 902.3546 & NA &       NA &        NA\\\\\n",
       "\t2 & 951 & 895.8178 &  7 & 6.536788 & 0.4786454\\\\\n",
       "\\end{tabular}\n"
      ],
      "text/markdown": [
       "\n",
       "A anova: 2 × 5\n",
       "\n",
       "| <!--/--> | Resid. Df &lt;dbl&gt; | Resid. Dev &lt;dbl&gt; | Df &lt;dbl&gt; | Deviance &lt;dbl&gt; | Pr(&gt;Chi) &lt;dbl&gt; |\n",
       "|---|---|---|---|---|---|\n",
       "| 1 | 958 | 902.3546 | NA |       NA |        NA |\n",
       "| 2 | 951 | 895.8178 |  7 | 6.536788 | 0.4786454 |\n",
       "\n"
      ],
      "text/plain": [
       "  Resid. Df Resid. Dev Df Deviance Pr(>Chi) \n",
       "1 958       902.3546   NA       NA        NA\n",
       "2 951       895.8178    7 6.536788 0.4786454"
      ]
     },
     "metadata": {},
     "output_type": "display_data"
    }
   ],
   "source": [
    "fit1<-glm(Default~.,family=\"binomial\",data=data)\n",
    "fit2<-glm(Default~checkingstatus1+history+purpose+savings+employ+status+others+property\n",
    "+otherplans+housing+foreign+duration+amount+age+installment,family=\"binomial\",data=data)\n",
    "anova(fit2,fit1,test = \"Chisq\")\n"
   ]
  },
  {
   "cell_type": "code",
   "execution_count": 48,
   "id": "14194d9f",
   "metadata": {},
   "outputs": [
    {
     "data": {
      "text/plain": [
       "\n",
       "Call:\n",
       "glm(formula = Default ~ checkingstatus1 + history + purpose + \n",
       "    savings + employ + status + others + property + otherplans + \n",
       "    housing + foreign + duration + amount + age + installment, \n",
       "    family = \"binomial\", data = data)\n",
       "\n",
       "Deviance Residuals: \n",
       "    Min       1Q   Median       3Q      Max  \n",
       "-2.3281  -0.7009  -0.3850   0.7433   2.6734  \n",
       "\n",
       "Coefficients:\n",
       "                     Estimate Std. Error z value Pr(>|z|)    \n",
       "(Intercept)         1.611e+00  8.494e-01   1.896 0.057896 .  \n",
       "checkingstatus1A12 -4.269e-01  2.158e-01  -1.978 0.047895 *  \n",
       "checkingstatus1A13 -1.047e+00  3.653e-01  -2.867 0.004149 ** \n",
       "checkingstatus1A14 -1.730e+00  2.307e-01  -7.499 6.45e-14 ***\n",
       "historyA31         -2.120e-02  5.287e-01  -0.040 0.968024    \n",
       "historyA32         -7.477e-01  4.104e-01  -1.822 0.068456 .  \n",
       "historyA33         -8.618e-01  4.661e-01  -1.849 0.064448 .  \n",
       "historyA34         -1.404e+00  4.332e-01  -3.240 0.001194 ** \n",
       "purposeA41         -1.658e+00  3.658e-01  -4.533 5.82e-06 ***\n",
       "purposeA410        -1.638e+00  7.495e-01  -2.185 0.028857 *  \n",
       "purposeA42         -8.014e-01  2.579e-01  -3.107 0.001888 ** \n",
       "purposeA43         -8.978e-01  2.459e-01  -3.651 0.000261 ***\n",
       "purposeA44         -5.870e-01  7.563e-01  -0.776 0.437673    \n",
       "purposeA45         -1.345e-01  5.479e-01  -0.246 0.806055    \n",
       "purposeA46          2.076e-02  3.981e-01   0.052 0.958416    \n",
       "purposeA48         -2.006e+00  1.214e+00  -1.652 0.098479 .  \n",
       "purposeA49         -7.637e-01  3.297e-01  -2.316 0.020553 *  \n",
       "savingsA62         -3.198e-01  2.813e-01  -1.137 0.255567    \n",
       "savingsA63         -4.396e-01  3.985e-01  -1.103 0.269922    \n",
       "savingsA64         -1.285e+00  5.148e-01  -2.496 0.012562 *  \n",
       "savingsA65         -9.611e-01  2.599e-01  -3.698 0.000217 ***\n",
       "employA72           1.069e-01  3.802e-01   0.281 0.778632    \n",
       "employA73           8.971e-03  3.537e-01   0.025 0.979769    \n",
       "employA74          -6.428e-01  3.950e-01  -1.628 0.103623    \n",
       "employA75          -7.210e-02  3.644e-01  -0.198 0.843142    \n",
       "statusA92          -2.858e-01  3.794e-01  -0.753 0.451325    \n",
       "statusA93          -7.500e-01  3.703e-01  -2.025 0.042822 *  \n",
       "statusA94          -3.937e-01  4.475e-01  -0.880 0.379012    \n",
       "othersA102          4.677e-01  4.109e-01   1.138 0.255004    \n",
       "othersA103         -9.312e-01  4.233e-01  -2.200 0.027806 *  \n",
       "propertyA122        2.542e-01  2.507e-01   1.014 0.310577    \n",
       "propertyA123        1.786e-01  2.314e-01   0.772 0.440245    \n",
       "propertyA124        5.978e-01  4.187e-01   1.428 0.153397    \n",
       "otherplansA142     -1.238e-01  4.095e-01  -0.302 0.762472    \n",
       "otherplansA143     -6.749e-01  2.375e-01  -2.842 0.004486 ** \n",
       "housingA152        -4.491e-01  2.249e-01  -1.997 0.045809 *  \n",
       "housingA153        -5.840e-01  4.724e-01  -1.236 0.216323    \n",
       "foreignA202        -1.384e+00  6.283e-01  -2.203 0.027614 *  \n",
       "duration            2.831e-02  9.083e-03   3.117 0.001825 ** \n",
       "amount              1.096e-04  4.173e-05   2.626 0.008627 ** \n",
       "age                -1.519e-02  8.976e-03  -1.693 0.090545 .  \n",
       "installment         3.092e-01  8.604e-02   3.594 0.000326 ***\n",
       "---\n",
       "Signif. codes:  0 '***' 0.001 '**' 0.01 '*' 0.05 '.' 0.1 ' ' 1\n",
       "\n",
       "(Dispersion parameter for binomial family taken to be 1)\n",
       "\n",
       "    Null deviance: 1221.73  on 999  degrees of freedom\n",
       "Residual deviance:  902.35  on 958  degrees of freedom\n",
       "AIC: 986.35\n",
       "\n",
       "Number of Fisher Scoring iterations: 5\n"
      ]
     },
     "metadata": {},
     "output_type": "display_data"
    }
   ],
   "source": [
    "summary(fit2)\n"
   ]
  },
  {
   "cell_type": "code",
   "execution_count": 49,
   "id": "d2be3e16",
   "metadata": {},
   "outputs": [
    {
     "data": {
      "text/html": [
       "<table class=\"dataframe\">\n",
       "<caption>A anova: 2 × 5</caption>\n",
       "<thead>\n",
       "\t<tr><th></th><th scope=col>Resid. Df</th><th scope=col>Resid. Dev</th><th scope=col>Df</th><th scope=col>Deviance</th><th scope=col>Pr(&gt;Chi)</th></tr>\n",
       "\t<tr><th></th><th scope=col>&lt;dbl&gt;</th><th scope=col>&lt;dbl&gt;</th><th scope=col>&lt;dbl&gt;</th><th scope=col>&lt;dbl&gt;</th><th scope=col>&lt;dbl&gt;</th></tr>\n",
       "</thead>\n",
       "<tbody>\n",
       "\t<tr><th scope=row>1</th><td>965</td><td>912.8155</td><td>NA</td><td>      NA</td><td>       NA</td></tr>\n",
       "\t<tr><th scope=row>2</th><td>958</td><td>902.3546</td><td> 7</td><td>10.46098</td><td>0.1639202</td></tr>\n",
       "</tbody>\n",
       "</table>\n"
      ],
      "text/latex": [
       "A anova: 2 × 5\n",
       "\\begin{tabular}{r|lllll}\n",
       "  & Resid. Df & Resid. Dev & Df & Deviance & Pr(>Chi)\\\\\n",
       "  & <dbl> & <dbl> & <dbl> & <dbl> & <dbl>\\\\\n",
       "\\hline\n",
       "\t1 & 965 & 912.8155 & NA &       NA &        NA\\\\\n",
       "\t2 & 958 & 902.3546 &  7 & 10.46098 & 0.1639202\\\\\n",
       "\\end{tabular}\n"
      ],
      "text/markdown": [
       "\n",
       "A anova: 2 × 5\n",
       "\n",
       "| <!--/--> | Resid. Df &lt;dbl&gt; | Resid. Dev &lt;dbl&gt; | Df &lt;dbl&gt; | Deviance &lt;dbl&gt; | Pr(&gt;Chi) &lt;dbl&gt; |\n",
       "|---|---|---|---|---|---|\n",
       "| 1 | 965 | 912.8155 | NA |       NA |        NA |\n",
       "| 2 | 958 | 902.3546 |  7 | 10.46098 | 0.1639202 |\n",
       "\n"
      ],
      "text/plain": [
       "  Resid. Df Resid. Dev Df Deviance Pr(>Chi) \n",
       "1 965       912.8155   NA       NA        NA\n",
       "2 958       902.3546    7 10.46098 0.1639202"
      ]
     },
     "metadata": {},
     "output_type": "display_data"
    }
   ],
   "source": [
    "fit3<-glm(Default~checkingstatus1+history+purpose+savings+status+others\n",
    "+otherplans+housing+foreign+duration+amount+age+installment,family=\"binomial\",data=data)\n",
    "anova(fit3,fit2,test = \"Chisq\")\n"
   ]
  },
  {
   "cell_type": "code",
   "execution_count": 50,
   "id": "0f0f6363",
   "metadata": {},
   "outputs": [
    {
     "data": {
      "text/plain": [
       "\n",
       "Call:\n",
       "glm(formula = Default ~ checkingstatus1 + history + purpose + \n",
       "    savings + status + others + otherplans + housing + foreign + \n",
       "    duration + amount + age + installment, family = \"binomial\", \n",
       "    data = data)\n",
       "\n",
       "Deviance Residuals: \n",
       "    Min       1Q   Median       3Q      Max  \n",
       "-2.2832  -0.7027  -0.3867   0.7392   2.7881  \n",
       "\n",
       "Coefficients:\n",
       "                     Estimate Std. Error z value Pr(>|z|)    \n",
       "(Intercept)         1.787e+00  7.349e-01   2.431 0.015042 *  \n",
       "checkingstatus1A12 -3.996e-01  2.115e-01  -1.890 0.058802 .  \n",
       "checkingstatus1A13 -1.025e+00  3.620e-01  -2.830 0.004652 ** \n",
       "checkingstatus1A14 -1.734e+00  2.279e-01  -7.610 2.73e-14 ***\n",
       "historyA31         -1.288e-01  5.241e-01  -0.246 0.805860    \n",
       "historyA32         -8.429e-01  4.083e-01  -2.064 0.038976 *  \n",
       "historyA33         -9.351e-01  4.640e-01  -2.015 0.043872 *  \n",
       "historyA34         -1.508e+00  4.306e-01  -3.502 0.000462 ***\n",
       "purposeA41         -1.623e+00  3.645e-01  -4.452 8.52e-06 ***\n",
       "purposeA410        -1.534e+00  7.461e-01  -2.056 0.039829 *  \n",
       "purposeA42         -7.352e-01  2.528e-01  -2.908 0.003636 ** \n",
       "purposeA43         -9.093e-01  2.433e-01  -3.737 0.000186 ***\n",
       "purposeA44         -5.143e-01  7.295e-01  -0.705 0.480770    \n",
       "purposeA45         -9.557e-02  5.367e-01  -0.178 0.858657    \n",
       "purposeA46          1.255e-01  3.923e-01   0.320 0.748916    \n",
       "purposeA48         -2.115e+00  1.209e+00  -1.749 0.080306 .  \n",
       "purposeA49         -8.128e-01  3.252e-01  -2.499 0.012457 *  \n",
       "savingsA62         -3.263e-01  2.760e-01  -1.182 0.237080    \n",
       "savingsA63         -4.332e-01  3.948e-01  -1.097 0.272550    \n",
       "savingsA64         -1.300e+00  5.075e-01  -2.562 0.010394 *  \n",
       "savingsA65         -9.589e-01  2.559e-01  -3.747 0.000179 ***\n",
       "statusA92          -2.932e-01  3.735e-01  -0.785 0.432492    \n",
       "statusA93          -8.263e-01  3.638e-01  -2.271 0.023132 *  \n",
       "statusA94          -4.395e-01  4.412e-01  -0.996 0.319167    \n",
       "othersA102          5.075e-01  4.008e-01   1.266 0.205402    \n",
       "othersA103         -1.011e+00  4.172e-01  -2.424 0.015333 *  \n",
       "otherplansA142     -8.431e-02  4.037e-01  -0.209 0.834567    \n",
       "otherplansA143     -6.987e-01  2.351e-01  -2.972 0.002955 ** \n",
       "housingA152        -4.384e-01  2.210e-01  -1.983 0.047313 *  \n",
       "housingA153        -1.574e-01  3.397e-01  -0.463 0.643044    \n",
       "foreignA202        -1.326e+00  6.192e-01  -2.142 0.032232 *  \n",
       "duration            2.668e-02  8.884e-03   3.004 0.002667 ** \n",
       "amount              1.135e-04  4.068e-05   2.789 0.005286 ** \n",
       "age                -1.478e-02  8.315e-03  -1.778 0.075416 .  \n",
       "installment         3.191e-01  8.503e-02   3.752 0.000175 ***\n",
       "---\n",
       "Signif. codes:  0 '***' 0.001 '**' 0.01 '*' 0.05 '.' 0.1 ' ' 1\n",
       "\n",
       "(Dispersion parameter for binomial family taken to be 1)\n",
       "\n",
       "    Null deviance: 1221.73  on 999  degrees of freedom\n",
       "Residual deviance:  912.82  on 965  degrees of freedom\n",
       "AIC: 982.82\n",
       "\n",
       "Number of Fisher Scoring iterations: 5\n"
      ]
     },
     "metadata": {},
     "output_type": "display_data"
    }
   ],
   "source": [
    "summary(fit3)"
   ]
  },
  {
   "cell_type": "code",
   "execution_count": 52,
   "id": "d08954ff",
   "metadata": {},
   "outputs": [
    {
     "data": {
      "text/html": [
       "<table class=\"dataframe\">\n",
       "<caption>A anova: 2 × 5</caption>\n",
       "<thead>\n",
       "\t<tr><th></th><th scope=col>Resid. Df</th><th scope=col>Resid. Dev</th><th scope=col>Df</th><th scope=col>Deviance</th><th scope=col>Pr(&gt;Chi)</th></tr>\n",
       "\t<tr><th></th><th scope=col>&lt;dbl&gt;</th><th scope=col>&lt;dbl&gt;</th><th scope=col>&lt;dbl&gt;</th><th scope=col>&lt;dbl&gt;</th><th scope=col>&lt;dbl&gt;</th></tr>\n",
       "</thead>\n",
       "<tbody>\n",
       "\t<tr><th scope=row>1</th><td>966</td><td>916.0316</td><td>NA</td><td>      NA</td><td>        NA</td></tr>\n",
       "\t<tr><th scope=row>2</th><td>965</td><td>912.8155</td><td> 1</td><td>3.216065</td><td>0.07291874</td></tr>\n",
       "</tbody>\n",
       "</table>\n"
      ],
      "text/latex": [
       "A anova: 2 × 5\n",
       "\\begin{tabular}{r|lllll}\n",
       "  & Resid. Df & Resid. Dev & Df & Deviance & Pr(>Chi)\\\\\n",
       "  & <dbl> & <dbl> & <dbl> & <dbl> & <dbl>\\\\\n",
       "\\hline\n",
       "\t1 & 966 & 916.0316 & NA &       NA &         NA\\\\\n",
       "\t2 & 965 & 912.8155 &  1 & 3.216065 & 0.07291874\\\\\n",
       "\\end{tabular}\n"
      ],
      "text/markdown": [
       "\n",
       "A anova: 2 × 5\n",
       "\n",
       "| <!--/--> | Resid. Df &lt;dbl&gt; | Resid. Dev &lt;dbl&gt; | Df &lt;dbl&gt; | Deviance &lt;dbl&gt; | Pr(&gt;Chi) &lt;dbl&gt; |\n",
       "|---|---|---|---|---|---|\n",
       "| 1 | 966 | 916.0316 | NA |       NA |         NA |\n",
       "| 2 | 965 | 912.8155 |  1 | 3.216065 | 0.07291874 |\n",
       "\n"
      ],
      "text/plain": [
       "  Resid. Df Resid. Dev Df Deviance Pr(>Chi)  \n",
       "1 966       916.0316   NA       NA         NA\n",
       "2 965       912.8155    1 3.216065 0.07291874"
      ]
     },
     "metadata": {},
     "output_type": "display_data"
    }
   ],
   "source": [
    "fit4<-glm(Default~checkingstatus1+history+purpose+savings+status+others\n",
    "+otherplans+housing+foreign+duration+amount+installment,family=\"binomial\",data=data)\n",
    "anova(fit4,fit3,test = \"Chisq\")"
   ]
  },
  {
   "cell_type": "code",
   "execution_count": 53,
   "id": "4bbb4d73",
   "metadata": {},
   "outputs": [
    {
     "data": {
      "text/plain": [
       "\n",
       "Call:\n",
       "glm(formula = Default ~ checkingstatus1 + history + purpose + \n",
       "    savings + status + others + otherplans + housing + foreign + \n",
       "    duration + amount + installment, family = \"binomial\", data = data)\n",
       "\n",
       "Deviance Residuals: \n",
       "    Min       1Q   Median       3Q      Max  \n",
       "-2.2327  -0.7017  -0.3944   0.7362   2.7008  \n",
       "\n",
       "Coefficients:\n",
       "                     Estimate Std. Error z value Pr(>|z|)    \n",
       "(Intercept)         1.235e+00  6.644e-01   1.860 0.062944 .  \n",
       "checkingstatus1A12 -3.861e-01  2.110e-01  -1.830 0.067274 .  \n",
       "checkingstatus1A13 -1.032e+00  3.594e-01  -2.870 0.004099 ** \n",
       "checkingstatus1A14 -1.737e+00  2.273e-01  -7.639 2.19e-14 ***\n",
       "historyA31         -1.314e-01  5.234e-01  -0.251 0.801794    \n",
       "historyA32         -8.379e-01  4.084e-01  -2.052 0.040208 *  \n",
       "historyA33         -9.662e-01  4.650e-01  -2.078 0.037713 *  \n",
       "historyA34         -1.545e+00  4.303e-01  -3.591 0.000329 ***\n",
       "purposeA41         -1.623e+00  3.644e-01  -4.455 8.38e-06 ***\n",
       "purposeA410        -1.522e+00  7.492e-01  -2.031 0.042258 *  \n",
       "purposeA42         -6.874e-01  2.508e-01  -2.741 0.006124 ** \n",
       "purposeA43         -8.808e-01  2.414e-01  -3.649 0.000263 ***\n",
       "purposeA44         -5.065e-01  7.356e-01  -0.689 0.491048    \n",
       "purposeA45         -1.319e-01  5.385e-01  -0.245 0.806503    \n",
       "purposeA46          1.272e-01  3.889e-01   0.327 0.743553    \n",
       "purposeA48         -2.124e+00  1.221e+00  -1.739 0.082055 .  \n",
       "purposeA49         -8.061e-01  3.265e-01  -2.469 0.013542 *  \n",
       "savingsA62         -2.960e-01  2.756e-01  -1.074 0.282864    \n",
       "savingsA63         -4.453e-01  3.910e-01  -1.139 0.254791    \n",
       "savingsA64         -1.341e+00  5.072e-01  -2.644 0.008190 ** \n",
       "savingsA65         -9.750e-01  2.549e-01  -3.825 0.000131 ***\n",
       "statusA92          -2.148e-01  3.704e-01  -0.580 0.561960    \n",
       "statusA93          -7.826e-01  3.626e-01  -2.159 0.030876 *  \n",
       "statusA94          -3.313e-01  4.366e-01  -0.759 0.447891    \n",
       "othersA102          4.934e-01  4.028e-01   1.225 0.220610    \n",
       "othersA103         -1.036e+00  4.161e-01  -2.489 0.012817 *  \n",
       "otherplansA142     -6.513e-02  4.021e-01  -0.162 0.871338    \n",
       "otherplansA143     -6.709e-01  2.345e-01  -2.862 0.004216 ** \n",
       "housingA152        -4.864e-01  2.194e-01  -2.217 0.026628 *  \n",
       "housingA153        -3.338e-01  3.250e-01  -1.027 0.304280    \n",
       "foreignA202        -1.307e+00  6.197e-01  -2.109 0.034955 *  \n",
       "duration            2.838e-02  8.887e-03   3.194 0.001403 ** \n",
       "amount              1.114e-04  4.106e-05   2.713 0.006673 ** \n",
       "installment         3.098e-01  8.481e-02   3.654 0.000259 ***\n",
       "---\n",
       "Signif. codes:  0 '***' 0.001 '**' 0.01 '*' 0.05 '.' 0.1 ' ' 1\n",
       "\n",
       "(Dispersion parameter for binomial family taken to be 1)\n",
       "\n",
       "    Null deviance: 1221.73  on 999  degrees of freedom\n",
       "Residual deviance:  916.03  on 966  degrees of freedom\n",
       "AIC: 984.03\n",
       "\n",
       "Number of Fisher Scoring iterations: 5\n"
      ]
     },
     "metadata": {},
     "output_type": "display_data"
    }
   ],
   "source": [
    "summary(fit4)\n"
   ]
  },
  {
   "cell_type": "code",
   "execution_count": 54,
   "id": "f5582f67",
   "metadata": {},
   "outputs": [
    {
     "data": {
      "text/html": [
       "<table class=\"dataframe\">\n",
       "<caption>A anova: 2 × 5</caption>\n",
       "<thead>\n",
       "\t<tr><th></th><th scope=col>Resid. Df</th><th scope=col>Resid. Dev</th><th scope=col>Df</th><th scope=col>Deviance</th><th scope=col>Pr(&gt;Chi)</th></tr>\n",
       "\t<tr><th></th><th scope=col>&lt;dbl&gt;</th><th scope=col>&lt;dbl&gt;</th><th scope=col>&lt;dbl&gt;</th><th scope=col>&lt;dbl&gt;</th><th scope=col>&lt;dbl&gt;</th></tr>\n",
       "</thead>\n",
       "<tbody>\n",
       "\t<tr><th scope=row>1</th><td>967</td><td>929.8315</td><td>NA</td><td>      NA</td><td>          NA</td></tr>\n",
       "\t<tr><th scope=row>2</th><td>966</td><td>916.0316</td><td> 1</td><td>13.79991</td><td>0.0002033461</td></tr>\n",
       "</tbody>\n",
       "</table>\n"
      ],
      "text/latex": [
       "A anova: 2 × 5\n",
       "\\begin{tabular}{r|lllll}\n",
       "  & Resid. Df & Resid. Dev & Df & Deviance & Pr(>Chi)\\\\\n",
       "  & <dbl> & <dbl> & <dbl> & <dbl> & <dbl>\\\\\n",
       "\\hline\n",
       "\t1 & 967 & 929.8315 & NA &       NA &           NA\\\\\n",
       "\t2 & 966 & 916.0316 &  1 & 13.79991 & 0.0002033461\\\\\n",
       "\\end{tabular}\n"
      ],
      "text/markdown": [
       "\n",
       "A anova: 2 × 5\n",
       "\n",
       "| <!--/--> | Resid. Df &lt;dbl&gt; | Resid. Dev &lt;dbl&gt; | Df &lt;dbl&gt; | Deviance &lt;dbl&gt; | Pr(&gt;Chi) &lt;dbl&gt; |\n",
       "|---|---|---|---|---|---|\n",
       "| 1 | 967 | 929.8315 | NA |       NA |           NA |\n",
       "| 2 | 966 | 916.0316 |  1 | 13.79991 | 0.0002033461 |\n",
       "\n"
      ],
      "text/plain": [
       "  Resid. Df Resid. Dev Df Deviance Pr(>Chi)    \n",
       "1 967       929.8315   NA       NA           NA\n",
       "2 966       916.0316    1 13.79991 0.0002033461"
      ]
     },
     "metadata": {},
     "output_type": "display_data"
    }
   ],
   "source": [
    "fit5<-glm(Default~checkingstatus1+history+purpose+savings+status+others\n",
    "+otherplans+housing+foreign+duration+amount,family=\"binomial\",data=data)\n",
    "anova(fit5,fit4,test = \"Chisq\")\n"
   ]
  },
  {
   "cell_type": "code",
   "execution_count": 55,
   "id": "a6f1c5fe",
   "metadata": {},
   "outputs": [
    {
     "data": {
      "text/plain": [
       "\n",
       "Call:\n",
       "glm(formula = Default ~ checkingstatus1 + history + purpose + \n",
       "    savings + status + others + otherplans + housing + foreign + \n",
       "    duration + amount, family = \"binomial\", data = data)\n",
       "\n",
       "Deviance Residuals: \n",
       "    Min       1Q   Median       3Q      Max  \n",
       "-2.1376  -0.7042  -0.4019   0.7719   2.7833  \n",
       "\n",
       "Coefficients:\n",
       "                     Estimate Std. Error z value Pr(>|z|)    \n",
       "(Intercept)         1.989e+00  6.286e-01   3.164 0.001556 ** \n",
       "checkingstatus1A12 -4.268e-01  2.088e-01  -2.044 0.040940 *  \n",
       "checkingstatus1A13 -1.109e+00  3.556e-01  -3.118 0.001822 ** \n",
       "checkingstatus1A14 -1.730e+00  2.253e-01  -7.680 1.59e-14 ***\n",
       "historyA31         -7.826e-02  5.189e-01  -0.151 0.880134    \n",
       "historyA32         -8.114e-01  4.039e-01  -2.009 0.044546 *  \n",
       "historyA33         -9.613e-01  4.609e-01  -2.086 0.036977 *  \n",
       "historyA34         -1.487e+00  4.258e-01  -3.492 0.000479 ***\n",
       "purposeA41         -1.603e+00  3.586e-01  -4.471 7.79e-06 ***\n",
       "purposeA410        -1.437e+00  7.302e-01  -1.968 0.049079 *  \n",
       "purposeA42         -6.881e-01  2.486e-01  -2.768 0.005637 ** \n",
       "purposeA43         -7.985e-01  2.379e-01  -3.356 0.000791 ***\n",
       "purposeA44         -4.291e-01  7.278e-01  -0.590 0.555495    \n",
       "purposeA45         -6.167e-02  5.406e-01  -0.114 0.909184    \n",
       "purposeA46          1.707e-01  3.824e-01   0.447 0.655230    \n",
       "purposeA48         -1.952e+00  1.203e+00  -1.622 0.104707    \n",
       "purposeA49         -8.015e-01  3.252e-01  -2.465 0.013706 *  \n",
       "savingsA62         -2.949e-01  2.742e-01  -1.075 0.282253    \n",
       "savingsA63         -5.365e-01  3.893e-01  -1.378 0.168232    \n",
       "savingsA64         -1.264e+00  5.025e-01  -2.515 0.011902 *  \n",
       "savingsA65         -9.269e-01  2.520e-01  -3.678 0.000235 ***\n",
       "statusA92          -1.628e-01  3.672e-01  -0.443 0.657525    \n",
       "statusA93          -6.356e-01  3.575e-01  -1.778 0.075423 .  \n",
       "statusA94          -2.660e-01  4.337e-01  -0.613 0.539708    \n",
       "othersA102          5.059e-01  3.999e-01   1.265 0.205828    \n",
       "othersA103         -1.082e+00  4.134e-01  -2.618 0.008841 ** \n",
       "otherplansA142      1.999e-02  4.004e-01   0.050 0.960182    \n",
       "otherplansA143     -6.274e-01  2.325e-01  -2.699 0.006965 ** \n",
       "housingA152        -4.537e-01  2.157e-01  -2.104 0.035414 *  \n",
       "housingA153        -2.548e-01  3.198e-01  -0.797 0.425516    \n",
       "foreignA202        -1.368e+00  6.079e-01  -2.250 0.024423 *  \n",
       "duration            3.584e-02  8.604e-03   4.166 3.10e-05 ***\n",
       "amount              5.216e-05  3.746e-05   1.393 0.163758    \n",
       "---\n",
       "Signif. codes:  0 '***' 0.001 '**' 0.01 '*' 0.05 '.' 0.1 ' ' 1\n",
       "\n",
       "(Dispersion parameter for binomial family taken to be 1)\n",
       "\n",
       "    Null deviance: 1221.73  on 999  degrees of freedom\n",
       "Residual deviance:  929.83  on 967  degrees of freedom\n",
       "AIC: 995.83\n",
       "\n",
       "Number of Fisher Scoring iterations: 5\n"
      ]
     },
     "metadata": {},
     "output_type": "display_data"
    }
   ],
   "source": [
    "summary(fit5)"
   ]
  },
  {
   "cell_type": "code",
   "execution_count": 56,
   "id": "d0de819e",
   "metadata": {},
   "outputs": [
    {
     "data": {
      "text/html": [
       "<table class=\"dataframe\">\n",
       "<caption>A anova: 2 × 5</caption>\n",
       "<thead>\n",
       "\t<tr><th></th><th scope=col>Resid. Df</th><th scope=col>Resid. Dev</th><th scope=col>Df</th><th scope=col>Deviance</th><th scope=col>Pr(&gt;Chi)</th></tr>\n",
       "\t<tr><th></th><th scope=col>&lt;dbl&gt;</th><th scope=col>&lt;dbl&gt;</th><th scope=col>&lt;dbl&gt;</th><th scope=col>&lt;dbl&gt;</th><th scope=col>&lt;dbl&gt;</th></tr>\n",
       "</thead>\n",
       "<tbody>\n",
       "\t<tr><th scope=row>1</th><td>967</td><td>929.8315</td><td>NA</td><td>      NA</td><td>         NA</td></tr>\n",
       "\t<tr><th scope=row>2</th><td>951</td><td>895.8178</td><td>16</td><td>34.01374</td><td>0.005409916</td></tr>\n",
       "</tbody>\n",
       "</table>\n"
      ],
      "text/latex": [
       "A anova: 2 × 5\n",
       "\\begin{tabular}{r|lllll}\n",
       "  & Resid. Df & Resid. Dev & Df & Deviance & Pr(>Chi)\\\\\n",
       "  & <dbl> & <dbl> & <dbl> & <dbl> & <dbl>\\\\\n",
       "\\hline\n",
       "\t1 & 967 & 929.8315 & NA &       NA &          NA\\\\\n",
       "\t2 & 951 & 895.8178 & 16 & 34.01374 & 0.005409916\\\\\n",
       "\\end{tabular}\n"
      ],
      "text/markdown": [
       "\n",
       "A anova: 2 × 5\n",
       "\n",
       "| <!--/--> | Resid. Df &lt;dbl&gt; | Resid. Dev &lt;dbl&gt; | Df &lt;dbl&gt; | Deviance &lt;dbl&gt; | Pr(&gt;Chi) &lt;dbl&gt; |\n",
       "|---|---|---|---|---|---|\n",
       "| 1 | 967 | 929.8315 | NA |       NA |          NA |\n",
       "| 2 | 951 | 895.8178 | 16 | 34.01374 | 0.005409916 |\n",
       "\n"
      ],
      "text/plain": [
       "  Resid. Df Resid. Dev Df Deviance Pr(>Chi)   \n",
       "1 967       929.8315   NA       NA          NA\n",
       "2 951       895.8178   16 34.01374 0.005409916"
      ]
     },
     "metadata": {},
     "output_type": "display_data"
    }
   ],
   "source": [
    "anova(fit5,fit1, test=\"Chisq\")\n"
   ]
  },
  {
   "cell_type": "markdown",
   "id": "735618cb",
   "metadata": {},
   "source": [
    "#  The estimated coefficients of at least two predictors"
   ]
  },
  {
   "cell_type": "code",
   "execution_count": 57,
   "id": "84fae734",
   "metadata": {},
   "outputs": [
    {
     "name": "stdout",
     "output_type": "stream",
     "text": [
      "% latex table generated in R 4.1.0 by xtable 1.8-4 package\n",
      "% Thu Jul 13 11:06:40 2023\n",
      "\\begin{table}[ht]\n",
      "\\centering\n",
      "\\begin{tabular}{rrrrr}\n",
      "  \\hline\n",
      " & Estimate & Std. Error & z value & Pr($>$$|$z$|$) \\\\ \n",
      "  \\hline\n",
      "(Intercept) & 1.989 & 0.629 & 3.164 & 0.002 \\\\ \n",
      "  checkingstatus1A12 & -0.427 & 0.209 & -2.044 & 0.041 \\\\ \n",
      "  checkingstatus1A13 & -1.109 & 0.356 & -3.118 & 0.002 \\\\ \n",
      "  checkingstatus1A14 & -1.730 & 0.225 & -7.680 & 0.000 \\\\ \n",
      "  historyA31 & -0.078 & 0.519 & -0.151 & 0.880 \\\\ \n",
      "  historyA32 & -0.811 & 0.404 & -2.009 & 0.045 \\\\ \n",
      "  historyA33 & -0.961 & 0.461 & -2.086 & 0.037 \\\\ \n",
      "  historyA34 & -1.487 & 0.426 & -3.492 & 0.000 \\\\ \n",
      "  purposeA41 & -1.603 & 0.359 & -4.471 & 0.000 \\\\ \n",
      "  purposeA410 & -1.437 & 0.730 & -1.968 & 0.049 \\\\ \n",
      "  purposeA42 & -0.688 & 0.249 & -2.768 & 0.006 \\\\ \n",
      "  purposeA43 & -0.799 & 0.238 & -3.356 & 0.001 \\\\ \n",
      "  purposeA44 & -0.429 & 0.728 & -0.590 & 0.555 \\\\ \n",
      "  purposeA45 & -0.062 & 0.541 & -0.114 & 0.909 \\\\ \n",
      "  purposeA46 & 0.171 & 0.382 & 0.447 & 0.655 \\\\ \n",
      "  purposeA48 & -1.952 & 1.203 & -1.622 & 0.105 \\\\ \n",
      "  purposeA49 & -0.802 & 0.325 & -2.465 & 0.014 \\\\ \n",
      "  savingsA62 & -0.295 & 0.274 & -1.075 & 0.282 \\\\ \n",
      "  savingsA63 & -0.536 & 0.389 & -1.378 & 0.168 \\\\ \n",
      "  savingsA64 & -1.264 & 0.503 & -2.515 & 0.012 \\\\ \n",
      "  savingsA65 & -0.927 & 0.252 & -3.678 & 0.000 \\\\ \n",
      "  statusA92 & -0.163 & 0.367 & -0.443 & 0.658 \\\\ \n",
      "  statusA93 & -0.636 & 0.357 & -1.778 & 0.075 \\\\ \n",
      "  statusA94 & -0.266 & 0.434 & -0.613 & 0.540 \\\\ \n",
      "  othersA102 & 0.506 & 0.400 & 1.265 & 0.206 \\\\ \n",
      "  othersA103 & -1.082 & 0.413 & -2.618 & 0.009 \\\\ \n",
      "  otherplansA142 & 0.020 & 0.400 & 0.050 & 0.960 \\\\ \n",
      "  otherplansA143 & -0.627 & 0.233 & -2.699 & 0.007 \\\\ \n",
      "  housingA152 & -0.454 & 0.216 & -2.104 & 0.035 \\\\ \n",
      "  housingA153 & -0.255 & 0.320 & -0.797 & 0.426 \\\\ \n",
      "  foreignA202 & -1.368 & 0.608 & -2.250 & 0.024 \\\\ \n",
      "  duration & 0.036 & 0.009 & 4.166 & 0.000 \\\\ \n",
      "  amount & 0.000 & 0.000 & 1.393 & 0.164 \\\\ \n",
      "   \\hline\n",
      "\\end{tabular}\n",
      "\\end{table}\n"
     ]
    }
   ],
   "source": [
    "print(xtable(as.data.frame(summary(fit5)$coefficients),digits=3))\n"
   ]
  },
  {
   "cell_type": "markdown",
   "id": "b6ef553b",
   "metadata": {},
   "source": [
    "# 95% CI"
   ]
  },
  {
   "cell_type": "code",
   "execution_count": 58,
   "id": "8cdf7a7d",
   "metadata": {},
   "outputs": [
    {
     "name": "stdout",
     "output_type": "stream",
     "text": [
      "% latex table generated in R 4.1.0 by xtable 1.8-4 package\n",
      "% Thu Jul 13 11:09:11 2023\n",
      "\\begin{table}[ht]\n",
      "\\centering\n",
      "\\begin{tabular}{rrr}\n",
      "  \\hline\n",
      " & 2.5 \\% & 97.5 \\% \\\\ \n",
      "  \\hline\n",
      "(Intercept) & 0.7569 & 3.2208 \\\\ \n",
      "  checkingstatus1A12 & -0.8360 & -0.0176 \\\\ \n",
      "  checkingstatus1A13 & -1.8058 & -0.4118 \\\\ \n",
      "  checkingstatus1A14 & -2.1719 & -1.2887 \\\\ \n",
      "  historyA31 & -1.0954 & 0.9389 \\\\ \n",
      "  historyA32 & -1.6030 & -0.0198 \\\\ \n",
      "  historyA33 & -1.8646 & -0.0581 \\\\ \n",
      "  historyA34 & -2.3214 & -0.6524 \\\\ \n",
      "  purposeA41 & -2.3062 & -0.9005 \\\\ \n",
      "  purposeA410 & -2.8680 & -0.0058 \\\\ \n",
      "  purposeA42 & -1.1752 & -0.2009 \\\\ \n",
      "  purposeA43 & -1.2648 & -0.3322 \\\\ \n",
      "  purposeA44 & -1.8556 & 0.9974 \\\\ \n",
      "  purposeA45 & -1.1212 & 0.9979 \\\\ \n",
      "  purposeA46 & -0.5787 & 0.9202 \\\\ \n",
      "  purposeA48 & -4.3096 & 0.4060 \\\\ \n",
      "  purposeA49 & -1.4389 & -0.1642 \\\\ \n",
      "  savingsA62 & -0.8323 & 0.2426 \\\\ \n",
      "  savingsA63 & -1.2995 & 0.2266 \\\\ \n",
      "  savingsA64 & -2.2489 & -0.2790 \\\\ \n",
      "  savingsA65 & -1.4209 & -0.4329 \\\\ \n",
      "  statusA92 & -0.8825 & 0.5569 \\\\ \n",
      "  statusA93 & -1.3363 & 0.0651 \\\\ \n",
      "  statusA94 & -1.1160 & 0.5841 \\\\ \n",
      "  othersA102 & -0.2779 & 1.2897 \\\\ \n",
      "  othersA103 & -1.8927 & -0.2721 \\\\ \n",
      "  otherplansA142 & -0.7648 & 0.8048 \\\\ \n",
      "  otherplansA143 & -1.0832 & -0.1717 \\\\ \n",
      "  housingA152 & -0.8765 & -0.0310 \\\\ \n",
      "  housingA153 & -0.8816 & 0.3719 \\\\ \n",
      "  foreignA202 & -2.5595 & -0.1766 \\\\ \n",
      "  duration & 0.0190 & 0.0527 \\\\ \n",
      "  amount & -0.0000 & 0.0001 \\\\ \n",
      "   \\hline\n",
      "\\end{tabular}\n",
      "\\end{table}\n"
     ]
    }
   ],
   "source": [
    "Ci<-as.data.frame(confint.default(fit5))\n",
    "print(xtable(Ci,digits = 4))"
   ]
  },
  {
   "cell_type": "markdown",
   "id": "49c4ff1c",
   "metadata": {},
   "source": [
    "# Training error rate for the model"
   ]
  },
  {
   "cell_type": "code",
   "execution_count": 59,
   "id": "8aa73063",
   "metadata": {},
   "outputs": [
    {
     "data": {
      "text/html": [
       "0.213"
      ],
      "text/latex": [
       "0.213"
      ],
      "text/markdown": [
       "0.213"
      ],
      "text/plain": [
       "[1] 0.213"
      ]
     },
     "metadata": {},
     "output_type": "display_data"
    }
   ],
   "source": [
    "lr.prob<-predict(fit5,data, type=\"response\")\n",
    "lr.pred<-ifelse(lr.prob>=0.5,\"1\",\"0\")\n",
    "##Training error rates\n",
    "1-mean(lr.pred==data[,1])\n"
   ]
  },
  {
   "cell_type": "code",
   "execution_count": null,
   "id": "e994b366",
   "metadata": {},
   "outputs": [],
   "source": []
  },
  {
   "cell_type": "code",
   "execution_count": null,
   "id": "8a890e4a",
   "metadata": {},
   "outputs": [],
   "source": []
  },
  {
   "cell_type": "markdown",
   "id": "d93b873d",
   "metadata": {},
   "source": [
    "#  Fit a logistic regression model using all predictors in the data"
   ]
  },
  {
   "cell_type": "code",
   "execution_count": 60,
   "id": "5a3a2967",
   "metadata": {},
   "outputs": [
    {
     "name": "stdout",
     "output_type": "stream",
     "text": [
      "'data.frame':\t1000 obs. of  21 variables:\n",
      " $ Default        : Factor w/ 2 levels \"0\",\"1\": 1 2 1 1 2 1 1 1 1 2 ...\n",
      " $ checkingstatus1: Factor w/ 4 levels \"A11\",\"A12\",\"A13\",..: 1 2 4 1 1 4 4 2 4 2 ...\n",
      " $ duration       : num  6 48 12 42 24 36 24 36 12 30 ...\n",
      " $ history        : Factor w/ 5 levels \"A30\",\"A31\",\"A32\",..: 5 3 5 3 4 3 3 3 3 5 ...\n",
      " $ purpose        : Factor w/ 10 levels \"A40\",\"A41\",\"A410\",..: 5 5 8 4 1 8 4 2 5 1 ...\n",
      " $ amount         : num  1169 5951 2096 7882 4870 ...\n",
      " $ savings        : Factor w/ 5 levels \"A61\",\"A62\",\"A63\",..: 5 1 1 1 1 5 3 1 4 1 ...\n",
      " $ employ         : Factor w/ 5 levels \"A71\",\"A72\",\"A73\",..: 5 3 4 4 3 3 5 3 4 1 ...\n",
      " $ installment    : num  4 2 2 2 3 2 3 2 2 4 ...\n",
      " $ status         : Factor w/ 4 levels \"A91\",\"A92\",\"A93\",..: 3 2 3 3 3 3 3 3 1 4 ...\n",
      " $ others         : Factor w/ 3 levels \"A101\",\"A102\",..: 1 1 1 3 1 1 1 1 1 1 ...\n",
      " $ residence      : num  4 2 3 4 4 4 4 2 4 2 ...\n",
      " $ property       : Factor w/ 4 levels \"A121\",\"A122\",..: 1 1 1 2 4 4 2 3 1 3 ...\n",
      " $ age            : num  67 22 49 45 53 35 53 35 61 28 ...\n",
      " $ otherplans     : Factor w/ 3 levels \"A141\",\"A142\",..: 3 3 3 3 3 3 3 3 3 3 ...\n",
      " $ housing        : Factor w/ 3 levels \"A151\",\"A152\",..: 2 2 2 3 3 3 2 1 2 2 ...\n",
      " $ cards          : num  2 1 1 1 2 1 1 1 1 2 ...\n",
      " $ job            : Factor w/ 4 levels \"A171\",\"A172\",..: 3 3 2 3 3 2 3 4 2 4 ...\n",
      " $ liable         : num  1 1 2 2 2 2 1 1 1 1 ...\n",
      " $ tele           : Factor w/ 2 levels \"A191\",\"A192\": 2 1 1 1 1 2 1 2 1 1 ...\n",
      " $ foreign        : Factor w/ 2 levels \"A201\",\"A202\": 1 1 1 1 1 1 1 1 1 1 ...\n"
     ]
    }
   ],
   "source": [
    "data<-read.csv(\"germancredit.csv\",header=TRUE,sep=\",\",colClasses=c(\"factor\",\"factor\",\"numeric\",\"factor\",\"factor\",\"numeric\",\"factor\",\"factor\",\"numeric\",\"factor\",\"factor\",\"numeric\",\"factor\",\"numeric\",\"factor\",\"factor\",\"numeric\",\"factor\",\"numeric\",\"factor\",\"factor\"))\n",
    "str(data)\n"
   ]
  },
  {
   "cell_type": "code",
   "execution_count": 61,
   "id": "e3807ab7",
   "metadata": {},
   "outputs": [
    {
     "name": "stderr",
     "output_type": "stream",
     "text": [
      "Warning message:\n",
      "\"package 'pROC' was built under R version 4.1.2\"\n",
      "Type 'citation(\"pROC\")' for a citation.\n",
      "\n",
      "\n",
      "Attaching package: 'pROC'\n",
      "\n",
      "\n",
      "The following objects are masked from 'package:stats':\n",
      "\n",
      "    cov, smooth, var\n",
      "\n",
      "\n"
     ]
    }
   ],
   "source": [
    "library(pROC)\n",
    "### a) Logistic regression with all predictors\n",
    "fit1<-glm(Default~.,family=\"binomial\",data=data)\n",
    "lr.prob<-predict(fit1,data, type=\"response\")\n",
    "lr.pred<-ifelse(lr.prob>=0.5,\"1\",\"0\")\n"
   ]
  },
  {
   "cell_type": "code",
   "execution_count": 62,
   "id": "a25572d0",
   "metadata": {},
   "outputs": [
    {
     "data": {
      "text/html": [
       "0.214"
      ],
      "text/latex": [
       "0.214"
      ],
      "text/markdown": [
       "0.214"
      ],
      "text/plain": [
       "[1] 0.214"
      ]
     },
     "metadata": {},
     "output_type": "display_data"
    },
    {
     "data": {
      "text/plain": [
       "       \n",
       "lr.pred   0   1\n",
       "      0 626 140\n",
       "      1  74 160"
      ]
     },
     "metadata": {},
     "output_type": "display_data"
    }
   ],
   "source": [
    "##Training error rates\n",
    "1-mean(lr.pred==data[,1])\n",
    "table(lr.pred,data[,1])"
   ]
  },
  {
   "cell_type": "code",
   "execution_count": 64,
   "id": "3ab6159f",
   "metadata": {},
   "outputs": [
    {
     "data": {
      "text/html": [
       "<style>\n",
       ".list-inline {list-style: none; margin:0; padding: 0}\n",
       ".list-inline>li {display: inline-block}\n",
       ".list-inline>li:not(:last-child)::after {content: \"\\00b7\"; padding: 0 .5ex}\n",
       "</style>\n",
       "<ol class=list-inline><li>0.55</li><li>0.891428571428571</li></ol>\n"
      ],
      "text/latex": [
       "\\begin{enumerate*}\n",
       "\\item 0.55\n",
       "\\item 0.891428571428571\n",
       "\\end{enumerate*}\n"
      ],
      "text/markdown": [
       "1. 0.55\n",
       "2. 0.891428571428571\n",
       "\n",
       "\n"
      ],
      "text/plain": [
       "[1] 0.5500000 0.8914286"
      ]
     },
     "metadata": {},
     "output_type": "display_data"
    },
    {
     "name": "stderr",
     "output_type": "stream",
     "text": [
      "Setting direction: controls > cases\n",
      "\n"
     ]
    },
    {
     "data": {
      "text/plain": [
       "\n",
       "Call:\n",
       "roc.default(response = data[, 1], predictor = lr.prob, levels = c(\"1\",     \"0\"))\n",
       "\n",
       "Data: lr.prob in 300 controls (data[, 1] 1) > 700 cases (data[, 1] 0).\n",
       "Area under the curve: 0.8338"
      ]
     },
     "metadata": {},
     "output_type": "display_data"
    }
   ],
   "source": [
    "##Sensitivity & Specificity\n",
    "c(165/(165+135),624/(624+76))\n",
    "##0.5500000 0.8914286\n",
    "roc.lr <- roc(data[,1], lr.prob, levels=c(\"1\",\"0\"))\n",
    "roc.lr"
   ]
  },
  {
   "cell_type": "markdown",
   "id": "0c2aa037",
   "metadata": {},
   "source": [
    "#  Estimate the test error rate of the model in using LOOCV"
   ]
  },
  {
   "cell_type": "code",
   "execution_count": 65,
   "id": "2a50edfc",
   "metadata": {},
   "outputs": [
    {
     "name": "stderr",
     "output_type": "stream",
     "text": [
      "Warning message:\n",
      "\"package 'class' was built under R version 4.1.2\"\n"
     ]
    },
    {
     "data": {
      "text/html": [
       "0.249"
      ],
      "text/latex": [
       "0.249"
      ],
      "text/markdown": [
       "0.249"
      ],
      "text/plain": [
       "[1] 0.249"
      ]
     },
     "metadata": {},
     "output_type": "display_data"
    }
   ],
   "source": [
    "library(class)\n",
    "acc3 = NULL\n",
    "#10-fold validation\n",
    "set.seed(1)\n",
    "for(i in 1:nrow(data))\n",
    "{\n",
    "dataTest <- data[i, ]\n",
    "dataTrain <- data[-i, ]\n",
    "set.seed(1234)\n",
    "lm.pred<-predict(glm(formula = Default~., family=\"binomial\", data=dataTrain),dataTest,type=\"response\")\n",
    "mod.test<-ifelse(lm.pred>=0.5,1,0)\n",
    "misClass_Error <- (dataTest[,1]!=mod.test)\n",
    "acc3[i] <- misClass_Error\n",
    "}\n",
    "mean(acc3)"
   ]
  },
  {
   "cell_type": "markdown",
   "id": "efe44ebf",
   "metadata": {},
   "source": [
    "# Verify your results in (b) using a package"
   ]
  },
  {
   "cell_type": "code",
   "execution_count": 66,
   "id": "951bb8d9",
   "metadata": {},
   "outputs": [
    {
     "name": "stderr",
     "output_type": "stream",
     "text": [
      "Warning message:\n",
      "\"package 'caret' was built under R version 4.1.3\"\n",
      "Loading required package: ggplot2\n",
      "\n",
      "Warning message:\n",
      "\"package 'ggplot2' was built under R version 4.1.3\"\n",
      "Loading required package: lattice\n",
      "\n",
      "Warning message:\n",
      "\"package 'lattice' was built under R version 4.1.3\"\n"
     ]
    },
    {
     "data": {
      "text/plain": [
       "Generalized Linear Model \n",
       "\n",
       "1000 samples\n",
       "  20 predictor\n",
       "   2 classes: '0', '1' \n",
       "\n",
       "No pre-processing\n",
       "Resampling: Leave-One-Out Cross-Validation \n",
       "Summary of sample sizes: 999, 999, 999, 999, 999, 999, ... \n",
       "Resampling results:\n",
       "\n",
       "  Accuracy  Kappa    \n",
       "  0.751     0.3731118\n"
      ]
     },
     "metadata": {},
     "output_type": "display_data"
    }
   ],
   "source": [
    "library(caret)\n",
    "model.lr<-train(Default~., data, method=\"glm\", family=\"binomial\",metric=\"Accuracy\",\n",
    "trControl=trainControl(method = \"LOOCV\"))\n",
    "model.lr"
   ]
  },
  {
   "cell_type": "markdown",
   "id": "ce890460",
   "metadata": {},
   "source": [
    "# Perform an LDA of the data"
   ]
  },
  {
   "cell_type": "code",
   "execution_count": 67,
   "id": "29f53e00",
   "metadata": {},
   "outputs": [
    {
     "name": "stderr",
     "output_type": "stream",
     "text": [
      "Warning message:\n",
      "\"package 'MASS' was built under R version 4.1.3\"\n",
      "\n",
      "Attaching package: 'MASS'\n",
      "\n",
      "\n",
      "The following object is masked from 'data':\n",
      "\n",
      "    housing\n",
      "\n",
      "\n"
     ]
    },
    {
     "data": {
      "text/html": [
       "0.223"
      ],
      "text/latex": [
       "0.223"
      ],
      "text/markdown": [
       "0.223"
      ],
      "text/plain": [
       "[1] 0.223"
      ]
     },
     "metadata": {},
     "output_type": "display_data"
    },
    {
     "data": {
      "text/plain": [
       "   \n",
       "      0   1\n",
       "  0 615 138\n",
       "  1  85 162"
      ]
     },
     "metadata": {},
     "output_type": "display_data"
    },
    {
     "data": {
      "text/html": [
       "<style>\n",
       ".list-inline {list-style: none; margin:0; padding: 0}\n",
       ".list-inline>li {display: inline-block}\n",
       ".list-inline>li:not(:last-child)::after {content: \"\\00b7\"; padding: 0 .5ex}\n",
       "</style>\n",
       "<ol class=list-inline><li>0.54</li><li>0.878571428571429</li></ol>\n"
      ],
      "text/latex": [
       "\\begin{enumerate*}\n",
       "\\item 0.54\n",
       "\\item 0.878571428571429\n",
       "\\end{enumerate*}\n"
      ],
      "text/markdown": [
       "1. 0.54\n",
       "2. 0.878571428571429\n",
       "\n",
       "\n"
      ],
      "text/plain": [
       "[1] 0.5400000 0.8785714"
      ]
     },
     "metadata": {},
     "output_type": "display_data"
    },
    {
     "name": "stderr",
     "output_type": "stream",
     "text": [
      "Setting levels: control = 0, case = 1\n",
      "\n",
      "Setting direction: controls < cases\n",
      "\n"
     ]
    },
    {
     "data": {
      "text/plain": [
       "Linear Discriminant Analysis \n",
       "\n",
       "1000 samples\n",
       "  20 predictor\n",
       "   2 classes: '0', '1' \n",
       "\n",
       "No pre-processing\n",
       "Resampling: Leave-One-Out Cross-Validation \n",
       "Summary of sample sizes: 999, 999, 999, 999, 999, 999, ... \n",
       "Resampling results:\n",
       "\n",
       "  Accuracy  Kappa   \n",
       "  0.758     0.390121\n"
      ]
     },
     "metadata": {},
     "output_type": "display_data"
    }
   ],
   "source": [
    "library(MASS)\n",
    "#building model\n",
    "lda.fit <- lda(Default~.,data)\n",
    "lda.pred<-predict(lda.fit,data)\n",
    "##Training error rates\n",
    "1-mean(lda.pred$class==data[,1])\n",
    "table(lda.pred$class,data[,1])\n",
    "##Sensitivity & Specificity\n",
    "c(162/(162+138),615/(615+85))\n",
    "#roc\n",
    "roc.lda <- roc(data[,1],lda.pred$posterior[,2])\n",
    "#calculate error rate using LOOCV\n",
    "model_final.lda<-train(Default~., data, method=\"lda\",metric=\"Accuracy\",\n",
    "trControl=trainControl(method = \"LOOCV\"))\n",
    "model_final.lda"
   ]
  },
  {
   "cell_type": "markdown",
   "id": "8f775338",
   "metadata": {},
   "source": [
    "# Repeat (d) using QDA"
   ]
  },
  {
   "cell_type": "code",
   "execution_count": 68,
   "id": "6f9143b0",
   "metadata": {},
   "outputs": [
    {
     "data": {
      "text/html": [
       "0.177"
      ],
      "text/latex": [
       "0.177"
      ],
      "text/markdown": [
       "0.177"
      ],
      "text/plain": [
       "[1] 0.177"
      ]
     },
     "metadata": {},
     "output_type": "display_data"
    },
    {
     "data": {
      "text/plain": [
       "   \n",
       "      0   1\n",
       "  0 593  70\n",
       "  1 107 230"
      ]
     },
     "metadata": {},
     "output_type": "display_data"
    },
    {
     "data": {
      "text/html": [
       "<style>\n",
       ".list-inline {list-style: none; margin:0; padding: 0}\n",
       ".list-inline>li {display: inline-block}\n",
       ".list-inline>li:not(:last-child)::after {content: \"\\00b7\"; padding: 0 .5ex}\n",
       "</style>\n",
       "<ol class=list-inline><li>0.766666666666667</li><li>0.847142857142857</li></ol>\n"
      ],
      "text/latex": [
       "\\begin{enumerate*}\n",
       "\\item 0.766666666666667\n",
       "\\item 0.847142857142857\n",
       "\\end{enumerate*}\n"
      ],
      "text/markdown": [
       "1. 0.766666666666667\n",
       "2. 0.847142857142857\n",
       "\n",
       "\n"
      ],
      "text/plain": [
       "[1] 0.7666667 0.8471429"
      ]
     },
     "metadata": {},
     "output_type": "display_data"
    },
    {
     "name": "stderr",
     "output_type": "stream",
     "text": [
      "Setting levels: control = 0, case = 1\n",
      "\n",
      "Setting direction: controls < cases\n",
      "\n",
      "Warning message:\n",
      "\"model fit failed for Fold0204: parameter=none Error in qda.default(x, grouping, ...) : rank deficiency in group 1\n",
      "\"\n"
     ]
    },
    {
     "data": {
      "text/plain": [
       "Quadratic Discriminant Analysis \n",
       "\n",
       "1000 samples\n",
       "  20 predictor\n",
       "   2 classes: '0', '1' \n",
       "\n",
       "No pre-processing\n",
       "Resampling: Leave-One-Out Cross-Validation \n",
       "Summary of sample sizes: 999, 999, 999, 999, 999, 999, ... \n",
       "Resampling results:\n",
       "\n",
       "  Accuracy   Kappa    \n",
       "  0.7167167  0.3477322\n"
      ]
     },
     "metadata": {},
     "output_type": "display_data"
    }
   ],
   "source": [
    "#building model\n",
    "qda.fit <- qda(Default~.,data)\n",
    "qda.pred<-predict(qda.fit,data)\n",
    "##Training error rates\n",
    "1-mean(qda.pred$class==data[,1])\n",
    "table(qda.pred$class,data[,1])\n",
    "##Sensitivity & Specificity\n",
    "c(230/(230+70),593/(593+107))\n",
    "#roc\n",
    "roc.qda <- roc(data[,1],qda.pred$posterior[,2])\n",
    "#calculate error rate using LOOCV\n",
    "model_final.qda<-train(Default~., data, method=\"qda\",metric=\"Accuracy\",\n",
    "trControl=trainControl(method = \"LOOCV\"))\n",
    "model_final.qda"
   ]
  },
  {
   "cell_type": "markdown",
   "id": "b2901b16",
   "metadata": {},
   "source": [
    "# Fit a KNN with K chosen optimally using the LOOCV test error rate"
   ]
  },
  {
   "cell_type": "code",
   "execution_count": 69,
   "id": "a44476af",
   "metadata": {},
   "outputs": [
    {
     "name": "stdout",
     "output_type": "stream",
     "text": [
      "k-Nearest Neighbors \n",
      "\n",
      "1000 samples\n",
      "  20 predictor\n",
      "   2 classes: '0', '1' \n",
      "\n",
      "No pre-processing\n",
      "Resampling: Leave-One-Out Cross-Validation \n",
      "Summary of sample sizes: 999, 999, 999, 999, 999, 999, ... \n",
      "Resampling results across tuning parameters:\n",
      "\n",
      "  k    Accuracy  Kappa       \n",
      "    1  0.614      0.077437859\n",
      "    2  0.601      0.047277937\n",
      "    3  0.617      0.015930113\n",
      "    4  0.645      0.078400831\n",
      "    5  0.652      0.064516129\n",
      "    6  0.647      0.052094522\n",
      "    7  0.681      0.100901917\n",
      "    8  0.672      0.080717489\n",
      "    9  0.687      0.107753706\n",
      "   10  0.689      0.117480136\n",
      "   11  0.689      0.086368978\n",
      "   12  0.690      0.094626168\n",
      "   13  0.693      0.076413959\n",
      "   14  0.690      0.075178998\n",
      "   15  0.704      0.095354523\n",
      "   16  0.692      0.065533981\n",
      "   17  0.698      0.074754902\n",
      "   18  0.696      0.075425791\n",
      "   19  0.692      0.058679707\n",
      "   20  0.692      0.063260341\n",
      "   21  0.698      0.065594059\n",
      "   22  0.694      0.055555556\n",
      "   23  0.699      0.069839308\n",
      "   24  0.705      0.083850932\n",
      "   25  0.708      0.082914573\n",
      "   26  0.708      0.082914573\n",
      "   27  0.707      0.073957016\n",
      "   28  0.705      0.069987390\n",
      "   29  0.707      0.076292560\n",
      "   30  0.706      0.071969697\n",
      "   31  0.707      0.071609632\n",
      "   32  0.705      0.060509554\n",
      "   33  0.707      0.069250318\n",
      "   34  0.707      0.071609632\n",
      "   35  0.706      0.067258883\n",
      "   36  0.708      0.071246819\n",
      "   37  0.705      0.060509554\n",
      "   38  0.705      0.062897078\n",
      "   39  0.707      0.069250318\n",
      "   40  0.707      0.064495530\n",
      "   41  0.710      0.075255102\n",
      "   42  0.709      0.070881226\n",
      "   43  0.709      0.070881226\n",
      "   44  0.709      0.070881226\n",
      "   45  0.709      0.066110398\n",
      "   46  0.710      0.068123393\n",
      "   47  0.711      0.070141570\n",
      "   48  0.707      0.062099872\n",
      "   49  0.710      0.068123393\n",
      "   50  0.708      0.064102564\n",
      "   51  0.706      0.060102302\n",
      "   52  0.707      0.064495530\n",
      "   53  0.703      0.049295775\n",
      "   54  0.703      0.054140127\n",
      "   55  0.704      0.053708440\n",
      "   56  0.705      0.060509554\n",
      "   57  0.705      0.060509554\n",
      "   58  0.707      0.066878981\n",
      "   59  0.706      0.064885496\n",
      "   60  0.707      0.066878981\n",
      "   61  0.705      0.060509554\n",
      "   62  0.709      0.073248408\n",
      "   63  0.707      0.069250318\n",
      "   64  0.708      0.068877551\n",
      "   65  0.706      0.062500000\n",
      "   66  0.709      0.068501921\n",
      "   67  0.707      0.064495530\n",
      "   68  0.710      0.070512821\n",
      "   69  0.710      0.070512821\n",
      "   70  0.711      0.072528883\n",
      "   71  0.711      0.072528883\n",
      "   72  0.711      0.072528883\n",
      "   73  0.711      0.072528883\n",
      "   74  0.712      0.074550129\n",
      "   75  0.712      0.074550129\n",
      "   76  0.712      0.074550129\n",
      "   77  0.712      0.074550129\n",
      "   78  0.712      0.074550129\n",
      "   79  0.708      0.059278351\n",
      "   80  0.710      0.065721649\n",
      "   81  0.711      0.070141570\n",
      "   82  0.703      0.034460338\n",
      "   83  0.702      0.029947917\n",
      "   84  0.703      0.034460338\n",
      "   85  0.709      0.061290323\n",
      "   86  0.704      0.038961039\n",
      "   87  0.702      0.029947917\n",
      "   88  0.698      0.006578947\n",
      "   89  0.696     -0.007957560\n",
      "   90  0.700      0.000000000\n",
      "   91  0.700      0.000000000\n",
      "   92  0.698     -0.003989362\n",
      "   93  0.700      0.000000000\n",
      "   94  0.700      0.000000000\n",
      "   95  0.700      0.000000000\n",
      "   96  0.700      0.000000000\n",
      "   97  0.700      0.000000000\n",
      "   98  0.700      0.000000000\n",
      "   99  0.700      0.000000000\n",
      "  100  0.700      0.000000000\n",
      "\n",
      "Accuracy was used to select the optimal model using the largest value.\n",
      "The final value used for the model was k = 78.\n"
     ]
    },
    {
     "data": {
      "text/plain": [
       "   knn.fit\n",
       "      1   2\n",
       "  1 692   8\n",
       "  2 280  20"
      ]
     },
     "metadata": {},
     "output_type": "display_data"
    },
    {
     "data": {
      "text/html": [
       "<style>\n",
       ".list-inline {list-style: none; margin:0; padding: 0}\n",
       ".list-inline>li {display: inline-block}\n",
       ".list-inline>li:not(:last-child)::after {content: \"\\00b7\"; padding: 0 .5ex}\n",
       "</style>\n",
       "<ol class=list-inline><li>0.0666666666666667</li><li>0.988571428571429</li></ol>\n"
      ],
      "text/latex": [
       "\\begin{enumerate*}\n",
       "\\item 0.0666666666666667\n",
       "\\item 0.988571428571429\n",
       "\\end{enumerate*}\n"
      ],
      "text/markdown": [
       "1. 0.0666666666666667\n",
       "2. 0.988571428571429\n",
       "\n",
       "\n"
      ],
      "text/plain": [
       "[1] 0.06666667 0.98857143"
      ]
     },
     "metadata": {},
     "output_type": "display_data"
    },
    {
     "name": "stderr",
     "output_type": "stream",
     "text": [
      "Setting direction: controls > cases\n",
      "\n"
     ]
    }
   ],
   "source": [
    "model.knn<-train(Default~., data,method=\"knn\",trControl=trainControl(method = \"LOOCV\"),\n",
    "tuneGrid=expand.grid(k=seq(from=1,to=100,by=1)))\n",
    "print(model.knn)\n",
    "conv.num <- function(x)\n",
    "{\n",
    "if(is.numeric(x)){\n",
    "return(x)\n",
    "}\n",
    "return(as.numeric(x))\n",
    "}\n",
    "new.data<- sapply(data,conv.num)\n",
    "knn.fit<-knn(new.data[,-1],new.data[,-1],new.data[,1],k=77,prob=T)\n",
    "table(new.data[,1],knn.fit)\n",
    "##Sensitivity & Specificity\n",
    "c(20/(20+280),692/(692+8))\n",
    "roc.knn<- roc(data[,1],attr(knn.fit,\"prob\"),levels=c(0,1))"
   ]
  },
  {
   "cell_type": "markdown",
   "id": "94c36c8d",
   "metadata": {},
   "source": [
    "#  Repeat (d) for the logistic regression model you proposed in Q1.\n"
   ]
  },
  {
   "cell_type": "code",
   "execution_count": 70,
   "id": "52c94a53",
   "metadata": {},
   "outputs": [
    {
     "data": {
      "text/html": [
       "0.213"
      ],
      "text/latex": [
       "0.213"
      ],
      "text/markdown": [
       "0.213"
      ],
      "text/plain": [
       "[1] 0.213"
      ]
     },
     "metadata": {},
     "output_type": "display_data"
    },
    {
     "data": {
      "text/plain": [
       "           \n",
       "lr.pred.red   0   1\n",
       "          0 627 140\n",
       "          1  73 160"
      ]
     },
     "metadata": {},
     "output_type": "display_data"
    },
    {
     "data": {
      "text/html": [
       "<style>\n",
       ".list-inline {list-style: none; margin:0; padding: 0}\n",
       ".list-inline>li {display: inline-block}\n",
       ".list-inline>li:not(:last-child)::after {content: \"\\00b7\"; padding: 0 .5ex}\n",
       "</style>\n",
       "<ol class=list-inline><li>0.533333333333333</li><li>0.895714285714286</li></ol>\n"
      ],
      "text/latex": [
       "\\begin{enumerate*}\n",
       "\\item 0.533333333333333\n",
       "\\item 0.895714285714286\n",
       "\\end{enumerate*}\n"
      ],
      "text/markdown": [
       "1. 0.533333333333333\n",
       "2. 0.895714285714286\n",
       "\n",
       "\n"
      ],
      "text/plain": [
       "[1] 0.5333333 0.8957143"
      ]
     },
     "metadata": {},
     "output_type": "display_data"
    },
    {
     "name": "stderr",
     "output_type": "stream",
     "text": [
      "Setting direction: controls > cases\n",
      "\n"
     ]
    },
    {
     "data": {
      "text/plain": [
       "\n",
       "Call:\n",
       "roc.default(response = data[, 1], predictor = lr.prob.red, levels = c(\"1\",     \"0\"))\n",
       "\n",
       "Data: lr.prob.red in 300 controls (data[, 1] 1) > 700 cases (data[, 1] 0).\n",
       "Area under the curve: 0.8207"
      ]
     },
     "metadata": {},
     "output_type": "display_data"
    }
   ],
   "source": [
    "fit.red<-glm(Default~checkingstatus1+history+purpose+savings+status+others\n",
    "+otherplans+housing+foreign+duration+amount,family=\"binomial\",data=data)\n",
    "lr.prob.red<-predict(fit.red,data, type=\"response\")\n",
    "lr.pred.red<-ifelse(lr.prob.red>=0.5,\"1\",\"0\")\n",
    "##Training error rates\n",
    "1-mean(lr.pred.red==data[,1])\n",
    "table(lr.pred.red,data[,1])\n",
    "##Sensitivity & Specificity\n",
    "c(160/(160+140),627/(627+73))\n",
    "roc.lr.red <- roc(data[,1], lr.prob.red, levels=c(\"1\",\"0\"))\n",
    "roc.lr.red"
   ]
  },
  {
   "cell_type": "code",
   "execution_count": 71,
   "id": "16b1b231",
   "metadata": {},
   "outputs": [
    {
     "data": {
      "text/plain": [
       "Generalized Linear Model \n",
       "\n",
       "1000 samples\n",
       "  11 predictor\n",
       "   2 classes: '0', '1' \n",
       "\n",
       "No pre-processing\n",
       "Resampling: Leave-One-Out Cross-Validation \n",
       "Summary of sample sizes: 999, 999, 999, 999, 999, 999, ... \n",
       "Resampling results:\n",
       "\n",
       "  Accuracy  Kappa   \n",
       "  0.761     0.388434\n"
      ]
     },
     "metadata": {},
     "output_type": "display_data"
    }
   ],
   "source": [
    "model_final.lr<-train(Default~checkingstatus1+history+purpose+savings+status+others\n",
    "+otherplans+housing+foreign+duration+amount, data, method=\"glm\", family=\"binomial\",metric=\"Accuracy\",\n",
    "trControl=trainControl(method = \"LOOCV\"))\n",
    "model_final.lr"
   ]
  },
  {
   "cell_type": "markdown",
   "id": "987a7cec",
   "metadata": {},
   "source": [
    "#  Compare the results from various classifiers. Which classifier would you recommend?"
   ]
  },
  {
   "cell_type": "code",
   "execution_count": 75,
   "id": "018cd361",
   "metadata": {},
   "outputs": [
    {
     "data": {
      "image/png": "[encoded data removed]",
      "text/plain": [
       "plot without title"
      ]
     },
     "metadata": {
      "image/png": {
       "height": 420,
       "width": 420
      }
     },
     "output_type": "display_data"
    }
   ],
   "source": [
    "##plotting ROC curves\n",
    "#pdf(\"roc_curves.pdf\", width = 8,height=8)\n",
    "par(mfrow=c(1,1))\n",
    "plot(roc.lr, col=\"BLUE\")\n",
    "plot(roc.lda,add=T, col=\"RED\")\n",
    "plot(roc.qda,add=T, col=\"BLACK\")\n",
    "plot(roc.knn,add=T, col=\"GREEN\")\n",
    "plot(roc.lr.red,add=T, col=\"ORANGE\")\n",
    "#dev.off()"
   ]
  },
  {
   "cell_type": "code",
   "execution_count": null,
   "id": "7d361103",
   "metadata": {},
   "outputs": [],
   "source": []
  }
 ],
 "metadata": {
  "kernelspec": {
   "display_name": "R",
   "language": "R",
   "name": "ir"
  },
  "language_info": {
   "codemirror_mode": "r",
   "file_extension": ".r",
   "mimetype": "text/x-r-source",
   "name": "R",
   "pygments_lexer": "r",
   "version": "4.1.0"
  }
 },
 "nbformat": 4,
 "nbformat_minor": 5
}
