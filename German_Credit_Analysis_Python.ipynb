{
 "cells": [
  {
   "cell_type": "code",
   "execution_count": null,
   "id": "c2040a34",
   "metadata": {},
   "outputs": [],
   "source": []
  },
  {
   "cell_type": "code",
   "execution_count": 1,
   "id": "4e337076",
   "metadata": {},
   "outputs": [
    {
     "data": {
      "text/markdown": [
       "[Data_Link](https://archive.ics.uci.edu/dataset/144/statlog+german+credit+data)"
      ],
      "text/plain": [
       "<IPython.core.display.Markdown object>"
      ]
     },
     "metadata": {},
     "output_type": "display_data"
    }
   ],
   "source": [
    "from IPython.display import display, Markdown\n",
    "display(Markdown(\"[Data_Link](https://archive.ics.uci.edu/dataset/144/statlog+german+credit+data)\"))"
   ]
  },
  {
   "cell_type": "code",
   "execution_count": null,
   "id": "8221f559",
   "metadata": {},
   "outputs": [],
   "source": []
  },
  {
   "cell_type": "code",
   "execution_count": 2,
   "id": "aecb93ee",
   "metadata": {},
   "outputs": [],
   "source": [
    "# Supressing the warning messages\n",
    "import warnings\n",
    "warnings.filterwarnings('ignore')\n",
    "warnings.simplefilter('ignore')\n",
    "%matplotlib inline"
   ]
  },
  {
   "cell_type": "markdown",
   "id": "ca826a3a",
   "metadata": {},
   "source": [
    "## Function and modules for the supervised Classification models"
   ]
  },
  {
   "cell_type": "code",
   "execution_count": 3,
   "id": "d8dfa231",
   "metadata": {},
   "outputs": [],
   "source": [
    "from sklearn.linear_model import LogisticRegression\n",
    "from sklearn.naive_bayes import GaussianNB\n",
    "from sklearn.ensemble import RandomForestClassifier\n",
    "from sklearn.tree import DecisionTreeClassifier\n",
    "from xgboost import XGBClassifier\n",
    "from sklearn.discriminant_analysis import LinearDiscriminantAnalysis \n",
    "from sklearn.discriminant_analysis import QuadraticDiscriminantAnalysis \n",
    "from sklearn.ensemble import AdaBoostClassifier\n",
    "from sklearn.neighbors import KNeighborsClassifier\n",
    "from sklearn import svm\n"
   ]
  },
  {
   "cell_type": "markdown",
   "id": "fef1cf4d",
   "metadata": {},
   "source": [
    "## Function and modules for data analysis and model evaluation"
   ]
  },
  {
   "cell_type": "code",
   "execution_count": 4,
   "id": "9b0b51a3",
   "metadata": {},
   "outputs": [],
   "source": [
    "from sklearn.metrics import accuracy_score\n",
    "from sklearn.metrics import plot_confusion_matrix\n",
    "from sklearn.metrics import classification_report\n",
    "from sklearn import metrics\n",
    "\n",
    "from sklearn.model_selection import train_test_split\n",
    "from sklearn.model_selection import KFold\n",
    "from sklearn.model_selection import cross_val_score\n",
    "from sklearn.model_selection import GridSearchCV\n",
    "from sklearn.metrics import mean_squared_error\n",
    "from sklearn.feature_selection import SelectKBest\n",
    "from sklearn.feature_selection import chi2, f_regression"
   ]
  },
  {
   "cell_type": "markdown",
   "id": "89aa2277",
   "metadata": {},
   "source": [
    "## Function and modules for data preparation and visualization"
   ]
  },
  {
   "cell_type": "code",
   "execution_count": 5,
   "id": "25b0fc1b",
   "metadata": {},
   "outputs": [],
   "source": [
    "import numpy as np\n",
    "import pandas as pd\n",
    "from matplotlib import pyplot\n",
    "import matplotlib.pyplot as plt\n",
    "from pandas.plotting import scatter_matrix\n",
    "import seaborn as sns\n",
    "from sklearn.preprocessing import StandardScaler\n",
    "from pandas.plotting import scatter_matrix\n",
    "from statsmodels.graphics.tsaplots import plot_acf\n"
   ]
  },
  {
   "cell_type": "code",
   "execution_count": 6,
   "id": "8bc98642",
   "metadata": {},
   "outputs": [],
   "source": [
    "sns.set()"
   ]
  },
  {
   "cell_type": "markdown",
   "id": "946ba732",
   "metadata": {},
   "source": [
    "## Loading Data"
   ]
  },
  {
   "cell_type": "code",
   "execution_count": 7,
   "id": "caa99b92",
   "metadata": {},
   "outputs": [
    {
     "data": {
      "text/html": [
       "<div>\n",
       "<style scoped>\n",
       "    .dataframe tbody tr th:only-of-type {\n",
       "        vertical-align: middle;\n",
       "    }\n",
       "\n",
       "    .dataframe tbody tr th {\n",
       "        vertical-align: top;\n",
       "    }\n",
       "\n",
       "    .dataframe thead th {\n",
       "        text-align: right;\n",
       "    }\n",
       "</style>\n",
       "<table border=\"1\" class=\"dataframe\">\n",
       "  <thead>\n",
       "    <tr style=\"text-align: right;\">\n",
       "      <th></th>\n",
       "      <th>Default</th>\n",
       "      <th>checkingstatus1</th>\n",
       "      <th>duration</th>\n",
       "      <th>history</th>\n",
       "      <th>purpose</th>\n",
       "      <th>amount</th>\n",
       "      <th>savings</th>\n",
       "      <th>employ</th>\n",
       "      <th>installment</th>\n",
       "      <th>status</th>\n",
       "      <th>...</th>\n",
       "      <th>residence</th>\n",
       "      <th>property</th>\n",
       "      <th>age</th>\n",
       "      <th>otherplans</th>\n",
       "      <th>housing</th>\n",
       "      <th>cards</th>\n",
       "      <th>job</th>\n",
       "      <th>liable</th>\n",
       "      <th>tele</th>\n",
       "      <th>foreign</th>\n",
       "    </tr>\n",
       "  </thead>\n",
       "  <tbody>\n",
       "    <tr>\n",
       "      <th>0</th>\n",
       "      <td>0</td>\n",
       "      <td>A11</td>\n",
       "      <td>6</td>\n",
       "      <td>A34</td>\n",
       "      <td>A43</td>\n",
       "      <td>1169</td>\n",
       "      <td>A65</td>\n",
       "      <td>A75</td>\n",
       "      <td>4</td>\n",
       "      <td>A93</td>\n",
       "      <td>...</td>\n",
       "      <td>4</td>\n",
       "      <td>A121</td>\n",
       "      <td>67</td>\n",
       "      <td>A143</td>\n",
       "      <td>A152</td>\n",
       "      <td>2</td>\n",
       "      <td>A173</td>\n",
       "      <td>1</td>\n",
       "      <td>A192</td>\n",
       "      <td>A201</td>\n",
       "    </tr>\n",
       "    <tr>\n",
       "      <th>1</th>\n",
       "      <td>1</td>\n",
       "      <td>A12</td>\n",
       "      <td>48</td>\n",
       "      <td>A32</td>\n",
       "      <td>A43</td>\n",
       "      <td>5951</td>\n",
       "      <td>A61</td>\n",
       "      <td>A73</td>\n",
       "      <td>2</td>\n",
       "      <td>A92</td>\n",
       "      <td>...</td>\n",
       "      <td>2</td>\n",
       "      <td>A121</td>\n",
       "      <td>22</td>\n",
       "      <td>A143</td>\n",
       "      <td>A152</td>\n",
       "      <td>1</td>\n",
       "      <td>A173</td>\n",
       "      <td>1</td>\n",
       "      <td>A191</td>\n",
       "      <td>A201</td>\n",
       "    </tr>\n",
       "    <tr>\n",
       "      <th>2</th>\n",
       "      <td>0</td>\n",
       "      <td>A14</td>\n",
       "      <td>12</td>\n",
       "      <td>A34</td>\n",
       "      <td>A46</td>\n",
       "      <td>2096</td>\n",
       "      <td>A61</td>\n",
       "      <td>A74</td>\n",
       "      <td>2</td>\n",
       "      <td>A93</td>\n",
       "      <td>...</td>\n",
       "      <td>3</td>\n",
       "      <td>A121</td>\n",
       "      <td>49</td>\n",
       "      <td>A143</td>\n",
       "      <td>A152</td>\n",
       "      <td>1</td>\n",
       "      <td>A172</td>\n",
       "      <td>2</td>\n",
       "      <td>A191</td>\n",
       "      <td>A201</td>\n",
       "    </tr>\n",
       "    <tr>\n",
       "      <th>3</th>\n",
       "      <td>0</td>\n",
       "      <td>A11</td>\n",
       "      <td>42</td>\n",
       "      <td>A32</td>\n",
       "      <td>A42</td>\n",
       "      <td>7882</td>\n",
       "      <td>A61</td>\n",
       "      <td>A74</td>\n",
       "      <td>2</td>\n",
       "      <td>A93</td>\n",
       "      <td>...</td>\n",
       "      <td>4</td>\n",
       "      <td>A122</td>\n",
       "      <td>45</td>\n",
       "      <td>A143</td>\n",
       "      <td>A153</td>\n",
       "      <td>1</td>\n",
       "      <td>A173</td>\n",
       "      <td>2</td>\n",
       "      <td>A191</td>\n",
       "      <td>A201</td>\n",
       "    </tr>\n",
       "    <tr>\n",
       "      <th>4</th>\n",
       "      <td>1</td>\n",
       "      <td>A11</td>\n",
       "      <td>24</td>\n",
       "      <td>A33</td>\n",
       "      <td>A40</td>\n",
       "      <td>4870</td>\n",
       "      <td>A61</td>\n",
       "      <td>A73</td>\n",
       "      <td>3</td>\n",
       "      <td>A93</td>\n",
       "      <td>...</td>\n",
       "      <td>4</td>\n",
       "      <td>A124</td>\n",
       "      <td>53</td>\n",
       "      <td>A143</td>\n",
       "      <td>A153</td>\n",
       "      <td>2</td>\n",
       "      <td>A173</td>\n",
       "      <td>2</td>\n",
       "      <td>A191</td>\n",
       "      <td>A201</td>\n",
       "    </tr>\n",
       "    <tr>\n",
       "      <th>...</th>\n",
       "      <td>...</td>\n",
       "      <td>...</td>\n",
       "      <td>...</td>\n",
       "      <td>...</td>\n",
       "      <td>...</td>\n",
       "      <td>...</td>\n",
       "      <td>...</td>\n",
       "      <td>...</td>\n",
       "      <td>...</td>\n",
       "      <td>...</td>\n",
       "      <td>...</td>\n",
       "      <td>...</td>\n",
       "      <td>...</td>\n",
       "      <td>...</td>\n",
       "      <td>...</td>\n",
       "      <td>...</td>\n",
       "      <td>...</td>\n",
       "      <td>...</td>\n",
       "      <td>...</td>\n",
       "      <td>...</td>\n",
       "      <td>...</td>\n",
       "    </tr>\n",
       "    <tr>\n",
       "      <th>995</th>\n",
       "      <td>0</td>\n",
       "      <td>A14</td>\n",
       "      <td>12</td>\n",
       "      <td>A32</td>\n",
       "      <td>A42</td>\n",
       "      <td>1736</td>\n",
       "      <td>A61</td>\n",
       "      <td>A74</td>\n",
       "      <td>3</td>\n",
       "      <td>A92</td>\n",
       "      <td>...</td>\n",
       "      <td>4</td>\n",
       "      <td>A121</td>\n",
       "      <td>31</td>\n",
       "      <td>A143</td>\n",
       "      <td>A152</td>\n",
       "      <td>1</td>\n",
       "      <td>A172</td>\n",
       "      <td>1</td>\n",
       "      <td>A191</td>\n",
       "      <td>A201</td>\n",
       "    </tr>\n",
       "    <tr>\n",
       "      <th>996</th>\n",
       "      <td>0</td>\n",
       "      <td>A11</td>\n",
       "      <td>30</td>\n",
       "      <td>A32</td>\n",
       "      <td>A41</td>\n",
       "      <td>3857</td>\n",
       "      <td>A61</td>\n",
       "      <td>A73</td>\n",
       "      <td>4</td>\n",
       "      <td>A91</td>\n",
       "      <td>...</td>\n",
       "      <td>4</td>\n",
       "      <td>A122</td>\n",
       "      <td>40</td>\n",
       "      <td>A143</td>\n",
       "      <td>A152</td>\n",
       "      <td>1</td>\n",
       "      <td>A174</td>\n",
       "      <td>1</td>\n",
       "      <td>A192</td>\n",
       "      <td>A201</td>\n",
       "    </tr>\n",
       "    <tr>\n",
       "      <th>997</th>\n",
       "      <td>0</td>\n",
       "      <td>A14</td>\n",
       "      <td>12</td>\n",
       "      <td>A32</td>\n",
       "      <td>A43</td>\n",
       "      <td>804</td>\n",
       "      <td>A61</td>\n",
       "      <td>A75</td>\n",
       "      <td>4</td>\n",
       "      <td>A93</td>\n",
       "      <td>...</td>\n",
       "      <td>4</td>\n",
       "      <td>A123</td>\n",
       "      <td>38</td>\n",
       "      <td>A143</td>\n",
       "      <td>A152</td>\n",
       "      <td>1</td>\n",
       "      <td>A173</td>\n",
       "      <td>1</td>\n",
       "      <td>A191</td>\n",
       "      <td>A201</td>\n",
       "    </tr>\n",
       "    <tr>\n",
       "      <th>998</th>\n",
       "      <td>1</td>\n",
       "      <td>A11</td>\n",
       "      <td>45</td>\n",
       "      <td>A32</td>\n",
       "      <td>A43</td>\n",
       "      <td>1845</td>\n",
       "      <td>A61</td>\n",
       "      <td>A73</td>\n",
       "      <td>4</td>\n",
       "      <td>A93</td>\n",
       "      <td>...</td>\n",
       "      <td>4</td>\n",
       "      <td>A124</td>\n",
       "      <td>23</td>\n",
       "      <td>A143</td>\n",
       "      <td>A153</td>\n",
       "      <td>1</td>\n",
       "      <td>A173</td>\n",
       "      <td>1</td>\n",
       "      <td>A192</td>\n",
       "      <td>A201</td>\n",
       "    </tr>\n",
       "    <tr>\n",
       "      <th>999</th>\n",
       "      <td>0</td>\n",
       "      <td>A12</td>\n",
       "      <td>45</td>\n",
       "      <td>A34</td>\n",
       "      <td>A41</td>\n",
       "      <td>4576</td>\n",
       "      <td>A62</td>\n",
       "      <td>A71</td>\n",
       "      <td>3</td>\n",
       "      <td>A93</td>\n",
       "      <td>...</td>\n",
       "      <td>4</td>\n",
       "      <td>A123</td>\n",
       "      <td>27</td>\n",
       "      <td>A143</td>\n",
       "      <td>A152</td>\n",
       "      <td>1</td>\n",
       "      <td>A173</td>\n",
       "      <td>1</td>\n",
       "      <td>A191</td>\n",
       "      <td>A201</td>\n",
       "    </tr>\n",
       "  </tbody>\n",
       "</table>\n",
       "<p>1000 rows × 21 columns</p>\n",
       "</div>"
      ],
      "text/plain": [
       "     Default checkingstatus1  duration history purpose  amount savings employ  \\\n",
       "0          0             A11         6     A34     A43    1169     A65    A75   \n",
       "1          1             A12        48     A32     A43    5951     A61    A73   \n",
       "2          0             A14        12     A34     A46    2096     A61    A74   \n",
       "3          0             A11        42     A32     A42    7882     A61    A74   \n",
       "4          1             A11        24     A33     A40    4870     A61    A73   \n",
       "..       ...             ...       ...     ...     ...     ...     ...    ...   \n",
       "995        0             A14        12     A32     A42    1736     A61    A74   \n",
       "996        0             A11        30     A32     A41    3857     A61    A73   \n",
       "997        0             A14        12     A32     A43     804     A61    A75   \n",
       "998        1             A11        45     A32     A43    1845     A61    A73   \n",
       "999        0             A12        45     A34     A41    4576     A62    A71   \n",
       "\n",
       "     installment status  ... residence  property age  otherplans housing  \\\n",
       "0              4    A93  ...         4      A121  67        A143    A152   \n",
       "1              2    A92  ...         2      A121  22        A143    A152   \n",
       "2              2    A93  ...         3      A121  49        A143    A152   \n",
       "3              2    A93  ...         4      A122  45        A143    A153   \n",
       "4              3    A93  ...         4      A124  53        A143    A153   \n",
       "..           ...    ...  ...       ...       ...  ..         ...     ...   \n",
       "995            3    A92  ...         4      A121  31        A143    A152   \n",
       "996            4    A91  ...         4      A122  40        A143    A152   \n",
       "997            4    A93  ...         4      A123  38        A143    A152   \n",
       "998            4    A93  ...         4      A124  23        A143    A153   \n",
       "999            3    A93  ...         4      A123  27        A143    A152   \n",
       "\n",
       "    cards   job liable  tele foreign  \n",
       "0       2  A173      1  A192    A201  \n",
       "1       1  A173      1  A191    A201  \n",
       "2       1  A172      2  A191    A201  \n",
       "3       1  A173      2  A191    A201  \n",
       "4       2  A173      2  A191    A201  \n",
       "..    ...   ...    ...   ...     ...  \n",
       "995     1  A172      1  A191    A201  \n",
       "996     1  A174      1  A192    A201  \n",
       "997     1  A173      1  A191    A201  \n",
       "998     1  A173      1  A192    A201  \n",
       "999     1  A173      1  A191    A201  \n",
       "\n",
       "[1000 rows x 21 columns]"
      ]
     },
     "execution_count": 7,
     "metadata": {},
     "output_type": "execute_result"
    }
   ],
   "source": [
    "# Reading the dataset\n",
    "\n",
    "data=pd.read_csv(\"germancredit.csv\")\n",
    "data"
   ]
  },
  {
   "cell_type": "code",
   "execution_count": 8,
   "id": "f2bcc223",
   "metadata": {},
   "outputs": [
    {
     "data": {
      "text/plain": [
       "' \\nTarget Variable: Default\\nPredictors: duration, history, purpose, amount, savings etc.\\nDefault = 1 means the loan was a good decision.\\nDefault = 0 means the loan was a bad decision.\\n\\n'"
      ]
     },
     "execution_count": 8,
     "metadata": {},
     "output_type": "execute_result"
    }
   ],
   "source": [
    "''' \n",
    "Target Variable: Default\n",
    "Predictors: duration, history, purpose, amount, savings etc.\n",
    "Default = 1 means the loan was a good decision.\n",
    "Default = 0 means the loan was a bad decision.\n",
    "\n",
    "''' "
   ]
  },
  {
   "cell_type": "code",
   "execution_count": 9,
   "id": "45945f4f",
   "metadata": {},
   "outputs": [
    {
     "name": "stdout",
     "output_type": "stream",
     "text": [
      "<class 'pandas.core.frame.DataFrame'>\n",
      "RangeIndex: 1000 entries, 0 to 999\n",
      "Data columns (total 21 columns):\n",
      " #   Column           Non-Null Count  Dtype \n",
      "---  ------           --------------  ----- \n",
      " 0   Default          1000 non-null   int64 \n",
      " 1   checkingstatus1  1000 non-null   object\n",
      " 2   duration         1000 non-null   int64 \n",
      " 3   history          1000 non-null   object\n",
      " 4   purpose          1000 non-null   object\n",
      " 5   amount           1000 non-null   int64 \n",
      " 6   savings          1000 non-null   object\n",
      " 7   employ           1000 non-null   object\n",
      " 8   installment      1000 non-null   int64 \n",
      " 9   status           1000 non-null   object\n",
      " 10  others           1000 non-null   object\n",
      " 11  residence        1000 non-null   int64 \n",
      " 12  property         1000 non-null   object\n",
      " 13  age              1000 non-null   int64 \n",
      " 14  otherplans       1000 non-null   object\n",
      " 15  housing          1000 non-null   object\n",
      " 16  cards            1000 non-null   int64 \n",
      " 17  job              1000 non-null   object\n",
      " 18  liable           1000 non-null   int64 \n",
      " 19  tele             1000 non-null   object\n",
      " 20  foreign          1000 non-null   object\n",
      "dtypes: int64(8), object(13)\n",
      "memory usage: 164.2+ KB\n"
     ]
    }
   ],
   "source": [
    "data.info()"
   ]
  },
  {
   "cell_type": "code",
   "execution_count": 10,
   "id": "88641d92",
   "metadata": {},
   "outputs": [
    {
     "data": {
      "text/html": [
       "<div>\n",
       "<style scoped>\n",
       "    .dataframe tbody tr th:only-of-type {\n",
       "        vertical-align: middle;\n",
       "    }\n",
       "\n",
       "    .dataframe tbody tr th {\n",
       "        vertical-align: top;\n",
       "    }\n",
       "\n",
       "    .dataframe thead th {\n",
       "        text-align: right;\n",
       "    }\n",
       "</style>\n",
       "<table border=\"1\" class=\"dataframe\">\n",
       "  <thead>\n",
       "    <tr style=\"text-align: right;\">\n",
       "      <th></th>\n",
       "      <th>Default</th>\n",
       "      <th>duration</th>\n",
       "      <th>amount</th>\n",
       "      <th>installment</th>\n",
       "      <th>residence</th>\n",
       "      <th>age</th>\n",
       "      <th>cards</th>\n",
       "      <th>liable</th>\n",
       "    </tr>\n",
       "  </thead>\n",
       "  <tbody>\n",
       "    <tr>\n",
       "      <th>count</th>\n",
       "      <td>1000.000000</td>\n",
       "      <td>1000.000000</td>\n",
       "      <td>1000.000000</td>\n",
       "      <td>1000.000000</td>\n",
       "      <td>1000.000000</td>\n",
       "      <td>1000.000000</td>\n",
       "      <td>1000.000000</td>\n",
       "      <td>1000.000000</td>\n",
       "    </tr>\n",
       "    <tr>\n",
       "      <th>mean</th>\n",
       "      <td>0.300000</td>\n",
       "      <td>20.903000</td>\n",
       "      <td>3271.258000</td>\n",
       "      <td>2.973000</td>\n",
       "      <td>2.845000</td>\n",
       "      <td>35.546000</td>\n",
       "      <td>1.407000</td>\n",
       "      <td>1.155000</td>\n",
       "    </tr>\n",
       "    <tr>\n",
       "      <th>std</th>\n",
       "      <td>0.458487</td>\n",
       "      <td>12.058814</td>\n",
       "      <td>2822.736876</td>\n",
       "      <td>1.118715</td>\n",
       "      <td>1.103718</td>\n",
       "      <td>11.375469</td>\n",
       "      <td>0.577654</td>\n",
       "      <td>0.362086</td>\n",
       "    </tr>\n",
       "    <tr>\n",
       "      <th>min</th>\n",
       "      <td>0.000000</td>\n",
       "      <td>4.000000</td>\n",
       "      <td>250.000000</td>\n",
       "      <td>1.000000</td>\n",
       "      <td>1.000000</td>\n",
       "      <td>19.000000</td>\n",
       "      <td>1.000000</td>\n",
       "      <td>1.000000</td>\n",
       "    </tr>\n",
       "    <tr>\n",
       "      <th>25%</th>\n",
       "      <td>0.000000</td>\n",
       "      <td>12.000000</td>\n",
       "      <td>1365.500000</td>\n",
       "      <td>2.000000</td>\n",
       "      <td>2.000000</td>\n",
       "      <td>27.000000</td>\n",
       "      <td>1.000000</td>\n",
       "      <td>1.000000</td>\n",
       "    </tr>\n",
       "    <tr>\n",
       "      <th>50%</th>\n",
       "      <td>0.000000</td>\n",
       "      <td>18.000000</td>\n",
       "      <td>2319.500000</td>\n",
       "      <td>3.000000</td>\n",
       "      <td>3.000000</td>\n",
       "      <td>33.000000</td>\n",
       "      <td>1.000000</td>\n",
       "      <td>1.000000</td>\n",
       "    </tr>\n",
       "    <tr>\n",
       "      <th>75%</th>\n",
       "      <td>1.000000</td>\n",
       "      <td>24.000000</td>\n",
       "      <td>3972.250000</td>\n",
       "      <td>4.000000</td>\n",
       "      <td>4.000000</td>\n",
       "      <td>42.000000</td>\n",
       "      <td>2.000000</td>\n",
       "      <td>1.000000</td>\n",
       "    </tr>\n",
       "    <tr>\n",
       "      <th>max</th>\n",
       "      <td>1.000000</td>\n",
       "      <td>72.000000</td>\n",
       "      <td>18424.000000</td>\n",
       "      <td>4.000000</td>\n",
       "      <td>4.000000</td>\n",
       "      <td>75.000000</td>\n",
       "      <td>4.000000</td>\n",
       "      <td>2.000000</td>\n",
       "    </tr>\n",
       "  </tbody>\n",
       "</table>\n",
       "</div>"
      ],
      "text/plain": [
       "           Default     duration        amount  installment    residence  \\\n",
       "count  1000.000000  1000.000000   1000.000000  1000.000000  1000.000000   \n",
       "mean      0.300000    20.903000   3271.258000     2.973000     2.845000   \n",
       "std       0.458487    12.058814   2822.736876     1.118715     1.103718   \n",
       "min       0.000000     4.000000    250.000000     1.000000     1.000000   \n",
       "25%       0.000000    12.000000   1365.500000     2.000000     2.000000   \n",
       "50%       0.000000    18.000000   2319.500000     3.000000     3.000000   \n",
       "75%       1.000000    24.000000   3972.250000     4.000000     4.000000   \n",
       "max       1.000000    72.000000  18424.000000     4.000000     4.000000   \n",
       "\n",
       "               age        cards       liable  \n",
       "count  1000.000000  1000.000000  1000.000000  \n",
       "mean     35.546000     1.407000     1.155000  \n",
       "std      11.375469     0.577654     0.362086  \n",
       "min      19.000000     1.000000     1.000000  \n",
       "25%      27.000000     1.000000     1.000000  \n",
       "50%      33.000000     1.000000     1.000000  \n",
       "75%      42.000000     2.000000     1.000000  \n",
       "max      75.000000     4.000000     2.000000  "
      ]
     },
     "execution_count": 10,
     "metadata": {},
     "output_type": "execute_result"
    }
   ],
   "source": [
    "data.describe()"
   ]
  },
  {
   "cell_type": "code",
   "execution_count": 11,
   "id": "a9ba1355",
   "metadata": {},
   "outputs": [
    {
     "data": {
      "text/plain": [
       "Default            0\n",
       "checkingstatus1    0\n",
       "duration           0\n",
       "history            0\n",
       "purpose            0\n",
       "amount             0\n",
       "savings            0\n",
       "employ             0\n",
       "installment        0\n",
       "status             0\n",
       "others             0\n",
       "residence          0\n",
       "property           0\n",
       "age                0\n",
       "otherplans         0\n",
       "housing            0\n",
       "cards              0\n",
       "job                0\n",
       "liable             0\n",
       "tele               0\n",
       "foreign            0\n",
       "dtype: int64"
      ]
     },
     "execution_count": 11,
     "metadata": {},
     "output_type": "execute_result"
    }
   ],
   "source": [
    "data.isnull().sum()"
   ]
  },
  {
   "cell_type": "code",
   "execution_count": 12,
   "id": "66a56f34",
   "metadata": {},
   "outputs": [
    {
     "data": {
      "text/plain": [
       "Default            0\n",
       "checkingstatus1    0\n",
       "duration           0\n",
       "history            0\n",
       "purpose            0\n",
       "amount             0\n",
       "savings            0\n",
       "employ             0\n",
       "installment        0\n",
       "status             0\n",
       "others             0\n",
       "residence          0\n",
       "property           0\n",
       "age                0\n",
       "otherplans         0\n",
       "housing            0\n",
       "cards              0\n",
       "job                0\n",
       "liable             0\n",
       "tele               0\n",
       "foreign            0\n",
       "dtype: int64"
      ]
     },
     "execution_count": 12,
     "metadata": {},
     "output_type": "execute_result"
    }
   ],
   "source": [
    "data.isna().sum()"
   ]
  },
  {
   "cell_type": "code",
   "execution_count": 13,
   "id": "10bd7f4e",
   "metadata": {},
   "outputs": [
    {
     "name": "stdout",
     "output_type": "stream",
     "text": [
      "0    700\n",
      "1    300\n",
      "Name: Default, dtype: int64\n"
     ]
    },
    {
     "data": {
      "text/plain": [
       "<AxesSubplot:>"
      ]
     },
     "execution_count": 13,
     "metadata": {},
     "output_type": "execute_result"
    },
    {
     "data": {
      "image/png": "[encoded data removed]",
      "text/plain": [
       "<Figure size 432x288 with 1 Axes>"
      ]
     },
     "metadata": {},
     "output_type": "display_data"
    }
   ],
   "source": [
    "# # Creating Bar chart as the Target variable is Categorical\n",
    "\n",
    "print(data[\"Default\"].value_counts())\n",
    "data[\"Default\"].value_counts().plot(kind = 'bar')"
   ]
  },
  {
   "cell_type": "markdown",
   "id": "6eee11b2",
   "metadata": {},
   "source": [
    "# EDA"
   ]
  },
  {
   "cell_type": "code",
   "execution_count": 14,
   "id": "6a045a9d",
   "metadata": {},
   "outputs": [
    {
     "data": {
      "text/plain": [
       "Default              2\n",
       "checkingstatus1      4\n",
       "duration            33\n",
       "history              5\n",
       "purpose             10\n",
       "amount             921\n",
       "savings              5\n",
       "employ               5\n",
       "installment          4\n",
       "status               4\n",
       "others               3\n",
       "residence            4\n",
       "property             4\n",
       "age                 53\n",
       "otherplans           3\n",
       "housing              3\n",
       "cards                4\n",
       "job                  4\n",
       "liable               2\n",
       "tele                 2\n",
       "foreign              2\n",
       "dtype: int64"
      ]
     },
     "execution_count": 14,
     "metadata": {},
     "output_type": "execute_result"
    }
   ],
   "source": [
    "# Let's check the number of unique values in each column\n",
    "\n",
    "data.nunique()"
   ]
  },
  {
   "cell_type": "code",
   "execution_count": 15,
   "id": "c44e820b",
   "metadata": {},
   "outputs": [
    {
     "data": {
      "text/html": [
       "<div>\n",
       "<style scoped>\n",
       "    .dataframe tbody tr th:only-of-type {\n",
       "        vertical-align: middle;\n",
       "    }\n",
       "\n",
       "    .dataframe tbody tr th {\n",
       "        vertical-align: top;\n",
       "    }\n",
       "\n",
       "    .dataframe thead th {\n",
       "        text-align: right;\n",
       "    }\n",
       "</style>\n",
       "<table border=\"1\" class=\"dataframe\">\n",
       "  <thead>\n",
       "    <tr style=\"text-align: right;\">\n",
       "      <th></th>\n",
       "      <th>Default</th>\n",
       "      <th>checkingstatus1</th>\n",
       "      <th>duration</th>\n",
       "      <th>history</th>\n",
       "      <th>purpose</th>\n",
       "      <th>amount</th>\n",
       "      <th>savings</th>\n",
       "      <th>employ</th>\n",
       "      <th>installment</th>\n",
       "      <th>status</th>\n",
       "      <th>...</th>\n",
       "      <th>residence</th>\n",
       "      <th>property</th>\n",
       "      <th>age</th>\n",
       "      <th>otherplans</th>\n",
       "      <th>housing</th>\n",
       "      <th>cards</th>\n",
       "      <th>job</th>\n",
       "      <th>liable</th>\n",
       "      <th>tele</th>\n",
       "      <th>foreign</th>\n",
       "    </tr>\n",
       "  </thead>\n",
       "  <tbody>\n",
       "    <tr>\n",
       "      <th>0</th>\n",
       "      <td>0</td>\n",
       "      <td>0.0</td>\n",
       "      <td>6</td>\n",
       "      <td>4.0</td>\n",
       "      <td>4.0</td>\n",
       "      <td>1169</td>\n",
       "      <td>4.0</td>\n",
       "      <td>4.0</td>\n",
       "      <td>4</td>\n",
       "      <td>2.0</td>\n",
       "      <td>...</td>\n",
       "      <td>4</td>\n",
       "      <td>0.0</td>\n",
       "      <td>67</td>\n",
       "      <td>2.0</td>\n",
       "      <td>1.0</td>\n",
       "      <td>2</td>\n",
       "      <td>2.0</td>\n",
       "      <td>1</td>\n",
       "      <td>1.0</td>\n",
       "      <td>0.0</td>\n",
       "    </tr>\n",
       "    <tr>\n",
       "      <th>1</th>\n",
       "      <td>1</td>\n",
       "      <td>1.0</td>\n",
       "      <td>48</td>\n",
       "      <td>2.0</td>\n",
       "      <td>4.0</td>\n",
       "      <td>5951</td>\n",
       "      <td>0.0</td>\n",
       "      <td>2.0</td>\n",
       "      <td>2</td>\n",
       "      <td>1.0</td>\n",
       "      <td>...</td>\n",
       "      <td>2</td>\n",
       "      <td>0.0</td>\n",
       "      <td>22</td>\n",
       "      <td>2.0</td>\n",
       "      <td>1.0</td>\n",
       "      <td>1</td>\n",
       "      <td>2.0</td>\n",
       "      <td>1</td>\n",
       "      <td>0.0</td>\n",
       "      <td>0.0</td>\n",
       "    </tr>\n",
       "    <tr>\n",
       "      <th>2</th>\n",
       "      <td>0</td>\n",
       "      <td>3.0</td>\n",
       "      <td>12</td>\n",
       "      <td>4.0</td>\n",
       "      <td>7.0</td>\n",
       "      <td>2096</td>\n",
       "      <td>0.0</td>\n",
       "      <td>3.0</td>\n",
       "      <td>2</td>\n",
       "      <td>2.0</td>\n",
       "      <td>...</td>\n",
       "      <td>3</td>\n",
       "      <td>0.0</td>\n",
       "      <td>49</td>\n",
       "      <td>2.0</td>\n",
       "      <td>1.0</td>\n",
       "      <td>1</td>\n",
       "      <td>1.0</td>\n",
       "      <td>2</td>\n",
       "      <td>0.0</td>\n",
       "      <td>0.0</td>\n",
       "    </tr>\n",
       "    <tr>\n",
       "      <th>3</th>\n",
       "      <td>0</td>\n",
       "      <td>0.0</td>\n",
       "      <td>42</td>\n",
       "      <td>2.0</td>\n",
       "      <td>3.0</td>\n",
       "      <td>7882</td>\n",
       "      <td>0.0</td>\n",
       "      <td>3.0</td>\n",
       "      <td>2</td>\n",
       "      <td>2.0</td>\n",
       "      <td>...</td>\n",
       "      <td>4</td>\n",
       "      <td>1.0</td>\n",
       "      <td>45</td>\n",
       "      <td>2.0</td>\n",
       "      <td>2.0</td>\n",
       "      <td>1</td>\n",
       "      <td>2.0</td>\n",
       "      <td>2</td>\n",
       "      <td>0.0</td>\n",
       "      <td>0.0</td>\n",
       "    </tr>\n",
       "    <tr>\n",
       "      <th>4</th>\n",
       "      <td>1</td>\n",
       "      <td>0.0</td>\n",
       "      <td>24</td>\n",
       "      <td>3.0</td>\n",
       "      <td>0.0</td>\n",
       "      <td>4870</td>\n",
       "      <td>0.0</td>\n",
       "      <td>2.0</td>\n",
       "      <td>3</td>\n",
       "      <td>2.0</td>\n",
       "      <td>...</td>\n",
       "      <td>4</td>\n",
       "      <td>3.0</td>\n",
       "      <td>53</td>\n",
       "      <td>2.0</td>\n",
       "      <td>2.0</td>\n",
       "      <td>2</td>\n",
       "      <td>2.0</td>\n",
       "      <td>2</td>\n",
       "      <td>0.0</td>\n",
       "      <td>0.0</td>\n",
       "    </tr>\n",
       "    <tr>\n",
       "      <th>...</th>\n",
       "      <td>...</td>\n",
       "      <td>...</td>\n",
       "      <td>...</td>\n",
       "      <td>...</td>\n",
       "      <td>...</td>\n",
       "      <td>...</td>\n",
       "      <td>...</td>\n",
       "      <td>...</td>\n",
       "      <td>...</td>\n",
       "      <td>...</td>\n",
       "      <td>...</td>\n",
       "      <td>...</td>\n",
       "      <td>...</td>\n",
       "      <td>...</td>\n",
       "      <td>...</td>\n",
       "      <td>...</td>\n",
       "      <td>...</td>\n",
       "      <td>...</td>\n",
       "      <td>...</td>\n",
       "      <td>...</td>\n",
       "      <td>...</td>\n",
       "    </tr>\n",
       "    <tr>\n",
       "      <th>995</th>\n",
       "      <td>0</td>\n",
       "      <td>3.0</td>\n",
       "      <td>12</td>\n",
       "      <td>2.0</td>\n",
       "      <td>3.0</td>\n",
       "      <td>1736</td>\n",
       "      <td>0.0</td>\n",
       "      <td>3.0</td>\n",
       "      <td>3</td>\n",
       "      <td>1.0</td>\n",
       "      <td>...</td>\n",
       "      <td>4</td>\n",
       "      <td>0.0</td>\n",
       "      <td>31</td>\n",
       "      <td>2.0</td>\n",
       "      <td>1.0</td>\n",
       "      <td>1</td>\n",
       "      <td>1.0</td>\n",
       "      <td>1</td>\n",
       "      <td>0.0</td>\n",
       "      <td>0.0</td>\n",
       "    </tr>\n",
       "    <tr>\n",
       "      <th>996</th>\n",
       "      <td>0</td>\n",
       "      <td>0.0</td>\n",
       "      <td>30</td>\n",
       "      <td>2.0</td>\n",
       "      <td>1.0</td>\n",
       "      <td>3857</td>\n",
       "      <td>0.0</td>\n",
       "      <td>2.0</td>\n",
       "      <td>4</td>\n",
       "      <td>0.0</td>\n",
       "      <td>...</td>\n",
       "      <td>4</td>\n",
       "      <td>1.0</td>\n",
       "      <td>40</td>\n",
       "      <td>2.0</td>\n",
       "      <td>1.0</td>\n",
       "      <td>1</td>\n",
       "      <td>3.0</td>\n",
       "      <td>1</td>\n",
       "      <td>1.0</td>\n",
       "      <td>0.0</td>\n",
       "    </tr>\n",
       "    <tr>\n",
       "      <th>997</th>\n",
       "      <td>0</td>\n",
       "      <td>3.0</td>\n",
       "      <td>12</td>\n",
       "      <td>2.0</td>\n",
       "      <td>4.0</td>\n",
       "      <td>804</td>\n",
       "      <td>0.0</td>\n",
       "      <td>4.0</td>\n",
       "      <td>4</td>\n",
       "      <td>2.0</td>\n",
       "      <td>...</td>\n",
       "      <td>4</td>\n",
       "      <td>2.0</td>\n",
       "      <td>38</td>\n",
       "      <td>2.0</td>\n",
       "      <td>1.0</td>\n",
       "      <td>1</td>\n",
       "      <td>2.0</td>\n",
       "      <td>1</td>\n",
       "      <td>0.0</td>\n",
       "      <td>0.0</td>\n",
       "    </tr>\n",
       "    <tr>\n",
       "      <th>998</th>\n",
       "      <td>1</td>\n",
       "      <td>0.0</td>\n",
       "      <td>45</td>\n",
       "      <td>2.0</td>\n",
       "      <td>4.0</td>\n",
       "      <td>1845</td>\n",
       "      <td>0.0</td>\n",
       "      <td>2.0</td>\n",
       "      <td>4</td>\n",
       "      <td>2.0</td>\n",
       "      <td>...</td>\n",
       "      <td>4</td>\n",
       "      <td>3.0</td>\n",
       "      <td>23</td>\n",
       "      <td>2.0</td>\n",
       "      <td>2.0</td>\n",
       "      <td>1</td>\n",
       "      <td>2.0</td>\n",
       "      <td>1</td>\n",
       "      <td>1.0</td>\n",
       "      <td>0.0</td>\n",
       "    </tr>\n",
       "    <tr>\n",
       "      <th>999</th>\n",
       "      <td>0</td>\n",
       "      <td>1.0</td>\n",
       "      <td>45</td>\n",
       "      <td>4.0</td>\n",
       "      <td>1.0</td>\n",
       "      <td>4576</td>\n",
       "      <td>1.0</td>\n",
       "      <td>0.0</td>\n",
       "      <td>3</td>\n",
       "      <td>2.0</td>\n",
       "      <td>...</td>\n",
       "      <td>4</td>\n",
       "      <td>2.0</td>\n",
       "      <td>27</td>\n",
       "      <td>2.0</td>\n",
       "      <td>1.0</td>\n",
       "      <td>1</td>\n",
       "      <td>2.0</td>\n",
       "      <td>1</td>\n",
       "      <td>0.0</td>\n",
       "      <td>0.0</td>\n",
       "    </tr>\n",
       "  </tbody>\n",
       "</table>\n",
       "<p>1000 rows × 21 columns</p>\n",
       "</div>"
      ],
      "text/plain": [
       "     Default  checkingstatus1  duration  history  purpose  amount  savings  \\\n",
       "0          0              0.0         6      4.0      4.0    1169      4.0   \n",
       "1          1              1.0        48      2.0      4.0    5951      0.0   \n",
       "2          0              3.0        12      4.0      7.0    2096      0.0   \n",
       "3          0              0.0        42      2.0      3.0    7882      0.0   \n",
       "4          1              0.0        24      3.0      0.0    4870      0.0   \n",
       "..       ...              ...       ...      ...      ...     ...      ...   \n",
       "995        0              3.0        12      2.0      3.0    1736      0.0   \n",
       "996        0              0.0        30      2.0      1.0    3857      0.0   \n",
       "997        0              3.0        12      2.0      4.0     804      0.0   \n",
       "998        1              0.0        45      2.0      4.0    1845      0.0   \n",
       "999        0              1.0        45      4.0      1.0    4576      1.0   \n",
       "\n",
       "     employ  installment  status  ...  residence  property  age  otherplans  \\\n",
       "0       4.0            4     2.0  ...          4       0.0   67         2.0   \n",
       "1       2.0            2     1.0  ...          2       0.0   22         2.0   \n",
       "2       3.0            2     2.0  ...          3       0.0   49         2.0   \n",
       "3       3.0            2     2.0  ...          4       1.0   45         2.0   \n",
       "4       2.0            3     2.0  ...          4       3.0   53         2.0   \n",
       "..      ...          ...     ...  ...        ...       ...  ...         ...   \n",
       "995     3.0            3     1.0  ...          4       0.0   31         2.0   \n",
       "996     2.0            4     0.0  ...          4       1.0   40         2.0   \n",
       "997     4.0            4     2.0  ...          4       2.0   38         2.0   \n",
       "998     2.0            4     2.0  ...          4       3.0   23         2.0   \n",
       "999     0.0            3     2.0  ...          4       2.0   27         2.0   \n",
       "\n",
       "     housing  cards  job  liable  tele  foreign  \n",
       "0        1.0      2  2.0       1   1.0      0.0  \n",
       "1        1.0      1  2.0       1   0.0      0.0  \n",
       "2        1.0      1  1.0       2   0.0      0.0  \n",
       "3        2.0      1  2.0       2   0.0      0.0  \n",
       "4        2.0      2  2.0       2   0.0      0.0  \n",
       "..       ...    ...  ...     ...   ...      ...  \n",
       "995      1.0      1  1.0       1   0.0      0.0  \n",
       "996      1.0      1  3.0       1   1.0      0.0  \n",
       "997      1.0      1  2.0       1   0.0      0.0  \n",
       "998      2.0      1  2.0       1   1.0      0.0  \n",
       "999      1.0      1  2.0       1   0.0      0.0  \n",
       "\n",
       "[1000 rows x 21 columns]"
      ]
     },
     "execution_count": 15,
     "metadata": {},
     "output_type": "execute_result"
    }
   ],
   "source": [
    "from sklearn.preprocessing import OrdinalEncoder\n",
    "# Creating an instance of the OrdinalEncoder\n",
    "encoder = OrdinalEncoder()\n",
    "\n",
    "cat_cols = data.select_dtypes(include = object).columns.tolist()\n",
    "\n",
    "# Copying the dataframe to avoid changing the original one\n",
    "data_encoded = data.copy()\n",
    "# Encoding the categorical columns\n",
    "data_encoded[cat_cols] = encoder.fit_transform(data[cat_cols])\n",
    "\n",
    "data_encoded\n"
   ]
  },
  {
   "cell_type": "code",
   "execution_count": null,
   "id": "633b6aa9",
   "metadata": {},
   "outputs": [],
   "source": []
  },
  {
   "cell_type": "code",
   "execution_count": 16,
   "id": "9914b9e3",
   "metadata": {},
   "outputs": [
    {
     "data": {
      "image/png": "[encoded data removed]",
      "text/plain": [
       "<Figure size 1440x576 with 3 Axes>"
      ]
     },
     "metadata": {},
     "output_type": "display_data"
    }
   ],
   "source": [
    "#Boxplots for quantitative predictors\n",
    "#select only the numeric columns in the DataFrame\n",
    "#quan_var = data.select_dtypes(include=np.number)\n",
    "quan_var = ['duration', 'amount', 'age']\n",
    "plt.figure(figsize=(20,8))\n",
    "#data.boxplot(by = 'Default', column = ['duration'])\n",
    "for i,name in enumerate(quan_var):\n",
    "    plt.subplot(1, 3, i+1)\n",
    "    sns.boxplot(x = 'Default', y = name, data = data)"
   ]
  },
  {
   "cell_type": "code",
   "execution_count": 17,
   "id": "a2f228e9",
   "metadata": {},
   "outputs": [],
   "source": [
    "def PlotBarCharts(inpData, colsToPlot):\n",
    "    %matplotlib inline\n",
    "    \n",
    "    import matplotlib.pyplot as plt\n",
    "    \n",
    "    # Generating multiple subplots\n",
    "    fig, subPlot=plt.subplots(nrows=1, ncols=len(colsToPlot), figsize=(20,5))\n",
    "    fig.suptitle('Bar charts of: '+ str(colsToPlot))\n",
    "\n",
    "    for colName, plotNumber in zip(colsToPlot, range(len(colsToPlot))):\n",
    "        inpData.groupby(colName).size().plot(kind='bar',ax=subPlot[plotNumber])"
   ]
  },
  {
   "cell_type": "code",
   "execution_count": 20,
   "id": "5c5be2ea",
   "metadata": {},
   "outputs": [
    {
     "data": {
      "image/png": "[encoded data removed]",
      "text/plain": [
       "<Figure size 1440x360 with 3 Axes>"
      ]
     },
     "metadata": {
      "needs_background": "light"
     },
     "output_type": "display_data"
    }
   ],
   "source": [
    "##barplots for qualitative predictors\n",
    "\n",
    "qual_var = data.select_dtypes(include = object).columns.tolist()\n",
    "qual_var.append('liable')\n",
    "\n",
    "PlotBarCharts(inpData=data, \n",
    "              colsToPlot=qual_var[:3])"
   ]
  },
  {
   "cell_type": "code",
   "execution_count": 21,
   "id": "1d65d901",
   "metadata": {},
   "outputs": [
    {
     "data": {
      "image/png": "[encoded data removed]",
      "text/plain": [
       "<Figure size 720x6480 with 14 Axes>"
      ]
     },
     "metadata": {
      "needs_background": "light"
     },
     "output_type": "display_data"
    }
   ],
   "source": [
    "fig, PlotCanvas=plt.subplots(nrows=len(qual_var), ncols=1, figsize=(10,90))\n",
    "\n",
    "# Creating Grouped bar plots for each categorical predictor against the Target Variable \"GoodCredit\"\n",
    "for CategoricalCol , i in zip(qual_var, range(len(qual_var))):\n",
    "    CrossTabResult=pd.crosstab(index=data[CategoricalCol], columns=data['Default'])\n",
    "    CrossTabResult.plot.bar(color=['red','green'], ax=PlotCanvas[i])\n"
   ]
  },
  {
   "cell_type": "markdown",
   "id": "a9692924",
   "metadata": {},
   "source": [
    "## Train-Test Split"
   ]
  },
  {
   "cell_type": "code",
   "execution_count": 107,
   "id": "41a11d05",
   "metadata": {},
   "outputs": [
    {
     "data": {
      "text/html": [
       "<div>\n",
       "<style scoped>\n",
       "    .dataframe tbody tr th:only-of-type {\n",
       "        vertical-align: middle;\n",
       "    }\n",
       "\n",
       "    .dataframe tbody tr th {\n",
       "        vertical-align: top;\n",
       "    }\n",
       "\n",
       "    .dataframe thead th {\n",
       "        text-align: right;\n",
       "    }\n",
       "</style>\n",
       "<table border=\"1\" class=\"dataframe\">\n",
       "  <thead>\n",
       "    <tr style=\"text-align: right;\">\n",
       "      <th></th>\n",
       "      <th>Default</th>\n",
       "      <th>checkingstatus1</th>\n",
       "      <th>duration</th>\n",
       "      <th>history</th>\n",
       "      <th>purpose</th>\n",
       "      <th>amount</th>\n",
       "      <th>savings</th>\n",
       "      <th>employ</th>\n",
       "      <th>installment</th>\n",
       "      <th>status</th>\n",
       "      <th>...</th>\n",
       "      <th>residence</th>\n",
       "      <th>property</th>\n",
       "      <th>age</th>\n",
       "      <th>otherplans</th>\n",
       "      <th>housing</th>\n",
       "      <th>cards</th>\n",
       "      <th>job</th>\n",
       "      <th>liable</th>\n",
       "      <th>tele</th>\n",
       "      <th>foreign</th>\n",
       "    </tr>\n",
       "  </thead>\n",
       "  <tbody>\n",
       "    <tr>\n",
       "      <th>0</th>\n",
       "      <td>0</td>\n",
       "      <td>0.0</td>\n",
       "      <td>6</td>\n",
       "      <td>4.0</td>\n",
       "      <td>4.0</td>\n",
       "      <td>1169</td>\n",
       "      <td>4.0</td>\n",
       "      <td>4.0</td>\n",
       "      <td>4</td>\n",
       "      <td>2.0</td>\n",
       "      <td>...</td>\n",
       "      <td>4</td>\n",
       "      <td>0.0</td>\n",
       "      <td>67</td>\n",
       "      <td>2.0</td>\n",
       "      <td>1.0</td>\n",
       "      <td>2</td>\n",
       "      <td>2.0</td>\n",
       "      <td>1</td>\n",
       "      <td>1.0</td>\n",
       "      <td>0.0</td>\n",
       "    </tr>\n",
       "    <tr>\n",
       "      <th>1</th>\n",
       "      <td>1</td>\n",
       "      <td>1.0</td>\n",
       "      <td>48</td>\n",
       "      <td>2.0</td>\n",
       "      <td>4.0</td>\n",
       "      <td>5951</td>\n",
       "      <td>0.0</td>\n",
       "      <td>2.0</td>\n",
       "      <td>2</td>\n",
       "      <td>1.0</td>\n",
       "      <td>...</td>\n",
       "      <td>2</td>\n",
       "      <td>0.0</td>\n",
       "      <td>22</td>\n",
       "      <td>2.0</td>\n",
       "      <td>1.0</td>\n",
       "      <td>1</td>\n",
       "      <td>2.0</td>\n",
       "      <td>1</td>\n",
       "      <td>0.0</td>\n",
       "      <td>0.0</td>\n",
       "    </tr>\n",
       "    <tr>\n",
       "      <th>2</th>\n",
       "      <td>0</td>\n",
       "      <td>3.0</td>\n",
       "      <td>12</td>\n",
       "      <td>4.0</td>\n",
       "      <td>7.0</td>\n",
       "      <td>2096</td>\n",
       "      <td>0.0</td>\n",
       "      <td>3.0</td>\n",
       "      <td>2</td>\n",
       "      <td>2.0</td>\n",
       "      <td>...</td>\n",
       "      <td>3</td>\n",
       "      <td>0.0</td>\n",
       "      <td>49</td>\n",
       "      <td>2.0</td>\n",
       "      <td>1.0</td>\n",
       "      <td>1</td>\n",
       "      <td>1.0</td>\n",
       "      <td>2</td>\n",
       "      <td>0.0</td>\n",
       "      <td>0.0</td>\n",
       "    </tr>\n",
       "    <tr>\n",
       "      <th>3</th>\n",
       "      <td>0</td>\n",
       "      <td>0.0</td>\n",
       "      <td>42</td>\n",
       "      <td>2.0</td>\n",
       "      <td>3.0</td>\n",
       "      <td>7882</td>\n",
       "      <td>0.0</td>\n",
       "      <td>3.0</td>\n",
       "      <td>2</td>\n",
       "      <td>2.0</td>\n",
       "      <td>...</td>\n",
       "      <td>4</td>\n",
       "      <td>1.0</td>\n",
       "      <td>45</td>\n",
       "      <td>2.0</td>\n",
       "      <td>2.0</td>\n",
       "      <td>1</td>\n",
       "      <td>2.0</td>\n",
       "      <td>2</td>\n",
       "      <td>0.0</td>\n",
       "      <td>0.0</td>\n",
       "    </tr>\n",
       "    <tr>\n",
       "      <th>4</th>\n",
       "      <td>1</td>\n",
       "      <td>0.0</td>\n",
       "      <td>24</td>\n",
       "      <td>3.0</td>\n",
       "      <td>0.0</td>\n",
       "      <td>4870</td>\n",
       "      <td>0.0</td>\n",
       "      <td>2.0</td>\n",
       "      <td>3</td>\n",
       "      <td>2.0</td>\n",
       "      <td>...</td>\n",
       "      <td>4</td>\n",
       "      <td>3.0</td>\n",
       "      <td>53</td>\n",
       "      <td>2.0</td>\n",
       "      <td>2.0</td>\n",
       "      <td>2</td>\n",
       "      <td>2.0</td>\n",
       "      <td>2</td>\n",
       "      <td>0.0</td>\n",
       "      <td>0.0</td>\n",
       "    </tr>\n",
       "  </tbody>\n",
       "</table>\n",
       "<p>5 rows × 21 columns</p>\n",
       "</div>"
      ],
      "text/plain": [
       "   Default  checkingstatus1  duration  history  purpose  amount  savings  \\\n",
       "0        0              0.0         6      4.0      4.0    1169      4.0   \n",
       "1        1              1.0        48      2.0      4.0    5951      0.0   \n",
       "2        0              3.0        12      4.0      7.0    2096      0.0   \n",
       "3        0              0.0        42      2.0      3.0    7882      0.0   \n",
       "4        1              0.0        24      3.0      0.0    4870      0.0   \n",
       "\n",
       "   employ  installment  status  ...  residence  property  age  otherplans  \\\n",
       "0     4.0            4     2.0  ...          4       0.0   67         2.0   \n",
       "1     2.0            2     1.0  ...          2       0.0   22         2.0   \n",
       "2     3.0            2     2.0  ...          3       0.0   49         2.0   \n",
       "3     3.0            2     2.0  ...          4       1.0   45         2.0   \n",
       "4     2.0            3     2.0  ...          4       3.0   53         2.0   \n",
       "\n",
       "   housing  cards  job  liable  tele  foreign  \n",
       "0      1.0      2  2.0       1   1.0      0.0  \n",
       "1      1.0      1  2.0       1   0.0      0.0  \n",
       "2      1.0      1  1.0       2   0.0      0.0  \n",
       "3      2.0      1  2.0       2   0.0      0.0  \n",
       "4      2.0      2  2.0       2   0.0      0.0  \n",
       "\n",
       "[5 rows x 21 columns]"
      ]
     },
     "execution_count": 107,
     "metadata": {},
     "output_type": "execute_result"
    }
   ],
   "source": [
    "data_encoded.head()"
   ]
  },
  {
   "cell_type": "code",
   "execution_count": 108,
   "id": "f46d4257",
   "metadata": {},
   "outputs": [],
   "source": [
    "# input\n",
    "x = data_encoded.iloc[:, 1:].values\n",
    " \n",
    "# output\n",
    "y = data_encoded.iloc[:, 0].values\n",
    "\n",
    "#Spliting the data in 80:20 training to testing\n",
    "from sklearn.model_selection import train_test_split\n",
    "x_train, x_test, y_train, y_test = train_test_split(x, y, test_size = 0.2, random_state = 0)\n"
   ]
  },
  {
   "cell_type": "markdown",
   "id": "ab40eb9a",
   "metadata": {},
   "source": [
    "# Scaling Data"
   ]
  },
  {
   "cell_type": "code",
   "execution_count": 109,
   "id": "dda9933a",
   "metadata": {},
   "outputs": [
    {
     "data": {
      "text/plain": [
       "(800, 20)"
      ]
     },
     "execution_count": 109,
     "metadata": {},
     "output_type": "execute_result"
    }
   ],
   "source": [
    "#Applying MinMaxScaler\n",
    "from sklearn.preprocessing import MinMaxScaler\n",
    "scaler=MinMaxScaler()\n",
    "x_train = scaler.fit_transform(x_train)\n",
    "x_test = scaler.transform(x_test)\n",
    "x_train.shape"
   ]
  },
  {
   "cell_type": "markdown",
   "id": "2815ae27",
   "metadata": {},
   "source": [
    "# ML Models"
   ]
  },
  {
   "cell_type": "code",
   "execution_count": 110,
   "id": "d85f288c",
   "metadata": {},
   "outputs": [],
   "source": [
    "models = []\n",
    "models.append(('LR', LogisticRegression()))\n",
    "models.append(('NB', GaussianNB()))\n",
    "models.append(('RF', RandomForestClassifier(random_state=0)))\n",
    "models.append(('DT', DecisionTreeClassifier()))\n",
    "models.append(('XGB', XGBClassifier()))\n",
    "models.append(('LDA', LinearDiscriminantAnalysis()))\n",
    "models.append(('QDA', QuadraticDiscriminantAnalysis())) \n",
    "models.append(('AdaB', AdaBoostClassifier()))\n",
    "models.append(('KNN', KNeighborsClassifier(n_neighbors=3)))\n",
    "models.append(('SVM', svm.SVC(C=2, kernel='rbf', gamma=0.1)))"
   ]
  },
  {
   "cell_type": "code",
   "execution_count": 111,
   "id": "855b1e85",
   "metadata": {},
   "outputs": [
    {
     "data": {
      "text/plain": [
       "[('LR', LogisticRegression()),\n",
       " ('NB', GaussianNB()),\n",
       " ('RF', RandomForestClassifier(random_state=0)),\n",
       " ('DT', DecisionTreeClassifier()),\n",
       " ('XGB',\n",
       "  XGBClassifier(base_score=None, booster=None, colsample_bylevel=None,\n",
       "                colsample_bynode=None, colsample_bytree=None,\n",
       "                enable_categorical=False, gamma=None, gpu_id=None,\n",
       "                importance_type=None, interaction_constraints=None,\n",
       "                learning_rate=None, max_delta_step=None, max_depth=None,\n",
       "                min_child_weight=None, missing=nan, monotone_constraints=None,\n",
       "                n_estimators=100, n_jobs=None, num_parallel_tree=None,\n",
       "                predictor=None, random_state=None, reg_alpha=None,\n",
       "                reg_lambda=None, scale_pos_weight=None, subsample=None,\n",
       "                tree_method=None, validate_parameters=None, verbosity=None)),\n",
       " ('LDA', LinearDiscriminantAnalysis()),\n",
       " ('QDA', QuadraticDiscriminantAnalysis()),\n",
       " ('AdaB', AdaBoostClassifier()),\n",
       " ('KNN', KNeighborsClassifier(n_neighbors=3)),\n",
       " ('SVM', SVC(C=2, gamma=0.1))]"
      ]
     },
     "execution_count": 111,
     "metadata": {},
     "output_type": "execute_result"
    }
   ],
   "source": [
    "models"
   ]
  },
  {
   "cell_type": "markdown",
   "id": "308613bc",
   "metadata": {},
   "source": [
    "# Model training and Testing"
   ]
  },
  {
   "cell_type": "code",
   "execution_count": 112,
   "id": "24420c48",
   "metadata": {},
   "outputs": [
    {
     "name": "stdout",
     "output_type": "stream",
     "text": [
      "[18:48:53] WARNING: C:/Users/Administrator/workspace/xgboost-win64_release_1.5.1/src/learner.cc:1115: Starting in XGBoost 1.3.0, the default evaluation metric used with the objective 'binary:logistic' was changed from 'error' to 'logloss'. Explicitly set eval_metric if you'd like to restore the old behavior.\n",
      "[18:48:53] WARNING: C:/Users/Administrator/workspace/xgboost-win64_release_1.5.1/src/learner.cc:1115: Starting in XGBoost 1.3.0, the default evaluation metric used with the objective 'binary:logistic' was changed from 'error' to 'logloss'. Explicitly set eval_metric if you'd like to restore the old behavior.\n",
      "[18:48:53] WARNING: C:/Users/Administrator/workspace/xgboost-win64_release_1.5.1/src/learner.cc:1115: Starting in XGBoost 1.3.0, the default evaluation metric used with the objective 'binary:logistic' was changed from 'error' to 'logloss'. Explicitly set eval_metric if you'd like to restore the old behavior.\n",
      "[18:48:53] WARNING: C:/Users/Administrator/workspace/xgboost-win64_release_1.5.1/src/learner.cc:1115: Starting in XGBoost 1.3.0, the default evaluation metric used with the objective 'binary:logistic' was changed from 'error' to 'logloss'. Explicitly set eval_metric if you'd like to restore the old behavior.\n",
      "[18:48:53] WARNING: C:/Users/Administrator/workspace/xgboost-win64_release_1.5.1/src/learner.cc:1115: Starting in XGBoost 1.3.0, the default evaluation metric used with the objective 'binary:logistic' was changed from 'error' to 'logloss'. Explicitly set eval_metric if you'd like to restore the old behavior.\n",
      "[18:48:54] WARNING: C:/Users/Administrator/workspace/xgboost-win64_release_1.5.1/src/learner.cc:1115: Starting in XGBoost 1.3.0, the default evaluation metric used with the objective 'binary:logistic' was changed from 'error' to 'logloss'. Explicitly set eval_metric if you'd like to restore the old behavior.\n",
      "[18:48:54] WARNING: C:/Users/Administrator/workspace/xgboost-win64_release_1.5.1/src/learner.cc:1115: Starting in XGBoost 1.3.0, the default evaluation metric used with the objective 'binary:logistic' was changed from 'error' to 'logloss'. Explicitly set eval_metric if you'd like to restore the old behavior.\n",
      "[18:48:54] WARNING: C:/Users/Administrator/workspace/xgboost-win64_release_1.5.1/src/learner.cc:1115: Starting in XGBoost 1.3.0, the default evaluation metric used with the objective 'binary:logistic' was changed from 'error' to 'logloss'. Explicitly set eval_metric if you'd like to restore the old behavior.\n",
      "[18:48:54] WARNING: C:/Users/Administrator/workspace/xgboost-win64_release_1.5.1/src/learner.cc:1115: Starting in XGBoost 1.3.0, the default evaluation metric used with the objective 'binary:logistic' was changed from 'error' to 'logloss'. Explicitly set eval_metric if you'd like to restore the old behavior.\n",
      "[18:48:54] WARNING: C:/Users/Administrator/workspace/xgboost-win64_release_1.5.1/src/learner.cc:1115: Starting in XGBoost 1.3.0, the default evaluation metric used with the objective 'binary:logistic' was changed from 'error' to 'logloss'. Explicitly set eval_metric if you'd like to restore the old behavior.\n",
      "[18:48:54] WARNING: C:/Users/Administrator/workspace/xgboost-win64_release_1.5.1/src/learner.cc:1115: Starting in XGBoost 1.3.0, the default evaluation metric used with the objective 'binary:logistic' was changed from 'error' to 'logloss'. Explicitly set eval_metric if you'd like to restore the old behavior.\n"
     ]
    }
   ],
   "source": [
    "num_folds = 10\n",
    "scoring = 'accuracy'\n",
    "\n",
    "\n",
    "names = []\n",
    "kfold_results = []\n",
    "test_results = []\n",
    "train_results = []\n",
    "for name, model in models: \n",
    "    names.append(name)\n",
    "    ## k-fold analysis:\n",
    "    kfold = KFold(n_splits=num_folds,shuffle=True, random_state= 10)\n",
    "    #converted mean squared error to positive. The lower the better\n",
    "    cv_results = 1* cross_val_score(model, x_train, y_train, cv=kfold, \\\n",
    "    scoring=scoring)\n",
    "    kfold_results.append(cv_results)\n",
    "    # Full Training period\n",
    "    res = model.fit(x_train, y_train)\n",
    "    train_result = accuracy_score(res.predict(x_train), y_train)*100\n",
    "    train_results.append(train_result)\n",
    "    # Test results\n",
    "    test_result = accuracy_score(res.predict(x_test), y_test)*100\n",
    "    test_results.append(test_result)"
   ]
  },
  {
   "cell_type": "markdown",
   "id": "41057d18",
   "metadata": {},
   "source": [
    "### Let’s compare the algorithms by looking at the cross validation results:"
   ]
  },
  {
   "cell_type": "code",
   "execution_count": 113,
   "id": "41d3d5ad",
   "metadata": {},
   "outputs": [
    {
     "data": {
      "image/png": "[encoded data removed]",
      "text/plain": [
       "<Figure size 1080x576 with 1 Axes>"
      ]
     },
     "metadata": {
      "needs_background": "light"
     },
     "output_type": "display_data"
    }
   ],
   "source": [
    "fig = pyplot.figure()\n",
    "fig.suptitle('Algorithm Comparison: Kfold results')\n",
    "ax = fig.add_subplot(111)\n",
    "pyplot.boxplot(kfold_results)\n",
    "ax.set_xticklabels(names)\n",
    "fig.set_size_inches(15,8)\n",
    "pyplot.show()"
   ]
  },
  {
   "cell_type": "markdown",
   "id": "81220b71",
   "metadata": {},
   "source": [
    "## Let us look at the accuracy of the test set as well"
   ]
  },
  {
   "cell_type": "code",
   "execution_count": 114,
   "id": "208d0246",
   "metadata": {},
   "outputs": [
    {
     "data": {
      "image/png": "[encoded data removed]",
      "text/plain": [
       "<Figure size 1080x576 with 1 Axes>"
      ]
     },
     "metadata": {
      "needs_background": "light"
     },
     "output_type": "display_data"
    }
   ],
   "source": [
    "# compare algorithms\n",
    "fig = pyplot.figure()\n",
    "ind = np.arange(len(names)) # the x locations for the groups\n",
    "width = 0.35 # the width of the bars\n",
    "fig.suptitle('Algorithm Comparison')\n",
    "ax = fig.add_subplot(111)\n",
    "pyplot.bar(ind - width/2, train_results, width=width, label='Train acc')\n",
    "pyplot.bar(ind + width/2, test_results, width=width, label='Test acc')\n",
    "fig.set_size_inches(15,8)\n",
    "pyplot.legend()\n",
    "ax.set_xticks(ind)\n",
    "ax.set_xticklabels(names)\n",
    "pyplot.show()"
   ]
  },
  {
   "cell_type": "code",
   "execution_count": 115,
   "id": "b4b50a3e",
   "metadata": {},
   "outputs": [
    {
     "data": {
      "image/png": "[encoded data removed]",
      "text/plain": [
       "<Figure size 864x576 with 1 Axes>"
      ]
     },
     "metadata": {
      "needs_background": "light"
     },
     "output_type": "display_data"
    }
   ],
   "source": [
    "plt.figure(figsize = (12,8))\n",
    "plt.barh(names, test_results)\n",
    " \n",
    "for index, value in enumerate(test_results):\n",
    "    plt.text(value, index,\n",
    "             str(value))\n",
    "plt.title(\"Algorithms comparision based on Test accuracy\") \n",
    "plt.show()"
   ]
  },
  {
   "cell_type": "code",
   "execution_count": null,
   "id": "235a3be1",
   "metadata": {},
   "outputs": [],
   "source": []
  },
  {
   "cell_type": "markdown",
   "id": "94b18099",
   "metadata": {},
   "source": [
    "# Features Selection by Chi-Square Test"
   ]
  },
  {
   "cell_type": "code",
   "execution_count": 116,
   "id": "69e50ef1",
   "metadata": {},
   "outputs": [],
   "source": [
    "def FunctionChisq(inpData, TargetVariable, CategoricalVariablesList):\n",
    "    from scipy.stats import chi2_contingency\n",
    "    \n",
    "    # Creating an empty list of final selected predictors\n",
    "    SelectedPredictors=[]\n",
    "\n",
    "    for predictor in CategoricalVariablesList:\n",
    "        CrossTabResult=pd.crosstab(index=inpData[TargetVariable], columns=inpData[predictor])\n",
    "        ChiSqResult = chi2_contingency(CrossTabResult)\n",
    "        \n",
    "        # If the ChiSq P-Value is <0.05, that means we reject H0\n",
    "        if (ChiSqResult[1] < 0.05):\n",
    "            print(predictor, 'is correlated with', TargetVariable, '| P-Value:', ChiSqResult[1])\n",
    "            SelectedPredictors.append(predictor)\n",
    "        else:\n",
    "            print(predictor, 'is NOT correlated with', TargetVariable, '| P-Value:', ChiSqResult[1])        \n",
    "            \n",
    "    return(SelectedPredictors)"
   ]
  },
  {
   "cell_type": "code",
   "execution_count": 117,
   "id": "66805fc7",
   "metadata": {},
   "outputs": [
    {
     "name": "stdout",
     "output_type": "stream",
     "text": [
      "Default is correlated with Default | P-Value: 1.9413443913774672e-218\n",
      "checkingstatus1 is correlated with Default | P-Value: 1.2189020722893755e-26\n",
      "duration is correlated with Default | P-Value: 7.784571960945828e-06\n",
      "history is correlated with Default | P-Value: 1.2791872956751013e-12\n",
      "purpose is correlated with Default | P-Value: 0.00011574910079691586\n",
      "amount is NOT correlated with Default | P-Value: 0.3865967855326757\n",
      "savings is correlated with Default | P-Value: 2.7612142385682596e-07\n",
      "employ is correlated with Default | P-Value: 0.0010454523491402541\n",
      "installment is NOT correlated with Default | P-Value: 0.1400333122128481\n",
      "status is correlated with Default | P-Value: 0.02223800546926877\n",
      "others is correlated with Default | P-Value: 0.036055954027247226\n",
      "residence is NOT correlated with Default | P-Value: 0.8615521320413175\n",
      "property is correlated with Default | P-Value: 2.8584415733250017e-05\n",
      "age is NOT correlated with Default | P-Value: 0.2795420590036425\n",
      "otherplans is correlated with Default | P-Value: 0.0016293178186473534\n",
      "housing is correlated with Default | P-Value: 0.00011167465374597684\n",
      "cards is NOT correlated with Default | P-Value: 0.4451440800083001\n",
      "job is NOT correlated with Default | P-Value: 0.5965815918843431\n",
      "liable is NOT correlated with Default | P-Value: 1.0\n",
      "tele is NOT correlated with Default | P-Value: 0.27887615430357426\n",
      "foreign is correlated with Default | P-Value: 0.015830754902852885\n"
     ]
    },
    {
     "data": {
      "text/plain": [
       "['Default',\n",
       " 'checkingstatus1',\n",
       " 'duration',\n",
       " 'history',\n",
       " 'purpose',\n",
       " 'savings',\n",
       " 'employ',\n",
       " 'status',\n",
       " 'others',\n",
       " 'property',\n",
       " 'otherplans',\n",
       " 'housing',\n",
       " 'foreign']"
      ]
     },
     "execution_count": 117,
     "metadata": {},
     "output_type": "execute_result"
    }
   ],
   "source": [
    "# For all Columns\n",
    "CategoricalVariablesList = data_encoded.columns.tolist()\n",
    "FunctionChisq(inpData=data_encoded, TargetVariable='Default', CategoricalVariablesList=data_encoded.columns.tolist())"
   ]
  },
  {
   "cell_type": "code",
   "execution_count": 118,
   "id": "1f8c2875",
   "metadata": {},
   "outputs": [],
   "source": [
    "Corr_Var = ['checkingstatus1', 'duration', 'history', 'purpose', 'savings', 'employ','status','others','property','otherplans','housing','foreign' ]\n",
    "X_Corr = data_encoded.loc[:, ['checkingstatus1', 'duration', 'history', 'purpose', 'savings', 'employ','status','others','property','otherplans','housing','foreign' ]]\n",
    "Y_Corr = data_encoded.loc[:, ['Default']]\n"
   ]
  },
  {
   "cell_type": "code",
   "execution_count": 119,
   "id": "beaebe02",
   "metadata": {},
   "outputs": [
    {
     "data": {
      "text/plain": [
       "(800, 12)"
      ]
     },
     "execution_count": 119,
     "metadata": {},
     "output_type": "execute_result"
    }
   ],
   "source": [
    "#Spliting the data in 80:20 training to testing\n",
    "from sklearn.model_selection import train_test_split\n",
    "X_train, X_test, Y_train, Y_test = train_test_split(X_Corr, Y_Corr, test_size = 0.2, random_state = 0)\n",
    "\n",
    "# Scaling\n",
    "\n",
    "#Applying MinMaxScaler\n",
    "from sklearn.preprocessing import MinMaxScaler\n",
    "scaler=MinMaxScaler()\n",
    "X_train = scaler.fit_transform(X_train)\n",
    "X_test = scaler.transform(X_test)\n",
    "X_train.shape"
   ]
  },
  {
   "cell_type": "code",
   "execution_count": 120,
   "id": "56d23205",
   "metadata": {},
   "outputs": [
    {
     "name": "stdout",
     "output_type": "stream",
     "text": [
      "[18:49:00] WARNING: C:/Users/Administrator/workspace/xgboost-win64_release_1.5.1/src/learner.cc:1115: Starting in XGBoost 1.3.0, the default evaluation metric used with the objective 'binary:logistic' was changed from 'error' to 'logloss'. Explicitly set eval_metric if you'd like to restore the old behavior.\n",
      "[18:49:01] WARNING: C:/Users/Administrator/workspace/xgboost-win64_release_1.5.1/src/learner.cc:1115: Starting in XGBoost 1.3.0, the default evaluation metric used with the objective 'binary:logistic' was changed from 'error' to 'logloss'. Explicitly set eval_metric if you'd like to restore the old behavior.\n",
      "[18:49:01] WARNING: C:/Users/Administrator/workspace/xgboost-win64_release_1.5.1/src/learner.cc:1115: Starting in XGBoost 1.3.0, the default evaluation metric used with the objective 'binary:logistic' was changed from 'error' to 'logloss'. Explicitly set eval_metric if you'd like to restore the old behavior.\n",
      "[18:49:01] WARNING: C:/Users/Administrator/workspace/xgboost-win64_release_1.5.1/src/learner.cc:1115: Starting in XGBoost 1.3.0, the default evaluation metric used with the objective 'binary:logistic' was changed from 'error' to 'logloss'. Explicitly set eval_metric if you'd like to restore the old behavior.\n",
      "[18:49:01] WARNING: C:/Users/Administrator/workspace/xgboost-win64_release_1.5.1/src/learner.cc:1115: Starting in XGBoost 1.3.0, the default evaluation metric used with the objective 'binary:logistic' was changed from 'error' to 'logloss'. Explicitly set eval_metric if you'd like to restore the old behavior.\n",
      "[18:49:01] WARNING: C:/Users/Administrator/workspace/xgboost-win64_release_1.5.1/src/learner.cc:1115: Starting in XGBoost 1.3.0, the default evaluation metric used with the objective 'binary:logistic' was changed from 'error' to 'logloss'. Explicitly set eval_metric if you'd like to restore the old behavior.\n",
      "[18:49:01] WARNING: C:/Users/Administrator/workspace/xgboost-win64_release_1.5.1/src/learner.cc:1115: Starting in XGBoost 1.3.0, the default evaluation metric used with the objective 'binary:logistic' was changed from 'error' to 'logloss'. Explicitly set eval_metric if you'd like to restore the old behavior.\n",
      "[18:49:01] WARNING: C:/Users/Administrator/workspace/xgboost-win64_release_1.5.1/src/learner.cc:1115: Starting in XGBoost 1.3.0, the default evaluation metric used with the objective 'binary:logistic' was changed from 'error' to 'logloss'. Explicitly set eval_metric if you'd like to restore the old behavior.\n",
      "[18:49:02] WARNING: C:/Users/Administrator/workspace/xgboost-win64_release_1.5.1/src/learner.cc:1115: Starting in XGBoost 1.3.0, the default evaluation metric used with the objective 'binary:logistic' was changed from 'error' to 'logloss'. Explicitly set eval_metric if you'd like to restore the old behavior.\n",
      "[18:49:02] WARNING: C:/Users/Administrator/workspace/xgboost-win64_release_1.5.1/src/learner.cc:1115: Starting in XGBoost 1.3.0, the default evaluation metric used with the objective 'binary:logistic' was changed from 'error' to 'logloss'. Explicitly set eval_metric if you'd like to restore the old behavior.\n",
      "[18:49:02] WARNING: C:/Users/Administrator/workspace/xgboost-win64_release_1.5.1/src/learner.cc:1115: Starting in XGBoost 1.3.0, the default evaluation metric used with the objective 'binary:logistic' was changed from 'error' to 'logloss'. Explicitly set eval_metric if you'd like to restore the old behavior.\n"
     ]
    }
   ],
   "source": [
    "num_folds = 10\n",
    "scoring = 'accuracy'\n",
    "\n",
    "\n",
    "names = []\n",
    "kfold_results = []\n",
    "test_results = []\n",
    "train_results = []\n",
    "for name, model in models: \n",
    "    names.append(name)\n",
    "    ## k-fold analysis:\n",
    "    kfold = KFold(n_splits=num_folds,shuffle=True, random_state= 10)\n",
    "    #converted mean squared error to positive. The lower the better\n",
    "    cv_results = 1* cross_val_score(model, X_train, Y_train, cv=kfold, \\\n",
    "    scoring=scoring)\n",
    "    kfold_results.append(cv_results)\n",
    "    # Full Training period\n",
    "    res = model.fit(X_train, Y_train)\n",
    "    train_result = accuracy_score(res.predict(X_train), Y_train)*100\n",
    "    train_results.append(train_result)\n",
    "    # Test results\n",
    "    test_result = accuracy_score(res.predict(X_test), Y_test)*100\n",
    "    test_results.append(test_result)"
   ]
  },
  {
   "cell_type": "code",
   "execution_count": 121,
   "id": "dcaf1e86",
   "metadata": {},
   "outputs": [
    {
     "data": {
      "image/png": "[encoded data removed]",
      "text/plain": [
       "<Figure size 1080x576 with 1 Axes>"
      ]
     },
     "metadata": {
      "needs_background": "light"
     },
     "output_type": "display_data"
    }
   ],
   "source": [
    "# compare algorithms\n",
    "fig = pyplot.figure()\n",
    "ind = np.arange(len(names)) # the x locations for the groups\n",
    "width = 0.35 # the width of the bars\n",
    "fig.suptitle('Algorithm Comparison')\n",
    "ax = fig.add_subplot(111)\n",
    "pyplot.bar(ind - width/2, train_results, width=width, label='Train acc')\n",
    "pyplot.bar(ind + width/2, test_results, width=width, label='Test acc')\n",
    "fig.set_size_inches(15,8)\n",
    "pyplot.legend()\n",
    "ax.set_xticks(ind)\n",
    "ax.set_xticklabels(names)\n",
    "pyplot.show()"
   ]
  },
  {
   "cell_type": "code",
   "execution_count": 122,
   "id": "9bdb4176",
   "metadata": {},
   "outputs": [
    {
     "data": {
      "image/png": "[encoded data removed]",
      "text/plain": [
       "<Figure size 864x576 with 1 Axes>"
      ]
     },
     "metadata": {
      "needs_background": "light"
     },
     "output_type": "display_data"
    }
   ],
   "source": [
    "plt.figure(figsize = (12,8))\n",
    "plt.barh(names, test_results)\n",
    " \n",
    "for index, value in enumerate(test_results):\n",
    "    plt.text(value, index,\n",
    "             str(value))\n",
    "plt.title(\"Algorithms comparision based on Test accuracy\") \n",
    "plt.show()"
   ]
  },
  {
   "cell_type": "code",
   "execution_count": null,
   "id": "09695070",
   "metadata": {},
   "outputs": [],
   "source": []
  },
  {
   "cell_type": "markdown",
   "id": "29526059",
   "metadata": {},
   "source": [
    "## ANOVA"
   ]
  },
  {
   "cell_type": "code",
   "execution_count": 123,
   "id": "a7113973",
   "metadata": {},
   "outputs": [],
   "source": [
    "# Defining a function to find the statistical relationship with all  variables\n",
    "def FunctionAnova(inpData, TargetVariable, ContinuousPredictorList):\n",
    "    from scipy.stats import f_oneway\n",
    "\n",
    "    # Creating an empty list of final selected predictors\n",
    "    SelectedPredictors=[]\n",
    "    \n",
    "    print('##### ANOVA Results ##### \\n')\n",
    "    for predictor in ContinuousPredictorList:\n",
    "        CategoryGroupLists=inpData.groupby(TargetVariable)[predictor].apply(list)\n",
    "        AnovaResults = f_oneway(*CategoryGroupLists)\n",
    "        \n",
    "        # If the ANOVA P-Value is <0.05, that means we reject H0\n",
    "        if (AnovaResults[1] < 0.05):\n",
    "            print(predictor, 'is correlated with', TargetVariable, '| P-Value:', AnovaResults[1])\n",
    "            SelectedPredictors.append(predictor)\n",
    "        else:\n",
    "            print(predictor, 'is NOT correlated with', TargetVariable, '| P-Value:', AnovaResults[1])\n",
    "    \n",
    "    return(SelectedPredictors)"
   ]
  },
  {
   "cell_type": "code",
   "execution_count": 124,
   "id": "f38856c3",
   "metadata": {},
   "outputs": [
    {
     "name": "stdout",
     "output_type": "stream",
     "text": [
      "##### ANOVA Results ##### \n",
      "\n",
      "Default is correlated with Default | P-Value: 0.0\n",
      "checkingstatus1 is correlated with Default | P-Value: 2.4416618064128288e-30\n",
      "duration is correlated with Default | P-Value: 6.488049877187189e-12\n",
      "history is correlated with Default | P-Value: 2.4230600689647656e-13\n",
      "purpose is NOT correlated with Default | P-Value: 0.9618536879893452\n",
      "amount is correlated with Default | P-Value: 8.797572373533373e-07\n",
      "savings is correlated with Default | P-Value: 1.2147983456827244e-08\n",
      "employ is correlated with Default | P-Value: 0.0002367939320576643\n",
      "installment is correlated with Default | P-Value: 0.022035486306960176\n",
      "status is correlated with Default | P-Value: 0.005261326205666935\n",
      "others is NOT correlated with Default | P-Value: 0.427180494598151\n",
      "residence is NOT correlated with Default | P-Value: 0.9253374212983783\n",
      "property is correlated with Default | P-Value: 5.97405808733942e-06\n",
      "age is correlated with Default | P-Value: 0.003925339398278295\n",
      "otherplans is correlated with Default | P-Value: 0.00050185291702098\n",
      "housing is NOT correlated with Default | P-Value: 0.5418037557357928\n",
      "cards is NOT correlated with Default | P-Value: 0.1484197860805063\n",
      "job is NOT correlated with Default | P-Value: 0.30106413708867547\n",
      "liable is NOT correlated with Default | P-Value: 0.9241408780993021\n",
      "tele is NOT correlated with Default | P-Value: 0.2492787112324193\n",
      "foreign is correlated with Default | P-Value: 0.00941192007530607\n"
     ]
    },
    {
     "data": {
      "text/plain": [
       "['Default',\n",
       " 'checkingstatus1',\n",
       " 'duration',\n",
       " 'history',\n",
       " 'amount',\n",
       " 'savings',\n",
       " 'employ',\n",
       " 'installment',\n",
       " 'status',\n",
       " 'property',\n",
       " 'age',\n",
       " 'otherplans',\n",
       " 'foreign']"
      ]
     },
     "execution_count": 124,
     "metadata": {},
     "output_type": "execute_result"
    }
   ],
   "source": [
    "# Calling the function to check which variables are correlated with target\n",
    "\n",
    "FunctionAnova(inpData=data_encoded, TargetVariable='Default', ContinuousPredictorList=data_encoded.columns.tolist())"
   ]
  },
  {
   "cell_type": "code",
   "execution_count": 125,
   "id": "88600733",
   "metadata": {},
   "outputs": [],
   "source": [
    "Corr_var = ['checkingstatus1', 'duration', 'history', 'amount', 'savings', 'employ','installment','status','property','age','otherplans','foreign' ]\n",
    "x_Corr = data_encoded.loc[:, ['checkingstatus1', 'duration', 'history', 'amount', 'savings', 'employ','installment','status','property','age','otherplans','foreign' ]]\n",
    "y_Corr = data_encoded.loc[:, ['Default']]\n"
   ]
  },
  {
   "cell_type": "code",
   "execution_count": 126,
   "id": "eed87556",
   "metadata": {},
   "outputs": [
    {
     "data": {
      "text/plain": [
       "(800, 20)"
      ]
     },
     "execution_count": 126,
     "metadata": {},
     "output_type": "execute_result"
    }
   ],
   "source": [
    "#Spliting the data in 80:20 training to testing\n",
    "from sklearn.model_selection import train_test_split\n",
    "Xtrain, Xtest, Ytrain, Ytest = train_test_split(x_Corr, y_Corr, test_size = 0.2, random_state = 0)\n",
    "\n",
    "# Scaling\n",
    "\n",
    "#Applying MinMaxScaler\n",
    "from sklearn.preprocessing import MinMaxScaler\n",
    "scaler=MinMaxScaler()\n",
    "Xtrain = scaler.fit_transform(x_train)\n",
    "Xtest = scaler.transform(x_test)\n",
    "Xtrain.shape"
   ]
  },
  {
   "cell_type": "code",
   "execution_count": 127,
   "id": "d7beccda",
   "metadata": {},
   "outputs": [
    {
     "name": "stdout",
     "output_type": "stream",
     "text": [
      "[18:49:07] WARNING: C:/Users/Administrator/workspace/xgboost-win64_release_1.5.1/src/learner.cc:1115: Starting in XGBoost 1.3.0, the default evaluation metric used with the objective 'binary:logistic' was changed from 'error' to 'logloss'. Explicitly set eval_metric if you'd like to restore the old behavior.\n",
      "[18:49:07] WARNING: C:/Users/Administrator/workspace/xgboost-win64_release_1.5.1/src/learner.cc:1115: Starting in XGBoost 1.3.0, the default evaluation metric used with the objective 'binary:logistic' was changed from 'error' to 'logloss'. Explicitly set eval_metric if you'd like to restore the old behavior.\n",
      "[18:49:07] WARNING: C:/Users/Administrator/workspace/xgboost-win64_release_1.5.1/src/learner.cc:1115: Starting in XGBoost 1.3.0, the default evaluation metric used with the objective 'binary:logistic' was changed from 'error' to 'logloss'. Explicitly set eval_metric if you'd like to restore the old behavior.\n",
      "[18:49:07] WARNING: C:/Users/Administrator/workspace/xgboost-win64_release_1.5.1/src/learner.cc:1115: Starting in XGBoost 1.3.0, the default evaluation metric used with the objective 'binary:logistic' was changed from 'error' to 'logloss'. Explicitly set eval_metric if you'd like to restore the old behavior.\n",
      "[18:49:08] WARNING: C:/Users/Administrator/workspace/xgboost-win64_release_1.5.1/src/learner.cc:1115: Starting in XGBoost 1.3.0, the default evaluation metric used with the objective 'binary:logistic' was changed from 'error' to 'logloss'. Explicitly set eval_metric if you'd like to restore the old behavior.\n",
      "[18:49:08] WARNING: C:/Users/Administrator/workspace/xgboost-win64_release_1.5.1/src/learner.cc:1115: Starting in XGBoost 1.3.0, the default evaluation metric used with the objective 'binary:logistic' was changed from 'error' to 'logloss'. Explicitly set eval_metric if you'd like to restore the old behavior.\n",
      "[18:49:08] WARNING: C:/Users/Administrator/workspace/xgboost-win64_release_1.5.1/src/learner.cc:1115: Starting in XGBoost 1.3.0, the default evaluation metric used with the objective 'binary:logistic' was changed from 'error' to 'logloss'. Explicitly set eval_metric if you'd like to restore the old behavior.\n",
      "[18:49:08] WARNING: C:/Users/Administrator/workspace/xgboost-win64_release_1.5.1/src/learner.cc:1115: Starting in XGBoost 1.3.0, the default evaluation metric used with the objective 'binary:logistic' was changed from 'error' to 'logloss'. Explicitly set eval_metric if you'd like to restore the old behavior.\n",
      "[18:49:08] WARNING: C:/Users/Administrator/workspace/xgboost-win64_release_1.5.1/src/learner.cc:1115: Starting in XGBoost 1.3.0, the default evaluation metric used with the objective 'binary:logistic' was changed from 'error' to 'logloss'. Explicitly set eval_metric if you'd like to restore the old behavior.\n",
      "[18:49:08] WARNING: C:/Users/Administrator/workspace/xgboost-win64_release_1.5.1/src/learner.cc:1115: Starting in XGBoost 1.3.0, the default evaluation metric used with the objective 'binary:logistic' was changed from 'error' to 'logloss'. Explicitly set eval_metric if you'd like to restore the old behavior.\n",
      "[18:49:08] WARNING: C:/Users/Administrator/workspace/xgboost-win64_release_1.5.1/src/learner.cc:1115: Starting in XGBoost 1.3.0, the default evaluation metric used with the objective 'binary:logistic' was changed from 'error' to 'logloss'. Explicitly set eval_metric if you'd like to restore the old behavior.\n"
     ]
    }
   ],
   "source": [
    "num_folds = 10\n",
    "scoring = 'accuracy'\n",
    "\n",
    "\n",
    "names = []\n",
    "kfold_results_Anova = []\n",
    "test_results_Anova = []\n",
    "train_results_Anova = []\n",
    "for name, model in models: \n",
    "    names.append(name)\n",
    "    ## k-fold analysis:\n",
    "    kfold = KFold(n_splits=num_folds,shuffle=True, random_state= 10)\n",
    "    #converted mean squared error to positive. The lower the better\n",
    "    cv_results = 1* cross_val_score(model, Xtrain, Ytrain, cv=kfold, \\\n",
    "    scoring=scoring)\n",
    "    kfold_results_Anova.append(cv_results)\n",
    "    # Full Training period\n",
    "    res = model.fit(Xtrain, Ytrain)\n",
    "    train_result = accuracy_score(res.predict(Xtrain), Ytrain)*100\n",
    "    train_results_Anova.append(train_result)\n",
    "    # Test results\n",
    "    test_result = accuracy_score(res.predict(Xtest), Ytest)*100\n",
    "    test_results_Anova.append(test_result)"
   ]
  },
  {
   "cell_type": "code",
   "execution_count": 128,
   "id": "a73d45b5",
   "metadata": {},
   "outputs": [
    {
     "data": {
      "image/png": "[encoded data removed]",
      "text/plain": [
       "<Figure size 1080x576 with 1 Axes>"
      ]
     },
     "metadata": {
      "needs_background": "light"
     },
     "output_type": "display_data"
    }
   ],
   "source": [
    "# compare algorithms\n",
    "fig = pyplot.figure()\n",
    "ind = np.arange(len(names)) # the x locations for the groups\n",
    "width = 0.35 # the width of the bars\n",
    "fig.suptitle('Algorithm Comparison')\n",
    "ax = fig.add_subplot(111)\n",
    "pyplot.bar(ind - width/2, train_results_Anova, width=width, label='Train acc')\n",
    "pyplot.bar(ind + width/2, test_results_Anova, width=width, label='Test acc')\n",
    "fig.set_size_inches(15,8)\n",
    "pyplot.legend()\n",
    "ax.set_xticks(ind)\n",
    "ax.set_xticklabels(names)\n",
    "pyplot.show()"
   ]
  },
  {
   "cell_type": "code",
   "execution_count": 129,
   "id": "ef3b989f",
   "metadata": {},
   "outputs": [
    {
     "data": {
      "image/png": "[encoded data removed]",
      "text/plain": [
       "<Figure size 864x576 with 1 Axes>"
      ]
     },
     "metadata": {
      "needs_background": "light"
     },
     "output_type": "display_data"
    }
   ],
   "source": [
    "plt.figure(figsize = (12,8))\n",
    "plt.barh(names, test_results_Anova)\n",
    " \n",
    "for index, value in enumerate(test_results_Anova):\n",
    "    plt.text(value, index,\n",
    "             str(value))\n",
    "plt.title(\"Algorithms comparision based on Test accuracy\") \n",
    "plt.show()"
   ]
  },
  {
   "cell_type": "markdown",
   "id": "35dc60cb",
   "metadata": {},
   "source": [
    "## Select Logistic regression as the Best Model"
   ]
  },
  {
   "cell_type": "code",
   "execution_count": 130,
   "id": "f08adf2f",
   "metadata": {},
   "outputs": [
    {
     "data": {
      "image/png": "[encoded data removed]",
      "text/plain": [
       "<Figure size 432x288 with 1 Axes>"
      ]
     },
     "metadata": {
      "needs_background": "light"
     },
     "output_type": "display_data"
    },
    {
     "name": "stdout",
     "output_type": "stream",
     "text": [
      "Logistic Regression model accuracy(in %): 76.5\n",
      "              precision    recall  f1-score   support\n",
      "\n",
      "           0     0.8276    0.8451    0.8362       142\n",
      "           1     0.6000    0.5690    0.5841        58\n",
      "\n",
      "    accuracy                         0.7650       200\n",
      "   macro avg     0.7138    0.7070    0.7102       200\n",
      "weighted avg     0.7616    0.7650    0.7631       200\n",
      "\n"
     ]
    },
    {
     "data": {
      "image/png": "[encoded data removed]",
      "text/plain": [
       "<Figure size 432x288 with 2 Axes>"
      ]
     },
     "metadata": {
      "needs_background": "light"
     },
     "output_type": "display_data"
    }
   ],
   "source": [
    "from sklearn.linear_model import LogisticRegression\n",
    "from sklearn.metrics import confusion_matrix\n",
    "from sklearn.metrics import accuracy_score\n",
    "from sklearn.metrics import plot_confusion_matrix\n",
    "\n",
    " \n",
    "model_1 = LogisticRegression()\n",
    "\n",
    "# fitting the model on the train data\n",
    "model_1.fit(Xtrain, Ytrain)\n",
    "\n",
    "from sklearn import metrics\n",
    "metrics.plot_roc_curve(model_1, Xtest, Ytest)\n",
    "plt.show()\n",
    "\n",
    "predictions = model_1.predict(Xtest)\n",
    "print(\"Logistic Regression model accuracy(in %):\", accuracy_score(Ytest, predictions)*100)\n",
    "plot_confusion_matrix(model_1,Xtest,Ytest,cmap='Blues')\n",
    "plt.grid(False)\n",
    "\n",
    "from sklearn.metrics import classification_report\n",
    "print(classification_report(Ytest, predictions, digits = 4))"
   ]
  },
  {
   "cell_type": "code",
   "execution_count": 131,
   "id": "3738b920",
   "metadata": {},
   "outputs": [
    {
     "data": {
      "text/plain": [
       "array([[-1.61982003,  1.77999882, -1.56775188, -0.10734385,  1.15541051,\n",
       "        -0.93690145, -0.65274643,  0.84575253, -0.68257879, -0.70608491,\n",
       "         0.02654097,  0.80664136, -0.26955544, -0.43730346, -0.81993888,\n",
       "         0.53649035,  0.10099705,  0.3048576 , -0.34914887, -0.84062033]])"
      ]
     },
     "execution_count": 131,
     "metadata": {},
     "output_type": "execute_result"
    }
   ],
   "source": [
    "model_1.coef_"
   ]
  },
  {
   "cell_type": "code",
   "execution_count": 132,
   "id": "d266e3ec",
   "metadata": {},
   "outputs": [
    {
     "data": {
      "text/plain": [
       "array([1.11379478])"
      ]
     },
     "execution_count": 132,
     "metadata": {},
     "output_type": "execute_result"
    }
   ],
   "source": [
    "model_1.intercept_"
   ]
  },
  {
   "cell_type": "markdown",
   "id": "27f2662c",
   "metadata": {},
   "source": [
    "# Tuning the final Model"
   ]
  },
  {
   "cell_type": "code",
   "execution_count": 133,
   "id": "1b638a3c",
   "metadata": {},
   "outputs": [
    {
     "data": {
      "image/png": "[encoded data removed]",
      "text/plain": [
       "<Figure size 432x288 with 1 Axes>"
      ]
     },
     "metadata": {
      "needs_background": "light"
     },
     "output_type": "display_data"
    },
    {
     "name": "stdout",
     "output_type": "stream",
     "text": [
      "Logistic Regression model accuracy(in %): 76.5\n",
      "              precision    recall  f1-score   support\n",
      "\n",
      "           0     0.8276    0.8451    0.8362       142\n",
      "           1     0.6000    0.5690    0.5841        58\n",
      "\n",
      "    accuracy                         0.7650       200\n",
      "   macro avg     0.7138    0.7070    0.7102       200\n",
      "weighted avg     0.7616    0.7650    0.7631       200\n",
      "\n"
     ]
    },
    {
     "data": {
      "image/png": "[encoded data removed]",
      "text/plain": [
       "<Figure size 432x288 with 2 Axes>"
      ]
     },
     "metadata": {
      "needs_background": "light"
     },
     "output_type": "display_data"
    }
   ],
   "source": [
    "\n",
    "model_1 = LogisticRegression(penalty='l2',tol=0.0005, max_iter=1000 )\n",
    "# fitting the model on the train data\n",
    "model_1.fit(Xtrain, Ytrain)\n",
    "\n",
    "from sklearn import metrics\n",
    "metrics.plot_roc_curve(model_1, Xtest, Ytest)\n",
    "plt.show()\n",
    "\n",
    "predictions = model_1.predict(Xtest)\n",
    "print(\"Logistic Regression model accuracy(in %):\", accuracy_score(Ytest, predictions)*100)\n",
    "plot_confusion_matrix(model_1,Xtest,Ytest,cmap='Blues')\n",
    "plt.grid(False)\n",
    "\n",
    "from sklearn.metrics import classification_report\n",
    "print(classification_report(Ytest, predictions, digits = 4))\n",
    "\n"
   ]
  },
  {
   "cell_type": "code",
   "execution_count": null,
   "id": "ad1b0653",
   "metadata": {},
   "outputs": [],
   "source": []
  }
 ],
 "metadata": {
  "kernelspec": {
   "display_name": "Python 3 (ipykernel)",
   "language": "python",
   "name": "python3"
  },
  "language_info": {
   "codemirror_mode": {
    "name": "ipython",
    "version": 3
   },
   "file_extension": ".py",
   "mimetype": "text/x-python",
   "name": "python",
   "nbconvert_exporter": "python",
   "pygments_lexer": "ipython3",
   "version": "3.9.1"
  }
 },
 "nbformat": 4,
 "nbformat_minor": 5
}
